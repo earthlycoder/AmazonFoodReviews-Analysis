{
 "cells": [
  {
   "cell_type": "markdown",
   "metadata": {
    "colab_type": "text",
    "id": "IXmtUCbYiWM3"
   },
   "source": [
    "# Amazon Fine Food Reviews Analysis\n",
    "\n",
    "\n",
    "Data Source: https://www.kaggle.com/snap/amazon-fine-food-reviews <br>\n",
    "\n",
    "EDA: https://nycdatascience.com/blog/student-works/amazon-fine-foods-visualization/\n",
    "\n",
    "\n",
    "The Amazon Fine Food Reviews dataset consists of reviews of fine foods from Amazon.<br>\n",
    "\n",
    "Number of reviews: 568,454<br>\n",
    "Number of users: 256,059<br>\n",
    "Number of products: 74,258<br>\n",
    "Timespan: Oct 1999 - Oct 2012<br>\n",
    "Number of Attributes/Columns in data: 10 \n",
    "\n",
    "Attribute Information:\n",
    "\n",
    "1. Id\n",
    "2. ProductId - unique identifier for the product\n",
    "3. UserId - unqiue identifier for the user\n",
    "4. ProfileName\n",
    "5. HelpfulnessNumerator - number of users who found the review helpful\n",
    "6. HelpfulnessDenominator - number of users who indicated whether they found the review helpful or not\n",
    "7. Score - rating between 1 and 5\n",
    "8. Time - timestamp for the review\n",
    "9. Summary - brief summary of the review\n",
    "10. Text - text of the review\n",
    "\n",
    "\n",
    "#### Objective:\n",
    "Given a review, determine whether the review is positive (rating of 4 or 5) or negative (rating of 1 or 2).\n",
    "\n",
    "<br>\n",
    "[Q] How to determine if a review is positive or negative?<br>\n",
    "<br> \n",
    "[Ans] We could use Score/Rating. A rating of 4 or 5 can be cosnidered as a positive review. A rating of 1 or 2 can be considered as negative one. A review of rating 3 is considered nuetral and such reviews are ignored from our analysis. This is an approximate and proxy way of determining the polarity (positivity/negativity) of a review.\n",
    "\n",
    "\n"
   ]
  },
  {
   "cell_type": "markdown",
   "metadata": {
    "colab_type": "text",
    "id": "syeYHDR_iWM7"
   },
   "source": [
    "# [1]. Reading Data"
   ]
  },
  {
   "cell_type": "markdown",
   "metadata": {
    "colab_type": "text",
    "id": "D_eZrQC0iWM9"
   },
   "source": [
    "## [1.1] Loading the data\n",
    "\n",
    "The dataset is available in two forms\n",
    "1. .csv file\n",
    "2. SQLite Database\n",
    "\n",
    "In order to load the data, We have used the SQLITE dataset as it is easier to query the data and visualise the data efficiently.\n",
    "<br> \n",
    "\n",
    "Here as we only want to get the global sentiment of the recommendations (positive or negative), we will purposefully ignore all Scores equal to 3. If the score is above 3, then the recommendation wil be set to \"positive\". Otherwise, it will be set to \"negative\"."
   ]
  },
  {
   "cell_type": "code",
   "execution_count": 1,
   "metadata": {
    "colab": {},
    "colab_type": "code",
    "id": "53fLFqf8iWNA"
   },
   "outputs": [
    {
     "name": "stderr",
     "output_type": "stream",
     "text": [
      "C:\\Users\\babarohitk\\Anaconda3\\lib\\site-packages\\gensim\\utils.py:1197: UserWarning: detected Windows; aliasing chunkize to chunkize_serial\n",
      "  warnings.warn(\"detected Windows; aliasing chunkize to chunkize_serial\")\n"
     ]
    }
   ],
   "source": [
    "%matplotlib inline\n",
    "import warnings\n",
    "warnings.filterwarnings(\"ignore\")\n",
    "\n",
    "\n",
    "import sqlite3\n",
    "import pandas as pd\n",
    "import numpy as np\n",
    "import nltk\n",
    "import string\n",
    "import matplotlib.pyplot as plt\n",
    "import seaborn as sns\n",
    "from sklearn.feature_extraction.text import TfidfTransformer\n",
    "from sklearn.feature_extraction.text import TfidfVectorizer\n",
    "\n",
    "from sklearn.feature_extraction.text import CountVectorizer\n",
    "from sklearn.metrics import confusion_matrix\n",
    "from sklearn.model_selection import train_test_split\n",
    "from sklearn import metrics\n",
    "from sklearn.metrics import roc_curve, auc\n",
    "from nltk.stem.porter import PorterStemmer\n",
    "\n",
    "import re\n",
    "# Tutorial about Python regular expressions: https://pymotw.com/2/re/\n",
    "import string\n",
    "from nltk.corpus import stopwords\n",
    "from nltk.stem import PorterStemmer\n",
    "from nltk.stem.wordnet import WordNetLemmatizer\n",
    "\n",
    "from gensim.models import Word2Vec\n",
    "from gensim.models import KeyedVectors\n",
    "import pickle\n",
    "\n",
    "from tqdm import tqdm\n",
    "import os"
   ]
  },
  {
   "cell_type": "code",
   "execution_count": 2,
   "metadata": {
    "colab": {},
    "colab_type": "code",
    "id": "j3kshrC-iWNI",
    "outputId": "07826916-2c3f-4a0a-e928-ddbc6d567a11"
   },
   "outputs": [
    {
     "name": "stdout",
     "output_type": "stream",
     "text": [
      "Number of data points in our data (500000, 10)\n"
     ]
    },
    {
     "data": {
      "text/html": [
       "<div>\n",
       "<style scoped>\n",
       "    .dataframe tbody tr th:only-of-type {\n",
       "        vertical-align: middle;\n",
       "    }\n",
       "\n",
       "    .dataframe tbody tr th {\n",
       "        vertical-align: top;\n",
       "    }\n",
       "\n",
       "    .dataframe thead th {\n",
       "        text-align: right;\n",
       "    }\n",
       "</style>\n",
       "<table border=\"1\" class=\"dataframe\">\n",
       "  <thead>\n",
       "    <tr style=\"text-align: right;\">\n",
       "      <th></th>\n",
       "      <th>Id</th>\n",
       "      <th>ProductId</th>\n",
       "      <th>UserId</th>\n",
       "      <th>ProfileName</th>\n",
       "      <th>HelpfulnessNumerator</th>\n",
       "      <th>HelpfulnessDenominator</th>\n",
       "      <th>Score</th>\n",
       "      <th>Time</th>\n",
       "      <th>Summary</th>\n",
       "      <th>Text</th>\n",
       "    </tr>\n",
       "  </thead>\n",
       "  <tbody>\n",
       "    <tr>\n",
       "      <th>0</th>\n",
       "      <td>1</td>\n",
       "      <td>B001E4KFG0</td>\n",
       "      <td>A3SGXH7AUHU8GW</td>\n",
       "      <td>delmartian</td>\n",
       "      <td>1</td>\n",
       "      <td>1</td>\n",
       "      <td>1</td>\n",
       "      <td>1303862400</td>\n",
       "      <td>Good Quality Dog Food</td>\n",
       "      <td>I have bought several of the Vitality canned d...</td>\n",
       "    </tr>\n",
       "    <tr>\n",
       "      <th>1</th>\n",
       "      <td>2</td>\n",
       "      <td>B00813GRG4</td>\n",
       "      <td>A1D87F6ZCVE5NK</td>\n",
       "      <td>dll pa</td>\n",
       "      <td>0</td>\n",
       "      <td>0</td>\n",
       "      <td>0</td>\n",
       "      <td>1346976000</td>\n",
       "      <td>Not as Advertised</td>\n",
       "      <td>Product arrived labeled as Jumbo Salted Peanut...</td>\n",
       "    </tr>\n",
       "    <tr>\n",
       "      <th>2</th>\n",
       "      <td>3</td>\n",
       "      <td>B000LQOCH0</td>\n",
       "      <td>ABXLMWJIXXAIN</td>\n",
       "      <td>Natalia Corres \"Natalia Corres\"</td>\n",
       "      <td>1</td>\n",
       "      <td>1</td>\n",
       "      <td>1</td>\n",
       "      <td>1219017600</td>\n",
       "      <td>\"Delight\" says it all</td>\n",
       "      <td>This is a confection that has been around a fe...</td>\n",
       "    </tr>\n",
       "  </tbody>\n",
       "</table>\n",
       "</div>"
      ],
      "text/plain": [
       "   Id   ProductId          UserId                      ProfileName  \\\n",
       "0   1  B001E4KFG0  A3SGXH7AUHU8GW                       delmartian   \n",
       "1   2  B00813GRG4  A1D87F6ZCVE5NK                           dll pa   \n",
       "2   3  B000LQOCH0   ABXLMWJIXXAIN  Natalia Corres \"Natalia Corres\"   \n",
       "\n",
       "   HelpfulnessNumerator  HelpfulnessDenominator  Score        Time  \\\n",
       "0                     1                       1      1  1303862400   \n",
       "1                     0                       0      0  1346976000   \n",
       "2                     1                       1      1  1219017600   \n",
       "\n",
       "                 Summary                                               Text  \n",
       "0  Good Quality Dog Food  I have bought several of the Vitality canned d...  \n",
       "1      Not as Advertised  Product arrived labeled as Jumbo Salted Peanut...  \n",
       "2  \"Delight\" says it all  This is a confection that has been around a fe...  "
      ]
     },
     "execution_count": 2,
     "metadata": {},
     "output_type": "execute_result"
    }
   ],
   "source": [
    "# using SQLite Table to read data.\n",
    "con = sqlite3.connect('database.sqlite') \n",
    "\n",
    "# filtering only positive and negative reviews i.e. \n",
    "# not taking into consideration those reviews with Score=3\n",
    "# SELECT * FROM Reviews WHERE Score != 3 LIMIT 500000, will give top 500000 data points\n",
    "# you can change the number to any other number based on your computing power\n",
    "\n",
    "# filtered_data = pd.read_sql_query(\"\"\" SELECT * FROM Reviews WHERE Score != 3 LIMIT 500000\"\"\", con) \n",
    "# for tsne assignment you can take 5k data points\n",
    "\n",
    "filtered_data = pd.read_sql_query(\"\"\" SELECT * FROM Reviews WHERE Score != 3 LIMIT 500000\"\"\", con) \n",
    "\n",
    "# Give reviews with Score>3 a positive rating(1), and reviews with a score<3 a negative rating(0).\n",
    "def partition(x):\n",
    "    if x < 3:\n",
    "        return 0\n",
    "    return 1\n",
    "\n",
    "#changing reviews with score less than 3 to be positive and vice-versa\n",
    "actualScore = filtered_data['Score']\n",
    "positiveNegative = actualScore.map(partition) \n",
    "filtered_data['Score'] = positiveNegative\n",
    "print(\"Number of data points in our data\", filtered_data.shape)\n",
    "filtered_data.head(3)"
   ]
  },
  {
   "cell_type": "code",
   "execution_count": 3,
   "metadata": {
    "colab": {},
    "colab_type": "code",
    "id": "-7Iy8yWfiWNR"
   },
   "outputs": [],
   "source": [
    "display = pd.read_sql_query(\"\"\"\n",
    "SELECT UserId, ProductId, ProfileName, Time, Score, Text, COUNT(*)\n",
    "FROM Reviews\n",
    "GROUP BY UserId\n",
    "HAVING COUNT(*)>1\n",
    "\"\"\", con)"
   ]
  },
  {
   "cell_type": "code",
   "execution_count": 4,
   "metadata": {
    "colab": {},
    "colab_type": "code",
    "id": "wuK6OYpOiWNV",
    "outputId": "5cb5082e-47b9-4d4b-cf90-fc6ffe0dceeb",
    "scrolled": true
   },
   "outputs": [
    {
     "name": "stdout",
     "output_type": "stream",
     "text": [
      "(80668, 7)\n"
     ]
    },
    {
     "data": {
      "text/html": [
       "<div>\n",
       "<style scoped>\n",
       "    .dataframe tbody tr th:only-of-type {\n",
       "        vertical-align: middle;\n",
       "    }\n",
       "\n",
       "    .dataframe tbody tr th {\n",
       "        vertical-align: top;\n",
       "    }\n",
       "\n",
       "    .dataframe thead th {\n",
       "        text-align: right;\n",
       "    }\n",
       "</style>\n",
       "<table border=\"1\" class=\"dataframe\">\n",
       "  <thead>\n",
       "    <tr style=\"text-align: right;\">\n",
       "      <th></th>\n",
       "      <th>UserId</th>\n",
       "      <th>ProductId</th>\n",
       "      <th>ProfileName</th>\n",
       "      <th>Time</th>\n",
       "      <th>Score</th>\n",
       "      <th>Text</th>\n",
       "      <th>COUNT(*)</th>\n",
       "    </tr>\n",
       "  </thead>\n",
       "  <tbody>\n",
       "    <tr>\n",
       "      <th>0</th>\n",
       "      <td>#oc-R115TNMSPFT9I7</td>\n",
       "      <td>B007Y59HVM</td>\n",
       "      <td>Breyton</td>\n",
       "      <td>1331510400</td>\n",
       "      <td>2</td>\n",
       "      <td>Overall its just OK when considering the price...</td>\n",
       "      <td>2</td>\n",
       "    </tr>\n",
       "    <tr>\n",
       "      <th>1</th>\n",
       "      <td>#oc-R11D9D7SHXIJB9</td>\n",
       "      <td>B005HG9ET0</td>\n",
       "      <td>Louis E. Emory \"hoppy\"</td>\n",
       "      <td>1342396800</td>\n",
       "      <td>5</td>\n",
       "      <td>My wife has recurring extreme muscle spasms, u...</td>\n",
       "      <td>3</td>\n",
       "    </tr>\n",
       "    <tr>\n",
       "      <th>2</th>\n",
       "      <td>#oc-R11DNU2NBKQ23Z</td>\n",
       "      <td>B007Y59HVM</td>\n",
       "      <td>Kim Cieszykowski</td>\n",
       "      <td>1348531200</td>\n",
       "      <td>1</td>\n",
       "      <td>This coffee is horrible and unfortunately not ...</td>\n",
       "      <td>2</td>\n",
       "    </tr>\n",
       "    <tr>\n",
       "      <th>3</th>\n",
       "      <td>#oc-R11O5J5ZVQE25C</td>\n",
       "      <td>B005HG9ET0</td>\n",
       "      <td>Penguin Chick</td>\n",
       "      <td>1346889600</td>\n",
       "      <td>5</td>\n",
       "      <td>This will be the bottle that you grab from the...</td>\n",
       "      <td>3</td>\n",
       "    </tr>\n",
       "    <tr>\n",
       "      <th>4</th>\n",
       "      <td>#oc-R12KPBODL2B5ZD</td>\n",
       "      <td>B007OSBE1U</td>\n",
       "      <td>Christopher P. Presta</td>\n",
       "      <td>1348617600</td>\n",
       "      <td>1</td>\n",
       "      <td>I didnt like this coffee. Instead of telling y...</td>\n",
       "      <td>2</td>\n",
       "    </tr>\n",
       "  </tbody>\n",
       "</table>\n",
       "</div>"
      ],
      "text/plain": [
       "               UserId   ProductId             ProfileName        Time  Score  \\\n",
       "0  #oc-R115TNMSPFT9I7  B007Y59HVM                 Breyton  1331510400      2   \n",
       "1  #oc-R11D9D7SHXIJB9  B005HG9ET0  Louis E. Emory \"hoppy\"  1342396800      5   \n",
       "2  #oc-R11DNU2NBKQ23Z  B007Y59HVM        Kim Cieszykowski  1348531200      1   \n",
       "3  #oc-R11O5J5ZVQE25C  B005HG9ET0           Penguin Chick  1346889600      5   \n",
       "4  #oc-R12KPBODL2B5ZD  B007OSBE1U   Christopher P. Presta  1348617600      1   \n",
       "\n",
       "                                                Text  COUNT(*)  \n",
       "0  Overall its just OK when considering the price...         2  \n",
       "1  My wife has recurring extreme muscle spasms, u...         3  \n",
       "2  This coffee is horrible and unfortunately not ...         2  \n",
       "3  This will be the bottle that you grab from the...         3  \n",
       "4  I didnt like this coffee. Instead of telling y...         2  "
      ]
     },
     "execution_count": 4,
     "metadata": {},
     "output_type": "execute_result"
    }
   ],
   "source": [
    "print(display.shape)\n",
    "display.head()"
   ]
  },
  {
   "cell_type": "code",
   "execution_count": 5,
   "metadata": {
    "colab": {},
    "colab_type": "code",
    "id": "OMKVKkH7iWNZ",
    "outputId": "acc9d31a-27a1-48a1-d2f2-ce1f2e511793"
   },
   "outputs": [
    {
     "data": {
      "text/html": [
       "<div>\n",
       "<style scoped>\n",
       "    .dataframe tbody tr th:only-of-type {\n",
       "        vertical-align: middle;\n",
       "    }\n",
       "\n",
       "    .dataframe tbody tr th {\n",
       "        vertical-align: top;\n",
       "    }\n",
       "\n",
       "    .dataframe thead th {\n",
       "        text-align: right;\n",
       "    }\n",
       "</style>\n",
       "<table border=\"1\" class=\"dataframe\">\n",
       "  <thead>\n",
       "    <tr style=\"text-align: right;\">\n",
       "      <th></th>\n",
       "      <th>UserId</th>\n",
       "      <th>ProductId</th>\n",
       "      <th>ProfileName</th>\n",
       "      <th>Time</th>\n",
       "      <th>Score</th>\n",
       "      <th>Text</th>\n",
       "      <th>COUNT(*)</th>\n",
       "    </tr>\n",
       "  </thead>\n",
       "  <tbody>\n",
       "    <tr>\n",
       "      <th>80638</th>\n",
       "      <td>AZY10LLTJ71NX</td>\n",
       "      <td>B006P7E5ZI</td>\n",
       "      <td>undertheshrine \"undertheshrine\"</td>\n",
       "      <td>1334707200</td>\n",
       "      <td>5</td>\n",
       "      <td>I was recommended to try green tea extract to ...</td>\n",
       "      <td>5</td>\n",
       "    </tr>\n",
       "  </tbody>\n",
       "</table>\n",
       "</div>"
      ],
      "text/plain": [
       "              UserId   ProductId                      ProfileName        Time  \\\n",
       "80638  AZY10LLTJ71NX  B006P7E5ZI  undertheshrine \"undertheshrine\"  1334707200   \n",
       "\n",
       "       Score                                               Text  COUNT(*)  \n",
       "80638      5  I was recommended to try green tea extract to ...         5  "
      ]
     },
     "execution_count": 5,
     "metadata": {},
     "output_type": "execute_result"
    }
   ],
   "source": [
    "display[display['UserId']=='AZY10LLTJ71NX']"
   ]
  },
  {
   "cell_type": "code",
   "execution_count": 6,
   "metadata": {
    "colab": {},
    "colab_type": "code",
    "id": "s37uqS_jiWNe",
    "outputId": "489f08d4-48a2-4e82-bfc1-4f982f35b2e4"
   },
   "outputs": [
    {
     "data": {
      "text/plain": [
       "393063"
      ]
     },
     "execution_count": 6,
     "metadata": {},
     "output_type": "execute_result"
    }
   ],
   "source": [
    "display['COUNT(*)'].sum()"
   ]
  },
  {
   "cell_type": "markdown",
   "metadata": {
    "colab_type": "text",
    "id": "efnNNqNfiWNh"
   },
   "source": [
    "#  [2] Exploratory Data Analysis"
   ]
  },
  {
   "cell_type": "markdown",
   "metadata": {
    "colab_type": "text",
    "id": "Eq0hnbxhiWNi"
   },
   "source": [
    "## [2.1] Data Cleaning: Deduplication\n",
    "\n",
    "It is observed (as shown in the table below) that the reviews data had many duplicate entries. Hence it was necessary to remove duplicates in order to get unbiased results for the analysis of the data.  Following is an example:"
   ]
  },
  {
   "cell_type": "code",
   "execution_count": 7,
   "metadata": {
    "colab": {},
    "colab_type": "code",
    "id": "3CKLJ2FFiWNj",
    "outputId": "c995e0c8-7ef1-48a0-d7a9-b0cc50efaa83",
    "scrolled": false
   },
   "outputs": [
    {
     "data": {
      "text/html": [
       "<div>\n",
       "<style scoped>\n",
       "    .dataframe tbody tr th:only-of-type {\n",
       "        vertical-align: middle;\n",
       "    }\n",
       "\n",
       "    .dataframe tbody tr th {\n",
       "        vertical-align: top;\n",
       "    }\n",
       "\n",
       "    .dataframe thead th {\n",
       "        text-align: right;\n",
       "    }\n",
       "</style>\n",
       "<table border=\"1\" class=\"dataframe\">\n",
       "  <thead>\n",
       "    <tr style=\"text-align: right;\">\n",
       "      <th></th>\n",
       "      <th>Id</th>\n",
       "      <th>ProductId</th>\n",
       "      <th>UserId</th>\n",
       "      <th>ProfileName</th>\n",
       "      <th>HelpfulnessNumerator</th>\n",
       "      <th>HelpfulnessDenominator</th>\n",
       "      <th>Score</th>\n",
       "      <th>Time</th>\n",
       "      <th>Summary</th>\n",
       "      <th>Text</th>\n",
       "    </tr>\n",
       "  </thead>\n",
       "  <tbody>\n",
       "    <tr>\n",
       "      <th>0</th>\n",
       "      <td>78445</td>\n",
       "      <td>B000HDL1RQ</td>\n",
       "      <td>AR5J8UI46CURR</td>\n",
       "      <td>Geetha Krishnan</td>\n",
       "      <td>2</td>\n",
       "      <td>2</td>\n",
       "      <td>5</td>\n",
       "      <td>1199577600</td>\n",
       "      <td>LOACKER QUADRATINI VANILLA WAFERS</td>\n",
       "      <td>DELICIOUS WAFERS. I FIND THAT EUROPEAN WAFERS ...</td>\n",
       "    </tr>\n",
       "    <tr>\n",
       "      <th>1</th>\n",
       "      <td>138317</td>\n",
       "      <td>B000HDOPYC</td>\n",
       "      <td>AR5J8UI46CURR</td>\n",
       "      <td>Geetha Krishnan</td>\n",
       "      <td>2</td>\n",
       "      <td>2</td>\n",
       "      <td>5</td>\n",
       "      <td>1199577600</td>\n",
       "      <td>LOACKER QUADRATINI VANILLA WAFERS</td>\n",
       "      <td>DELICIOUS WAFERS. I FIND THAT EUROPEAN WAFERS ...</td>\n",
       "    </tr>\n",
       "    <tr>\n",
       "      <th>2</th>\n",
       "      <td>138277</td>\n",
       "      <td>B000HDOPYM</td>\n",
       "      <td>AR5J8UI46CURR</td>\n",
       "      <td>Geetha Krishnan</td>\n",
       "      <td>2</td>\n",
       "      <td>2</td>\n",
       "      <td>5</td>\n",
       "      <td>1199577600</td>\n",
       "      <td>LOACKER QUADRATINI VANILLA WAFERS</td>\n",
       "      <td>DELICIOUS WAFERS. I FIND THAT EUROPEAN WAFERS ...</td>\n",
       "    </tr>\n",
       "    <tr>\n",
       "      <th>3</th>\n",
       "      <td>73791</td>\n",
       "      <td>B000HDOPZG</td>\n",
       "      <td>AR5J8UI46CURR</td>\n",
       "      <td>Geetha Krishnan</td>\n",
       "      <td>2</td>\n",
       "      <td>2</td>\n",
       "      <td>5</td>\n",
       "      <td>1199577600</td>\n",
       "      <td>LOACKER QUADRATINI VANILLA WAFERS</td>\n",
       "      <td>DELICIOUS WAFERS. I FIND THAT EUROPEAN WAFERS ...</td>\n",
       "    </tr>\n",
       "    <tr>\n",
       "      <th>4</th>\n",
       "      <td>155049</td>\n",
       "      <td>B000PAQ75C</td>\n",
       "      <td>AR5J8UI46CURR</td>\n",
       "      <td>Geetha Krishnan</td>\n",
       "      <td>2</td>\n",
       "      <td>2</td>\n",
       "      <td>5</td>\n",
       "      <td>1199577600</td>\n",
       "      <td>LOACKER QUADRATINI VANILLA WAFERS</td>\n",
       "      <td>DELICIOUS WAFERS. I FIND THAT EUROPEAN WAFERS ...</td>\n",
       "    </tr>\n",
       "  </tbody>\n",
       "</table>\n",
       "</div>"
      ],
      "text/plain": [
       "       Id   ProductId         UserId      ProfileName  HelpfulnessNumerator  \\\n",
       "0   78445  B000HDL1RQ  AR5J8UI46CURR  Geetha Krishnan                     2   \n",
       "1  138317  B000HDOPYC  AR5J8UI46CURR  Geetha Krishnan                     2   \n",
       "2  138277  B000HDOPYM  AR5J8UI46CURR  Geetha Krishnan                     2   \n",
       "3   73791  B000HDOPZG  AR5J8UI46CURR  Geetha Krishnan                     2   \n",
       "4  155049  B000PAQ75C  AR5J8UI46CURR  Geetha Krishnan                     2   \n",
       "\n",
       "   HelpfulnessDenominator  Score        Time  \\\n",
       "0                       2      5  1199577600   \n",
       "1                       2      5  1199577600   \n",
       "2                       2      5  1199577600   \n",
       "3                       2      5  1199577600   \n",
       "4                       2      5  1199577600   \n",
       "\n",
       "                             Summary  \\\n",
       "0  LOACKER QUADRATINI VANILLA WAFERS   \n",
       "1  LOACKER QUADRATINI VANILLA WAFERS   \n",
       "2  LOACKER QUADRATINI VANILLA WAFERS   \n",
       "3  LOACKER QUADRATINI VANILLA WAFERS   \n",
       "4  LOACKER QUADRATINI VANILLA WAFERS   \n",
       "\n",
       "                                                Text  \n",
       "0  DELICIOUS WAFERS. I FIND THAT EUROPEAN WAFERS ...  \n",
       "1  DELICIOUS WAFERS. I FIND THAT EUROPEAN WAFERS ...  \n",
       "2  DELICIOUS WAFERS. I FIND THAT EUROPEAN WAFERS ...  \n",
       "3  DELICIOUS WAFERS. I FIND THAT EUROPEAN WAFERS ...  \n",
       "4  DELICIOUS WAFERS. I FIND THAT EUROPEAN WAFERS ...  "
      ]
     },
     "execution_count": 7,
     "metadata": {},
     "output_type": "execute_result"
    }
   ],
   "source": [
    "display= pd.read_sql_query(\"\"\"\n",
    "SELECT *\n",
    "FROM Reviews\n",
    "WHERE Score != 3 AND UserId=\"AR5J8UI46CURR\"\n",
    "ORDER BY ProductID\n",
    "\"\"\", con)\n",
    "display.head()"
   ]
  },
  {
   "cell_type": "markdown",
   "metadata": {
    "colab_type": "text",
    "id": "GmHe67iviWNn"
   },
   "source": [
    "As it can be seen above that same user has multiple reviews with same values for HelpfulnessNumerator, HelpfulnessDenominator, Score, Time, Summary and Text and on doing analysis it was found that <br>\n",
    "<br> \n",
    "ProductId=B000HDOPZG was Loacker Quadratini Vanilla Wafer Cookies, 8.82-Ounce Packages (Pack of 8)<br>\n",
    "<br> \n",
    "ProductId=B000HDL1RQ was Loacker Quadratini Lemon Wafer Cookies, 8.82-Ounce Packages (Pack of 8) and so on<br>\n",
    "\n",
    "It was inferred after analysis that reviews with same parameters other than ProductId belonged to the same product just having different flavour or quantity. Hence in order to reduce redundancy it was decided to eliminate the rows having same parameters.<br>\n",
    "\n",
    "The method used for the same was that we first sort the data according to ProductId and then just keep the first similar product review and delelte the others. for eg. in the above just the review for ProductId=B000HDL1RQ remains. This method ensures that there is only one representative for each product and deduplication without sorting would lead to possibility of different representatives still existing for the same product."
   ]
  },
  {
   "cell_type": "code",
   "execution_count": 8,
   "metadata": {
    "colab": {},
    "colab_type": "code",
    "id": "wgmdXIJviWNn"
   },
   "outputs": [],
   "source": [
    "#Sorting data according to ProductId in ascending order\n",
    "sorted_data=filtered_data.sort_values('ProductId', axis=0, ascending=True, inplace=False, kind='quicksort', na_position='last')"
   ]
  },
  {
   "cell_type": "code",
   "execution_count": 9,
   "metadata": {
    "colab": {},
    "colab_type": "code",
    "id": "ComjQ0rHiWNp",
    "outputId": "1c155404-4bb7-4078-c46b-1a9a33ac0602"
   },
   "outputs": [
    {
     "data": {
      "text/plain": [
       "(348262, 10)"
      ]
     },
     "execution_count": 9,
     "metadata": {},
     "output_type": "execute_result"
    }
   ],
   "source": [
    "#Deduplication of entries\n",
    "final=sorted_data.drop_duplicates(subset={\"UserId\",\"ProfileName\",\"Time\",\"Text\"}, keep='first', inplace=False)\n",
    "final.shape"
   ]
  },
  {
   "cell_type": "code",
   "execution_count": 10,
   "metadata": {
    "colab": {},
    "colab_type": "code",
    "id": "yFrWiU23iWNt",
    "outputId": "b9d26952-d8af-4fbb-eb3d-c6a28abcc029"
   },
   "outputs": [
    {
     "data": {
      "text/plain": [
       "69.6524"
      ]
     },
     "execution_count": 10,
     "metadata": {},
     "output_type": "execute_result"
    }
   ],
   "source": [
    "#Checking to see how much % of data still remains\n",
    "(final['Id'].size*1.0)/(filtered_data['Id'].size*1.0)*100"
   ]
  },
  {
   "cell_type": "markdown",
   "metadata": {
    "colab_type": "text",
    "id": "g4lvCHn6iWNw"
   },
   "source": [
    "<b>Observation:-</b> It was also seen that in two rows given below the value of HelpfulnessNumerator is greater than HelpfulnessDenominator which is not practically possible hence these two rows too are removed from calcualtions"
   ]
  },
  {
   "cell_type": "code",
   "execution_count": 11,
   "metadata": {
    "colab": {},
    "colab_type": "code",
    "id": "6ehzwEdgiWNw",
    "outputId": "60e18da4-784f-49d8-84b7-59823cfa3e85"
   },
   "outputs": [
    {
     "data": {
      "text/html": [
       "<div>\n",
       "<style scoped>\n",
       "    .dataframe tbody tr th:only-of-type {\n",
       "        vertical-align: middle;\n",
       "    }\n",
       "\n",
       "    .dataframe tbody tr th {\n",
       "        vertical-align: top;\n",
       "    }\n",
       "\n",
       "    .dataframe thead th {\n",
       "        text-align: right;\n",
       "    }\n",
       "</style>\n",
       "<table border=\"1\" class=\"dataframe\">\n",
       "  <thead>\n",
       "    <tr style=\"text-align: right;\">\n",
       "      <th></th>\n",
       "      <th>Id</th>\n",
       "      <th>ProductId</th>\n",
       "      <th>UserId</th>\n",
       "      <th>ProfileName</th>\n",
       "      <th>HelpfulnessNumerator</th>\n",
       "      <th>HelpfulnessDenominator</th>\n",
       "      <th>Score</th>\n",
       "      <th>Time</th>\n",
       "      <th>Summary</th>\n",
       "      <th>Text</th>\n",
       "    </tr>\n",
       "  </thead>\n",
       "  <tbody>\n",
       "    <tr>\n",
       "      <th>0</th>\n",
       "      <td>64422</td>\n",
       "      <td>B000MIDROQ</td>\n",
       "      <td>A161DK06JJMCYF</td>\n",
       "      <td>J. E. Stephens \"Jeanne\"</td>\n",
       "      <td>3</td>\n",
       "      <td>1</td>\n",
       "      <td>5</td>\n",
       "      <td>1224892800</td>\n",
       "      <td>Bought This for My Son at College</td>\n",
       "      <td>My son loves spaghetti so I didn't hesitate or...</td>\n",
       "    </tr>\n",
       "    <tr>\n",
       "      <th>1</th>\n",
       "      <td>44737</td>\n",
       "      <td>B001EQ55RW</td>\n",
       "      <td>A2V0I904FH7ABY</td>\n",
       "      <td>Ram</td>\n",
       "      <td>3</td>\n",
       "      <td>2</td>\n",
       "      <td>4</td>\n",
       "      <td>1212883200</td>\n",
       "      <td>Pure cocoa taste with crunchy almonds inside</td>\n",
       "      <td>It was almost a 'love at first bite' - the per...</td>\n",
       "    </tr>\n",
       "  </tbody>\n",
       "</table>\n",
       "</div>"
      ],
      "text/plain": [
       "      Id   ProductId          UserId              ProfileName  \\\n",
       "0  64422  B000MIDROQ  A161DK06JJMCYF  J. E. Stephens \"Jeanne\"   \n",
       "1  44737  B001EQ55RW  A2V0I904FH7ABY                      Ram   \n",
       "\n",
       "   HelpfulnessNumerator  HelpfulnessDenominator  Score        Time  \\\n",
       "0                     3                       1      5  1224892800   \n",
       "1                     3                       2      4  1212883200   \n",
       "\n",
       "                                        Summary  \\\n",
       "0             Bought This for My Son at College   \n",
       "1  Pure cocoa taste with crunchy almonds inside   \n",
       "\n",
       "                                                Text  \n",
       "0  My son loves spaghetti so I didn't hesitate or...  \n",
       "1  It was almost a 'love at first bite' - the per...  "
      ]
     },
     "execution_count": 11,
     "metadata": {},
     "output_type": "execute_result"
    }
   ],
   "source": [
    "display= pd.read_sql_query(\"\"\"\n",
    "SELECT *\n",
    "FROM Reviews\n",
    "WHERE Score != 3 AND Id=44737 OR Id=64422\n",
    "ORDER BY ProductID\n",
    "\"\"\", con)\n",
    "\n",
    "display.head()"
   ]
  },
  {
   "cell_type": "code",
   "execution_count": 12,
   "metadata": {
    "colab": {},
    "colab_type": "code",
    "id": "EBa1d6gViWNz"
   },
   "outputs": [],
   "source": [
    "final=final[final.HelpfulnessNumerator<=final.HelpfulnessDenominator]"
   ]
  },
  {
   "cell_type": "code",
   "execution_count": 13,
   "metadata": {},
   "outputs": [],
   "source": [
    "# Choosing positive and negative reviews\n",
    "df_pos=final[final.Score == 1]\n",
    "df_neg=final[final.Score == 0]\n",
    "\n",
    "# Reducing reviews to 50k each from each class\n",
    "df_pos = df_pos.sample(n=25000, random_state=0)\n",
    "df_neg = df_neg.sample(n=25000, random_state=0)\n",
    "\n",
    "# Shuffling dataset\n",
    "final = pd.concat([df_pos,df_neg], ignore_index=True)"
   ]
  },
  {
   "cell_type": "code",
   "execution_count": 14,
   "metadata": {
    "colab": {},
    "colab_type": "code",
    "id": "KNQ01asjiWN1",
    "outputId": "0d2433fb-dd33-41cd-a18d-110d776f60b4"
   },
   "outputs": [
    {
     "name": "stdout",
     "output_type": "stream",
     "text": [
      "(50000, 10)\n"
     ]
    },
    {
     "data": {
      "text/plain": [
       "1    25000\n",
       "0    25000\n",
       "Name: Score, dtype: int64"
      ]
     },
     "execution_count": 14,
     "metadata": {},
     "output_type": "execute_result"
    }
   ],
   "source": [
    "#Before starting the next phase of preprocessing lets see the number of entries left\n",
    "print(final.shape)\n",
    "\n",
    "#How many positive and negative reviews are present in our dataset?\n",
    "final['Score'].value_counts()"
   ]
  },
  {
   "cell_type": "markdown",
   "metadata": {
    "colab_type": "text",
    "id": "92IZ5ea0iWN4"
   },
   "source": [
    "#  [3] Preprocessing"
   ]
  },
  {
   "cell_type": "markdown",
   "metadata": {
    "colab_type": "text",
    "id": "NTwQITJKiWN5"
   },
   "source": [
    "## [3.1].  Preprocessing Review Text\n",
    "\n",
    "Now that we have finished deduplication our data requires some preprocessing before we go on further with analysis and making the prediction model.\n",
    "\n",
    "Hence in the Preprocessing phase we do the following in the order below:-\n",
    "\n",
    "1. Begin by removing the html tags\n",
    "2. Remove any punctuations or limited set of special characters like , or . or # etc.\n",
    "3. Check if the word is made up of english letters and is not alpha-numeric\n",
    "4. Check to see if the length of the word is greater than 2 (as it was researched that there is no adjective in 2-letters)\n",
    "5. Convert the word to lowercase\n",
    "6. Remove Stopwords\n",
    "7. Finally Snowball Stemming the word (it was obsereved to be better than Porter Stemming)<br>\n",
    "\n",
    "After which we collect the words used to describe positive and negative reviews"
   ]
  },
  {
   "cell_type": "code",
   "execution_count": 15,
   "metadata": {
    "colab": {},
    "colab_type": "code",
    "id": "kTCxT5aWiWN5",
    "outputId": "64588cda-64b3-47f0-8d01-941e1cc85cc5"
   },
   "outputs": [
    {
     "name": "stdout",
     "output_type": "stream",
     "text": [
      "If you want a conversation item for a gathering then popcorn cobs may suffice. Everyone seems to find it interesting and fun but when it is time to eat the popcorn people have different taste and not everyone seems to like this popcorn. My sister likes it a lot, but then she likes hot air popcorn. While the flavor is good the popcorn is too dry for my enjoyment.<br /><br />Bottom line: This is a conversation starter with very good corn taste, but if you don't like hot air popcorn then you may not like this. Even though I don't like it I give it 4 starts because others I know do like it very much.\n",
      "==================================================\n",
      "This is at a great price point. I do think that using it long term is the key. At first blush, it smells heavenly. All of their products do! I don't enjoy conditioners that smell like flowers or fruit per se, I like the ones that smell like good salon products. This conditioner fits the bill there! Plus, at just $5 it's a great price point for all those good ingredients. I will say that my hair felt good at first rinse, not goopy or like I had to turn up the heat to get this out of my hair. It was a few hours later when I decided that it did, however, leave a slight film on my hair and that my hair just wasn't as soft as it is when I use my favorite conditioner.\n",
      "==================================================\n",
      "Ordered this early in the year and find we use it for all sorts of dishes. Much more interesting than just brown or white rice, the combination produces a great flavor and great texture. We will be buying more after we use up our current order. Update May 2007: Have ordered more. This rice is excellent in a variety of dishes and is priced nicely too, at least compared to the alternatives in our local grocery store. My favorite recipe: Cook with some added bouillion or real chicken stock, add 1 to 2 tsp butter, add some dry or chopped onion, sage, basil, oregano and whatever else you feel like and cook as normal (15 to 20 minutes).\n",
      "==================================================\n",
      "These noodles are awesome. I am on a very restricted diet and love these noodles, because they are so versatile and easy to use. The only thing that bugged me was that the shipping was more than I paid for the noodles, which is ridiculous.\n",
      "==================================================\n"
     ]
    }
   ],
   "source": [
    "# printing some random reviews\n",
    "sent_0 = final['Text'].values[0]\n",
    "print(sent_0)\n",
    "print(\"=\"*50)\n",
    "\n",
    "sent_1000 = final['Text'].values[1000]\n",
    "print(sent_1000)\n",
    "print(\"=\"*50)\n",
    "\n",
    "sent_1500 = final['Text'].values[1500]\n",
    "print(sent_1500)\n",
    "print(\"=\"*50)\n",
    "\n",
    "sent_4900 = final['Text'].values[4900]\n",
    "print(sent_4900)\n",
    "print(\"=\"*50)"
   ]
  },
  {
   "cell_type": "code",
   "execution_count": 16,
   "metadata": {
    "colab": {},
    "colab_type": "code",
    "id": "iX3VndCPiWN8",
    "outputId": "7f8cad02-65a6-4530-e7e1-bb6775877737"
   },
   "outputs": [
    {
     "name": "stdout",
     "output_type": "stream",
     "text": [
      "If you want a conversation item for a gathering then popcorn cobs may suffice. Everyone seems to find it interesting and fun but when it is time to eat the popcorn people have different taste and not everyone seems to like this popcorn. My sister likes it a lot, but then she likes hot air popcorn. While the flavor is good the popcorn is too dry for my enjoyment.<br /><br />Bottom line: This is a conversation starter with very good corn taste, but if you don't like hot air popcorn then you may not like this. Even though I don't like it I give it 4 starts because others I know do like it very much.\n"
     ]
    }
   ],
   "source": [
    "# remove urls from text python: https://stackoverflow.com/a/40823105/4084039\n",
    "sent_0 = re.sub(r\"http\\S+\", \"\", sent_0)\n",
    "sent_1000 = re.sub(r\"http\\S+\", \"\", sent_1000)\n",
    "sent_150 = re.sub(r\"http\\S+\", \"\", sent_1500)\n",
    "sent_4900 = re.sub(r\"http\\S+\", \"\", sent_4900)\n",
    "\n",
    "print(sent_0)"
   ]
  },
  {
   "cell_type": "code",
   "execution_count": 17,
   "metadata": {
    "colab": {},
    "colab_type": "code",
    "id": "DyO7iqEriWN_",
    "outputId": "2a010a1c-574d-409f-d725-c726a25d3e70"
   },
   "outputs": [
    {
     "name": "stdout",
     "output_type": "stream",
     "text": [
      "If you want a conversation item for a gathering then popcorn cobs may suffice. Everyone seems to find it interesting and fun but when it is time to eat the popcorn people have different taste and not everyone seems to like this popcorn. My sister likes it a lot, but then she likes hot air popcorn. While the flavor is good the popcorn is too dry for my enjoyment.Bottom line: This is a conversation starter with very good corn taste, but if you don't like hot air popcorn then you may not like this. Even though I don't like it I give it 4 starts because others I know do like it very much.\n",
      "==================================================\n",
      "This is at a great price point. I do think that using it long term is the key. At first blush, it smells heavenly. All of their products do! I don't enjoy conditioners that smell like flowers or fruit per se, I like the ones that smell like good salon products. This conditioner fits the bill there! Plus, at just $5 it's a great price point for all those good ingredients. I will say that my hair felt good at first rinse, not goopy or like I had to turn up the heat to get this out of my hair. It was a few hours later when I decided that it did, however, leave a slight film on my hair and that my hair just wasn't as soft as it is when I use my favorite conditioner.\n",
      "==================================================\n",
      "Ordered this early in the year and find we use it for all sorts of dishes. Much more interesting than just brown or white rice, the combination produces a great flavor and great texture. We will be buying more after we use up our current order. Update May 2007: Have ordered more. This rice is excellent in a variety of dishes and is priced nicely too, at least compared to the alternatives in our local grocery store. My favorite recipe: Cook with some added bouillion or real chicken stock, add 1 to 2 tsp butter, add some dry or chopped onion, sage, basil, oregano and whatever else you feel like and cook as normal (15 to 20 minutes).\n",
      "==================================================\n",
      "These noodles are awesome. I am on a very restricted diet and love these noodles, because they are so versatile and easy to use. The only thing that bugged me was that the shipping was more than I paid for the noodles, which is ridiculous.\n"
     ]
    }
   ],
   "source": [
    "# https://stackoverflow.com/questions/16206380/python-beautifulsoup-how-to-remove-all-tags-from-an-element\n",
    "from bs4 import BeautifulSoup\n",
    "\n",
    "soup = BeautifulSoup(sent_0, 'lxml')\n",
    "text = soup.get_text()\n",
    "print(text)\n",
    "print(\"=\"*50)\n",
    "\n",
    "soup = BeautifulSoup(sent_1000, 'lxml')\n",
    "text = soup.get_text()\n",
    "print(text)\n",
    "print(\"=\"*50)\n",
    "\n",
    "soup = BeautifulSoup(sent_1500, 'lxml')\n",
    "text = soup.get_text()\n",
    "print(text)\n",
    "print(\"=\"*50)\n",
    "\n",
    "soup = BeautifulSoup(sent_4900, 'lxml')\n",
    "text = soup.get_text()\n",
    "print(text)"
   ]
  },
  {
   "cell_type": "code",
   "execution_count": 18,
   "metadata": {
    "colab": {},
    "colab_type": "code",
    "id": "qzIaKh8niWOC"
   },
   "outputs": [],
   "source": [
    "# https://stackoverflow.com/a/47091490/4084039\n",
    "import re\n",
    "\n",
    "def decontracted(phrase):\n",
    "    # specific\n",
    "    phrase = re.sub(r\"won't\", \"will not\", phrase)\n",
    "    phrase = re.sub(r\"can\\'t\", \"can not\", phrase)\n",
    "\n",
    "    # general\n",
    "    phrase = re.sub(r\"n\\'t\", \" not\", phrase)\n",
    "    phrase = re.sub(r\"\\'re\", \" are\", phrase)\n",
    "    phrase = re.sub(r\"\\'s\", \" is\", phrase)\n",
    "    phrase = re.sub(r\"\\'d\", \" would\", phrase)\n",
    "    phrase = re.sub(r\"\\'ll\", \" will\", phrase)\n",
    "    phrase = re.sub(r\"\\'t\", \" not\", phrase)\n",
    "    phrase = re.sub(r\"\\'ve\", \" have\", phrase)\n",
    "    phrase = re.sub(r\"\\'m\", \" am\", phrase)\n",
    "    #To remove repetetive words like aa bbb ccc\n",
    "    phrase = re.sub(r\"(.)\\1{2,}\",\"\", phrase)\n",
    "    return phrase"
   ]
  },
  {
   "cell_type": "code",
   "execution_count": 19,
   "metadata": {
    "colab": {},
    "colab_type": "code",
    "id": "Esa29-JwiWOD",
    "outputId": "be726596-752d-489b-d311-f4180ac83ac4"
   },
   "outputs": [
    {
     "name": "stdout",
     "output_type": "stream",
     "text": [
      "Ordered this early in the year and find we use it for all sorts of dishes. Much more interesting than just brown or white rice, the combination produces a great flavor and great texture. We will be buying more after we use up our current order. Update May 2007: Have ordered more. This rice is excellent in a variety of dishes and is priced nicely too, at least compared to the alternatives in our local grocery store. My favorite recipe: Cook with some added bouillion or real chicken stock, add 1 to 2 tsp butter, add some dry or chopped onion, sage, basil, oregano and whatever else you feel like and cook as normal (15 to 20 minutes).\n",
      "==================================================\n"
     ]
    }
   ],
   "source": [
    "sent_1500 = decontracted(sent_1500)\n",
    "print(sent_1500)\n",
    "print(\"=\"*50)"
   ]
  },
  {
   "cell_type": "code",
   "execution_count": 20,
   "metadata": {
    "colab": {},
    "colab_type": "code",
    "id": "qf0c7-nXiWOG",
    "outputId": "6104976d-bda8-4de1-9d91-808f3661d53b"
   },
   "outputs": [
    {
     "name": "stdout",
     "output_type": "stream",
     "text": [
      "If you want a conversation item for a gathering then popcorn cobs may suffice. Everyone seems to find it interesting and fun but when it is time to eat the popcorn people have different taste and not everyone seems to like this popcorn. My sister likes it a lot, but then she likes hot air popcorn. While the flavor is good the popcorn is too dry for my enjoyment.<br /><br />Bottom line: This is a conversation starter with very good corn taste, but if you don't like hot air popcorn then you may not like this. Even though I don't like it I give it  starts because others I know do like it very much.\n"
     ]
    }
   ],
   "source": [
    "#remove words with numbers python: https://stackoverflow.com/a/18082370/4084039\n",
    "sent_0 = re.sub(\"\\S*\\d\\S*\", \"\", sent_0).strip()\n",
    "print(sent_0)"
   ]
  },
  {
   "cell_type": "code",
   "execution_count": 21,
   "metadata": {
    "colab": {},
    "colab_type": "code",
    "id": "1Z5VK6wxiWOI",
    "outputId": "d3405347-aa6a-4df5-c3d9-2c11441c2385"
   },
   "outputs": [
    {
     "name": "stdout",
     "output_type": "stream",
     "text": [
      "Ordered this early in the year and find we use it for all sorts of dishes Much more interesting than just brown or white rice the combination produces a great flavor and great texture We will be buying more after we use up our current order Update May 2007 Have ordered more This rice is excellent in a variety of dishes and is priced nicely too at least compared to the alternatives in our local grocery store My favorite recipe Cook with some added bouillion or real chicken stock add 1 to 2 tsp butter add some dry or chopped onion sage basil oregano and whatever else you feel like and cook as normal 15 to 20 minutes \n"
     ]
    }
   ],
   "source": [
    "#remove spacial character: https://stackoverflow.com/a/5843547/4084039\n",
    "sent_1500 = re.sub('[^A-Za-z0-9]+', ' ', sent_1500)\n",
    "print(sent_1500)"
   ]
  },
  {
   "cell_type": "code",
   "execution_count": 22,
   "metadata": {
    "colab": {},
    "colab_type": "code",
    "id": "MfzZtIP1iWOL"
   },
   "outputs": [],
   "source": [
    "# https://gist.github.com/sebleier/554280\n",
    "# we are removing the words from the stop words list: 'no', 'nor', 'not'\n",
    "# <br /><br /> ==> after the above steps, we are getting \"br br\"\n",
    "# we are including them into stop words list\n",
    "# instead of <br /> if we have <br/> these tags would have revmoved in the 1st step\n",
    "\n",
    "stopwords= set(['br', 'the', 'i', 'me', 'my', 'myself', 'we', 'our', 'ours', 'ourselves', 'you', \"you're\", \"you've\",\\\n",
    "            \"you'll\", \"you'd\", 'your', 'yours', 'yourself', 'yourselves', 'he', 'him', 'his', 'himself', \\\n",
    "            'she', \"she's\", 'her', 'hers', 'herself', 'it', \"it's\", 'its', 'itself', 'they', 'them', 'their',\\\n",
    "            'theirs', 'themselves', 'what', 'which', 'who', 'whom', 'this', 'that', \"that'll\", 'these', 'those', \\\n",
    "            'am', 'is', 'are', 'was', 'were', 'be', 'been', 'being', 'have', 'has', 'had', 'having', 'do', 'does', \\\n",
    "            'did', 'doing', 'a', 'an', 'the', 'and', 'but', 'if', 'or', 'because', 'as', 'until', 'while', 'of', \\\n",
    "            'at', 'by', 'for', 'with', 'about', 'against', 'between', 'into', 'through', 'during', 'before', 'after',\\\n",
    "            'above', 'below', 'to', 'from', 'up', 'down', 'in', 'out', 'on', 'off', 'over', 'under', 'again', 'further',\\\n",
    "            'then', 'once', 'here', 'there', 'when', 'where', 'why', 'how', 'all', 'any', 'both', 'each', 'few', 'more',\\\n",
    "            'most', 'other', 'some', 'such', 'only', 'own', 'same', 'so', 'than', 'too', 'very', \\\n",
    "            's', 't', 'can', 'will', 'just', 'don', \"don't\", 'should', \"should've\", 'now', 'd', 'll', 'm', 'o', 're', \\\n",
    "            've', 'y', 'ain', 'aren', \"aren't\", 'couldn', \"couldn't\", 'didn', \"didn't\", 'doesn', \"doesn't\", 'hadn',\\\n",
    "            \"hadn't\", 'hasn', \"hasn't\", 'haven', \"haven't\", 'isn', \"isn't\", 'ma', 'mightn', \"mightn't\", 'mustn',\\\n",
    "            \"mustn't\", 'needn', \"needn't\", 'shan', \"shan't\", 'shouldn', \"shouldn't\", 'wasn', \"wasn't\", 'weren', \"weren't\", \\\n",
    "            'won', \"won't\", 'wouldn', \"wouldn't\"])"
   ]
  },
  {
   "cell_type": "code",
   "execution_count": 23,
   "metadata": {
    "colab": {},
    "colab_type": "code",
    "id": "g1C43tjNiWOM",
    "outputId": "a997afc9-894c-4a56-d538-dadea8a21e6d"
   },
   "outputs": [
    {
     "name": "stderr",
     "output_type": "stream",
     "text": [
      "100%|██████████████████████████████████████████████████████████████████████████| 50000/50000 [00:30<00:00, 1649.14it/s]\n"
     ]
    }
   ],
   "source": [
    "# Combining all the above stundents \n",
    "from tqdm import tqdm\n",
    "preprocessed_reviews = []\n",
    "# tqdm is for printing the status bar\n",
    "for sentance in tqdm(final['Text'].values):\n",
    "    sentance = re.sub(r\"http\\S+\", \"\", sentance)\n",
    "    sentance = BeautifulSoup(sentance, 'lxml').get_text()\n",
    "    sentance = decontracted(sentance)\n",
    "    sentance = re.sub(\"\\S*\\d\\S*\", \"\", sentance).strip()\n",
    "    sentance = re.sub('[^A-Za-z]+', ' ', sentance)\n",
    "    # https://gist.github.com/sebleier/554280\n",
    "    sentance = ' '.join(e.lower() for e in sentance.split() if e.lower() not in stopwords)\n",
    "    preprocessed_reviews.append(sentance.strip())"
   ]
  },
  {
   "cell_type": "code",
   "execution_count": 24,
   "metadata": {
    "colab": {},
    "colab_type": "code",
    "id": "MWDrCFxViWOP",
    "outputId": "5618c9c3-a86a-42a4-e9c4-d24d93fd5a7a"
   },
   "outputs": [
    {
     "data": {
      "text/plain": [
       "'ordered early year find use sorts dishes much interesting brown white rice combination produces great flavor great texture buying use current order update may ordered rice excellent variety dishes priced nicely least compared alternatives local grocery store favorite recipe cook added bouillion real chicken stock add tsp butter add dry chopped onion sage basil oregano whatever else feel like cook normal minutes'"
      ]
     },
     "execution_count": 24,
     "metadata": {},
     "output_type": "execute_result"
    }
   ],
   "source": [
    "preprocessed_reviews[1500]"
   ]
  },
  {
   "cell_type": "code",
   "execution_count": 28,
   "metadata": {
    "colab": {},
    "colab_type": "code",
    "id": "XP1URIERiWOU"
   },
   "outputs": [
    {
     "name": "stdout",
     "output_type": "stream",
     "text": [
      "24500\n",
      "24500\n",
      "10500\n",
      "10500\n"
     ]
    },
    {
     "data": {
      "text/plain": [
       "{0: 12250, 1: 12250}"
      ]
     },
     "execution_count": 28,
     "metadata": {},
     "output_type": "execute_result"
    }
   ],
   "source": [
    "#Spliting Dataset to (Train-CrossValidation)70%,(Test)30%\n",
    "X = preprocessed_reviews\n",
    "X = np.array(X)\n",
    "Y = np.array(final['Score'])\n",
    "X_tr , X_cv, Y_tr, Y_cv = train_test_split(X, Y, test_size=0.3,random_state=0,stratify =Y)\n",
    "X_tr , X_test, Y_tr, Y_test = train_test_split(X_tr, Y_tr, test_size=0.3,random_state=0,stratify =Y_tr)\n",
    "\n",
    "print(len(X_tr))\n",
    "print(len(Y_tr))\n",
    "print(len(X_test))\n",
    "print(len(Y_test))\n",
    "\n",
    "unique, counts = np.unique(Y_tr, return_counts=True)\n",
    "dict(zip(unique, counts))"
   ]
  },
  {
   "cell_type": "markdown",
   "metadata": {
    "colab_type": "text",
    "id": "p2lyiwJ_iWOW"
   },
   "source": [
    "# [4] Featurization"
   ]
  },
  {
   "cell_type": "markdown",
   "metadata": {
    "colab_type": "text",
    "id": "T_LFck8iiWOX"
   },
   "source": [
    "## [4.1] BAG OF WORDS"
   ]
  },
  {
   "cell_type": "code",
   "execution_count": 29,
   "metadata": {
    "colab": {},
    "colab_type": "code",
    "id": "OVHZ9f8biWOX",
    "outputId": "b121f6f4-e30a-4184-b083-a77cdab3ca19"
   },
   "outputs": [
    {
     "name": "stdout",
     "output_type": "stream",
     "text": [
      "some feature names  ['aa', 'aafco', 'aafcoa', 'aamazon', 'aap', 'ab', 'aback', 'abandon', 'abandoned', 'abandoning']\n",
      "==================================================\n",
      "the type of count vectorizer  <class 'scipy.sparse.csr.csr_matrix'>\n",
      "the shape of out text BOW vectorizer  (10500, 33692)\n",
      "the number of unique words  33692\n"
     ]
    }
   ],
   "source": [
    "#BoW\n",
    "count_vect = CountVectorizer() #in scikit-learn\n",
    "count_vect.fit(X_tr)\n",
    "print(\"some feature names \", count_vect.get_feature_names()[:10])\n",
    "print('='*50)\n",
    "\n",
    "final_counts_train = count_vect.transform(X_tr)\n",
    "final_counts_test = count_vect.transform(X_test)\n",
    "final_counts_cv = count_vect.transform(X_cv)\n",
    "print(\"the type of count vectorizer \",type(final_counts_test))\n",
    "print(\"the shape of out text BOW vectorizer \",final_counts_test.get_shape())\n",
    "print(\"the number of unique words \", final_counts_test.get_shape()[1])"
   ]
  },
  {
   "cell_type": "markdown",
   "metadata": {
    "colab_type": "text",
    "id": "mjfrB76yiWOa"
   },
   "source": [
    "## [4.2] Bi-Grams and n-Grams."
   ]
  },
  {
   "cell_type": "code",
   "execution_count": 30,
   "metadata": {
    "colab": {},
    "colab_type": "code",
    "id": "mzOdOY6MiWOb",
    "outputId": "5ca07a6a-fb12-4deb-b0f4-21cdb42ccb7a"
   },
   "outputs": [
    {
     "name": "stdout",
     "output_type": "stream",
     "text": [
      "the type of count vectorizer  <class 'scipy.sparse.csr.csr_matrix'>\n",
      "the shape of out text BOW vectorizer  (10500, 5000)\n",
      "the number of unique words including both unigrams and bigrams  5000\n"
     ]
    }
   ],
   "source": [
    "#bi-gram, tri-gram and n-gram\n",
    "\n",
    "#removing stop words like \"not\" should be avoided before building n-grams\n",
    "# count_vect = CountVectorizer(ngram_range=(1,2))\n",
    "# please do read the CountVectorizer documentation http://scikit-learn.org/stable/modules/generated/sklearn.feature_extraction.text.CountVectorizer.html\n",
    "\n",
    "# you can choose these numebrs min_df=10, max_features=5000, of your choice\n",
    "count_vect = CountVectorizer(ngram_range=(1,2), min_df=10, max_features=5000)\n",
    "final_bigram_counts_train = count_vect.fit_transform(X_tr)\n",
    "final_bigram_counts_test = count_vect.transform(X_test)\n",
    "final_bigram_counts_cv = count_vect.transform(X_cv)\n",
    "print(\"the type of count vectorizer \",type(final_bigram_counts_test))\n",
    "print(\"the shape of out text BOW vectorizer \",final_bigram_counts_test.get_shape())\n",
    "print(\"the number of unique words including both unigrams and bigrams \", final_bigram_counts_test.get_shape()[1])"
   ]
  },
  {
   "cell_type": "markdown",
   "metadata": {
    "colab_type": "text",
    "id": "0tcbbZxSiWOd"
   },
   "source": [
    "## [4.3] TF-IDF"
   ]
  },
  {
   "cell_type": "code",
   "execution_count": 31,
   "metadata": {
    "colab": {},
    "colab_type": "code",
    "id": "mQ3EDEsoiWOd",
    "outputId": "b305ed29-861d-40e9-c1df-b12c4e6492a8"
   },
   "outputs": [
    {
     "name": "stdout",
     "output_type": "stream",
     "text": [
      "some sample features(unique words in the corpus) ['ability', 'able', 'able buy', 'able drink', 'able eat', 'able enjoy', 'able find', 'able get', 'able make', 'able order']\n",
      "==================================================\n",
      "the type of count vectorizer  <class 'scipy.sparse.csr.csr_matrix'>\n",
      "the shape of out text TFIDF vectorizer  (10500, 14594)\n",
      "the number of unique words including both unigrams and bigrams  14594\n"
     ]
    }
   ],
   "source": [
    "tf_idf_vect = TfidfVectorizer(ngram_range=(1,2), min_df=10)\n",
    "tf_idf_vect.fit(X_tr)\n",
    "print(\"some sample features(unique words in the corpus)\",tf_idf_vect.get_feature_names()[0:10])\n",
    "print('='*50)\n",
    "\n",
    "final_tf_idf_train = tf_idf_vect.transform(X_tr)\n",
    "final_tf_idf_test = tf_idf_vect.transform(X_test)\n",
    "final_tf_idf_cv = tf_idf_vect.transform(X_cv)\n",
    "print(\"the type of count vectorizer \",type(final_tf_idf_test))\n",
    "print(\"the shape of out text TFIDF vectorizer \",final_tf_idf_test.get_shape())\n",
    "print(\"the number of unique words including both unigrams and bigrams \", final_tf_idf_test.get_shape()[1])"
   ]
  },
  {
   "cell_type": "markdown",
   "metadata": {
    "colab_type": "text",
    "id": "u566lt93iWOf"
   },
   "source": [
    "## [4.4] Word2Vec"
   ]
  },
  {
   "cell_type": "code",
   "execution_count": 32,
   "metadata": {
    "colab": {},
    "colab_type": "code",
    "id": "pxlbMwFjiWOg"
   },
   "outputs": [],
   "source": [
    "# Train your own Word2Vec model using your own text corpus\n",
    "i=0\n",
    "list_of_sentance_train=[]\n",
    "for sentance in X_tr:\n",
    "    list_of_sentance_train.append(sentance.split())"
   ]
  },
  {
   "cell_type": "code",
   "execution_count": 33,
   "metadata": {},
   "outputs": [],
   "source": [
    "i=0\n",
    "list_of_sentance_test=[]\n",
    "for sentance in X_test:\n",
    "    list_of_sentance_test.append(sentance.split())"
   ]
  },
  {
   "cell_type": "code",
   "execution_count": 34,
   "metadata": {},
   "outputs": [],
   "source": [
    "i=0\n",
    "list_of_sentance_cv=[]\n",
    "for sentance in X_cv:\n",
    "    list_of_sentance_cv.append(sentance.split())"
   ]
  },
  {
   "cell_type": "code",
   "execution_count": 35,
   "metadata": {
    "colab": {},
    "colab_type": "code",
    "id": "NOd5wp0yiWOh",
    "outputId": "ae28439d-438c-4d88-ed12-db5f3317218f",
    "scrolled": true
   },
   "outputs": [
    {
     "name": "stdout",
     "output_type": "stream",
     "text": [
      "[('good', 0.8481200337409973), ('wonderful', 0.8411686420440674), ('awesome', 0.8343350887298584), ('fantastic', 0.8190902471542358), ('excellent', 0.7926794290542603), ('perfect', 0.7381505966186523), ('amazing', 0.7346354126930237), ('delicious', 0.7124988436698914), ('decent', 0.6671751141548157), ('nice', 0.6485731601715088)]\n",
      "==================================================\n",
      "[('ever', 0.8012491464614868), ('best', 0.7618014812469482), ('disgusting', 0.6967915296554565), ('horrible', 0.6953979730606079), ('terrible', 0.6943469643592834), ('worse', 0.6810743808746338), ('awful', 0.6757755279541016), ('nastiest', 0.6501514315605164), ('favorites', 0.6367725729942322), ('funny', 0.6245903968811035)]\n"
     ]
    }
   ],
   "source": [
    "# Using Google News Word2Vectors\n",
    "\n",
    "# in this project we are using a pretrained model by google\n",
    "# its 3.3G file, once you load this into your memory \n",
    "# it occupies ~9Gb, so please do this step only if you have >12G of ram\n",
    "# we will provide a pickle file wich contains a dict , \n",
    "# and it contains all our courpus words as keys and  model[word] as values\n",
    "# To use this code-snippet, download \"GoogleNews-vectors-negative300.bin\" \n",
    "# from https://drive.google.com/file/d/0B7XkCwpI5KDYNlNUTTlSS21pQmM/edit\n",
    "# it's 1.9GB in size.\n",
    "\n",
    "\n",
    "# http://kavita-ganesan.com/gensim-word2vec-tutorial-starter-code/#.W17SRFAzZPY\n",
    "# you can comment this whole cell\n",
    "# or change these varible according to your need\n",
    "\n",
    "is_your_ram_gt_16g=False\n",
    "want_to_use_google_w2v = False\n",
    "want_to_train_w2v = True\n",
    "\n",
    "if want_to_train_w2v:\n",
    "    # min_count = 5 considers only words that occured atleast 5 times\n",
    "    w2v_model=Word2Vec(list_of_sentance_train,min_count=5,size=50, workers=4)\n",
    "    print(w2v_model.wv.most_similar('great'))\n",
    "    print('='*50)\n",
    "    print(w2v_model.wv.most_similar('worst'))\n",
    "    \n",
    "elif want_to_use_google_w2v and is_your_ram_gt_16g:\n",
    "    if os.path.isfile('GoogleNews-vectors-negative300.bin'):\n",
    "        w2v_model=KeyedVectors.load_word2vec_format('GoogleNews-vectors-negative300.bin', binary=True)\n",
    "        print(w2v_model.wv.most_similar('great'))\n",
    "        print(w2v_model.wv.most_similar('worst'))\n",
    "    else:\n",
    "        print(\"you don't have gogole's word2vec file, keep want_to_train_w2v = True, to train your own w2v \")"
   ]
  },
  {
   "cell_type": "code",
   "execution_count": 36,
   "metadata": {
    "colab": {},
    "colab_type": "code",
    "id": "teE01Qk2iWOj",
    "outputId": "f063436c-8b62-49d3-e093-723395e66ccd"
   },
   "outputs": [
    {
     "name": "stdout",
     "output_type": "stream",
     "text": [
      "number of words that occured minimum 5 times  10062\n",
      "sample words  ['good', 'cracker', 'combo', 'cheddar', 'nice', 'get', 'fiber', 'protein', 'quick', 'snack', 'grab', 'go', 'little', 'pricey', 'unless', 'luck', 'amazon', 'warehouse', 'deal', 'like', 'buy', 'unfortunately', 'road', 'end', 'vegan', 'mac', 'cheese', 'really', 'disgusting', 'not', 'taste', 'texture', 'sauce', 'strange', 'glad', 'found', 'amazing', 'times', 'better', 'stuff', 'children', 'eaten', 'annie', 'macaroni', 'ten', 'years', 'loved', 'dismay', 'began', 'notice']\n"
     ]
    }
   ],
   "source": [
    "w2v_words = list(w2v_model.wv.vocab)\n",
    "print(\"number of words that occured minimum 5 times \",len(w2v_words))\n",
    "print(\"sample words \", w2v_words[0:50])"
   ]
  },
  {
   "cell_type": "markdown",
   "metadata": {
    "colab_type": "text",
    "id": "mUNnof40iWOl"
   },
   "source": [
    "## [4.4.1] Converting text into vectors using Avg W2V, TFIDF-W2V"
   ]
  },
  {
   "cell_type": "markdown",
   "metadata": {
    "colab_type": "text",
    "id": "heHLB_FCiWOm"
   },
   "source": [
    "#### [4.4.1.1] Avg W2v"
   ]
  },
  {
   "cell_type": "code",
   "execution_count": 37,
   "metadata": {
    "colab": {},
    "colab_type": "code",
    "id": "iCYoNRANiWOm",
    "outputId": "96ebb104-44d7-4b7d-aa45-62614bbfcf44"
   },
   "outputs": [
    {
     "name": "stderr",
     "output_type": "stream",
     "text": [
      "100%|███████████████████████████████████████████████████████████████████████████| 24500/24500 [01:09<00:00, 350.32it/s]\n"
     ]
    },
    {
     "name": "stdout",
     "output_type": "stream",
     "text": [
      "24500\n",
      "50\n"
     ]
    }
   ],
   "source": [
    "# average Word2Vec\n",
    "# compute average word2vec for each review.\n",
    "sent_vectors_train = []; # the avg-w2v for each sentence/review is stored in this list\n",
    "for sent in tqdm(list_of_sentance_train): # for each review/sentence\n",
    "    sent_vec = np.zeros(50) # as word vectors are of zero length 50, you might need to change this to 300 if you use google's w2v\n",
    "    cnt_words =0; # num of words with a valid vector in the sentence/review\n",
    "    for word in sent: # for each word in a review/sentence\n",
    "        if word in w2v_words:\n",
    "            vec = w2v_model.wv[word]\n",
    "            sent_vec += vec\n",
    "            cnt_words += 1\n",
    "    if cnt_words != 0:\n",
    "        sent_vec /= cnt_words\n",
    "    sent_vectors_train.append(sent_vec)\n",
    "print(len(sent_vectors_train))\n",
    "print(len(sent_vectors_train[0]))"
   ]
  },
  {
   "cell_type": "code",
   "execution_count": 38,
   "metadata": {},
   "outputs": [
    {
     "name": "stderr",
     "output_type": "stream",
     "text": [
      "100%|███████████████████████████████████████████████████████████████████████████| 10500/10500 [00:35<00:00, 292.05it/s]\n"
     ]
    },
    {
     "name": "stdout",
     "output_type": "stream",
     "text": [
      "10500\n",
      "50\n"
     ]
    }
   ],
   "source": [
    "# average Word2Vec\n",
    "# compute average word2vec for each review.\n",
    "sent_vectors_test = []; # the avg-w2v for each sentence/review is stored in this list\n",
    "for sent in tqdm(list_of_sentance_test): # for each review/sentence\n",
    "    sent_vec = np.zeros(50) # as word vectors are of zero length 50, you might need to change this to 300 if you use google's w2v\n",
    "    cnt_words =0; # num of words with a valid vector in the sentence/review\n",
    "    for word in sent: # for each word in a review/sentence\n",
    "        if word in w2v_words:\n",
    "            vec = w2v_model.wv[word]\n",
    "            sent_vec += vec\n",
    "            cnt_words += 1\n",
    "    if cnt_words != 0:\n",
    "        sent_vec /= cnt_words\n",
    "    sent_vectors_test.append(sent_vec)\n",
    "print(len(sent_vectors_test))\n",
    "print(len(sent_vectors_test[0]))"
   ]
  },
  {
   "cell_type": "code",
   "execution_count": 39,
   "metadata": {},
   "outputs": [
    {
     "name": "stderr",
     "output_type": "stream",
     "text": [
      "100%|███████████████████████████████████████████████████████████████████████████| 15000/15000 [00:45<00:00, 328.26it/s]\n"
     ]
    },
    {
     "name": "stdout",
     "output_type": "stream",
     "text": [
      "15000\n",
      "50\n"
     ]
    }
   ],
   "source": [
    "# average Word2Vec\n",
    "# compute average word2vec for each review.\n",
    "sent_vectors_cv = []; # the avg-w2v for each sentence/review is stored in this list\n",
    "for sent in tqdm(list_of_sentance_cv): # for each review/sentence\n",
    "    sent_vec = np.zeros(50) # as word vectors are of zero length 50, you might need to change this to 300 if you use google's w2v\n",
    "    cnt_words =0; # num of words with a valid vector in the sentence/review\n",
    "    for word in sent: # for each word in a review/sentence\n",
    "        if word in w2v_words:\n",
    "            vec = w2v_model.wv[word]\n",
    "            sent_vec += vec\n",
    "            cnt_words += 1\n",
    "    if cnt_words != 0:\n",
    "        sent_vec /= cnt_words\n",
    "    sent_vectors_cv.append(sent_vec)\n",
    "print(len(sent_vectors_cv))\n",
    "print(len(sent_vectors_cv[0]))"
   ]
  },
  {
   "cell_type": "markdown",
   "metadata": {
    "colab_type": "text",
    "id": "ylTn3LgiiWOo"
   },
   "source": [
    "#### [4.4.1.2] TFIDF weighted W2v"
   ]
  },
  {
   "cell_type": "code",
   "execution_count": 40,
   "metadata": {
    "colab": {},
    "colab_type": "code",
    "id": "XBxf_qKSiWOo"
   },
   "outputs": [],
   "source": [
    "# S = [\"abc def pqr\", \"def def def abc\", \"pqr pqr def\"]\n",
    "model = TfidfVectorizer()\n",
    "tf_idf_matrix = model.fit_transform(X_tr)\n",
    "tf_idf_matrix = model.transform(X_test)\n",
    "tf_idf_matrix = model.transform(X_cv)\n",
    "# we are converting a dictionary with word as a key, and the idf as a value\n",
    "dictionary = dict(zip(model.get_feature_names(), list(model.idf_)))"
   ]
  },
  {
   "cell_type": "code",
   "execution_count": 41,
   "metadata": {
    "colab": {},
    "colab_type": "code",
    "id": "5FHQMSyUiWOp",
    "outputId": "6b5b71be-e3f7-4933-cd74-f78fb703132d",
    "scrolled": true
   },
   "outputs": [
    {
     "name": "stderr",
     "output_type": "stream",
     "text": [
      "100%|████████████████████████████████████████████████████████████████████████████| 24500/24500 [11:43<00:00, 34.81it/s]\n"
     ]
    }
   ],
   "source": [
    "# TF-IDF weighted Word2Vec\n",
    "tfidf_feat = model.get_feature_names() # tfidf words/col-names\n",
    "# final_tf_idf is the sparse matrix with row= sentence, col=word and cell_val = tfidf\n",
    "\n",
    "tfidf_sent_vectors_train = []; # the tfidf-w2v for each sentence/review is stored in this list\n",
    "row=0;\n",
    "for sent in tqdm(list_of_sentance_train): # for each review/sentence \n",
    "    sent_vec = np.zeros(50) # as word vectors are of zero length\n",
    "    weight_sum =0; # num of words with a valid vector in the sentence/review\n",
    "    for word in sent: # for each word in a review/sentence\n",
    "        if word in w2v_words and word in tfidf_feat:\n",
    "            vec = w2v_model.wv[word]\n",
    "#             tf_idf = tf_idf_matrix[row, tfidf_feat.index(word)]\n",
    "            # to reduce the computation we are \n",
    "            # dictionary[word] = idf value of word in whole courpus\n",
    "            # sent.count(word) = tf valeus of word in this review\n",
    "            tf_idf = dictionary[word]*(sent.count(word)/len(sent))\n",
    "            sent_vec += (vec * tf_idf)\n",
    "            weight_sum += tf_idf\n",
    "    if weight_sum != 0:\n",
    "        sent_vec /= weight_sum\n",
    "    tfidf_sent_vectors_train.append(sent_vec)\n",
    "    row += 1"
   ]
  },
  {
   "cell_type": "code",
   "execution_count": 42,
   "metadata": {},
   "outputs": [
    {
     "name": "stderr",
     "output_type": "stream",
     "text": [
      "100%|████████████████████████████████████████████████████████████████████████████| 10500/10500 [05:27<00:00, 32.09it/s]\n"
     ]
    }
   ],
   "source": [
    "# TF-IDF weighted Word2Vec\n",
    "tfidf_feat = model.get_feature_names() # tfidf words/col-names\n",
    "# final_tf_idf is the sparse matrix with row= sentence, col=word and cell_val = tfidf\n",
    "\n",
    "tfidf_sent_vectors_test = []; # the tfidf-w2v for each sentence/review is stored in this list\n",
    "row=0;\n",
    "for sent in tqdm(list_of_sentance_test): # for each review/sentence \n",
    "    sent_vec = np.zeros(50) # as word vectors are of zero length\n",
    "    weight_sum =0; # num of words with a valid vector in the sentence/review\n",
    "    for word in sent: # for each word in a review/sentence\n",
    "        if word in w2v_words and word in tfidf_feat:\n",
    "            vec = w2v_model.wv[word]\n",
    "#             tf_idf = tf_idf_matrix[row, tfidf_feat.index(word)]\n",
    "            # to reduce the computation we are \n",
    "            # dictionary[word] = idf value of word in whole courpus\n",
    "            # sent.count(word) = tf valeus of word in this review\n",
    "            tf_idf = dictionary[word]*(sent.count(word)/len(sent))\n",
    "            sent_vec += (vec * tf_idf)\n",
    "            weight_sum += tf_idf\n",
    "    if weight_sum != 0:\n",
    "        sent_vec /= weight_sum\n",
    "    tfidf_sent_vectors_test.append(sent_vec)\n",
    "    row += 1"
   ]
  },
  {
   "cell_type": "code",
   "execution_count": 43,
   "metadata": {},
   "outputs": [
    {
     "name": "stderr",
     "output_type": "stream",
     "text": [
      "100%|████████████████████████████████████████████████████████████████████████████| 15000/15000 [07:49<00:00, 31.93it/s]\n"
     ]
    }
   ],
   "source": [
    "# TF-IDF weighted Word2Vec\n",
    "tfidf_feat = model.get_feature_names() # tfidf words/col-names\n",
    "# final_tf_idf is the sparse matrix with row= sentence, col=word and cell_val = tfidf\n",
    "\n",
    "tfidf_sent_vectors_cv = []; # the tfidf-w2v for each sentence/review is stored in this list\n",
    "row=0;\n",
    "for sent in tqdm(list_of_sentance_cv): # for each review/sentence \n",
    "    sent_vec = np.zeros(50) # as word vectors are of zero length\n",
    "    weight_sum =0; # num of words with a valid vector in the sentence/review\n",
    "    for word in sent: # for each word in a review/sentence\n",
    "        if word in w2v_words and word in tfidf_feat:\n",
    "            vec = w2v_model.wv[word]\n",
    "#             tf_idf = tf_idf_matrix[row, tfidf_feat.index(word)]\n",
    "            # to reduce the computation we are \n",
    "            # dictionary[word] = idf value of word in whole courpus\n",
    "            # sent.count(word) = tf valeus of word in this review\n",
    "            tf_idf = dictionary[word]*(sent.count(word)/len(sent))\n",
    "            sent_vec += (vec * tf_idf)\n",
    "            weight_sum += tf_idf\n",
    "    if weight_sum != 0:\n",
    "        sent_vec /= weight_sum\n",
    "    tfidf_sent_vectors_cv.append(sent_vec)\n",
    "    row += 1"
   ]
  },
  {
   "cell_type": "markdown",
   "metadata": {
    "colab_type": "text",
    "id": "IwObBT2UiWOr"
   },
   "source": [
    "# [5] Assignment 8: Decision Trees"
   ]
  },
  {
   "cell_type": "markdown",
   "metadata": {
    "colab_type": "text",
    "id": "k_mwmumRiWOr"
   },
   "source": [
    "<ol>\n",
    "    <li><strong>Apply Decision Trees on these feature sets</strong>\n",
    "        <ul>\n",
    "            <li><font color='red'>SET 1:</font>Review text, preprocessed one converted into vectors using (BOW)</li>\n",
    "            <li><font color='red'>SET 2:</font>Review text, preprocessed one converted into vectors using (TFIDF)</li>\n",
    "            <li><font color='red'>SET 3:</font>Review text, preprocessed one converted into vectors using (AVG W2v)</li>\n",
    "            <li><font color='red'>SET 4:</font>Review text, preprocessed one converted into vectors using (TFIDF W2v)</li>\n",
    "        </ul>\n",
    "    </li>\n",
    "    <br>\n",
    "    <li><strong>The hyper paramter tuning (best `depth` in range [4,6, 8, 9,10,12,14,17] , and the best `min_samples_split` in range [2,10,20,30,40,50])</strong>\n",
    "        <ul>\n",
    "    <li>Find the best hyper parameter which will give the maximum <a href='https://www.appliedaicourse.com/course/applied-ai-course-online/lessons/receiver-operating-characteristic-curve-roc-curve-and-auc-1/'>AUC</a> value</li>\n",
    "    <li>Find the best hyper paramter using k-fold cross validation or simple cross validation data</li>\n",
    "    <li>Use gridsearch cv or randomsearch cv or you can also write your own for loops to do this task of hyperparameter tuning</li>          \n",
    "        </ul>\n",
    "    </li>\n",
    "    <br>\n",
    "    <li><strong>Graphviz</strong>\n",
    "        <ul>\n",
    "    <li>Visualize your decision tree with Graphviz. It helps you to understand how a decision is being made, given a new vector.</li>\n",
    "    <li>Since feature names are not obtained from word2vec related models, visualize only BOW & TFIDF decision trees using Graphviz</li>\n",
    "    <li>Make sure to print the words in each node of the decision tree instead of printing its index.</li>\n",
    "    <li>Just for visualization purpose, limit max_depth to 2 or 3 and either embed the generated images of graphviz in your notebook, or directly upload them as .png files.</li>                \n",
    "        </ul>\n",
    "    </li>\n",
    "    <br>\n",
    "    <li><strong>Feature importance</strong>\n",
    "        <ul>\n",
    "    <li>Find the top 20 important features from both feature sets <font color='red'>Set 1</font> and <font color='red'>Set 2</font> using `feature_importances_` method of <a href='https://scikit-learn.org/stable/modules/generated/sklearn.tree.DecisionTreeClassifier.html'>Decision Tree Classifier</a> and print their corresponding feature names</li>\n",
    "        </ul>\n",
    "    </li>\n",
    "    <br>\n",
    "    <li><strong>Feature engineering</strong>\n",
    "        <ul>\n",
    "    <li>To increase the performance of your model, you can also experiment with with feature engineering like :</li>\n",
    "            <ul>\n",
    "            <li>Taking length of reviews as another feature.</li>\n",
    "            <li>Considering some features from review summary as well.</li>\n",
    "        </ul>\n",
    "        </ul>\n",
    "    </li>\n",
    "    <br>\n",
    "    <li><strong>Representation of results</strong>\n",
    "        <ul>\n",
    "    <li>You need to plot the performance of model both on train data and cross validation data for each hyper parameter, like shown in the figure\n",
    "    <img src='https://i.imgur.com/Gp2DQmh.jpg' width=500px> with X-axis as <strong>min_sample_split</strong>, Y-axis as <strong>max_depth</strong>, and Z-axis as <strong>AUC Score</strong> , we have given the notebook which explains how to plot this 3d plot, you can find it in the same drive <i>3d_scatter_plot.ipynb</i></li>\n",
    "            <p style=\"text-align:center;font-size:30px;color:red;\"><strong>or</strong></p> <br>\n",
    "    <li>You need to plot the performance of model both on train data and cross validation data for each hyper parameter, like shown in the figure\n",
    "    <img src='https://i.imgur.com/fgN9aUP.jpg' width=300px> <a href='https://seaborn.pydata.org/generated/seaborn.heatmap.html'>seaborn heat maps</a> with rows as <strong>min_sample_split</strong>, columns as <strong>max_depth</strong>, and values inside the cell representing <strong>AUC Score</strong> </li>\n",
    "    <li>You choose either of the plotting techniques out of 3d plot or heat map</li>\n",
    "    <li>Once after you found the best hyper parameter, you need to train your model with it, and find the AUC on test data and plot the ROC curve on both train and test.\n",
    "    <img src='https://i.imgur.com/wMQDTFe.jpg' width=300px></li>\n",
    "    <li>Along with plotting ROC curve, you need to print the <a href='https://www.appliedaicourse.com/course/applied-ai-course-online/lessons/confusion-matrix-tpr-fpr-fnr-tnr-1/'>confusion matrix</a> with predicted and original labels of test data points. Please visualize your confusion matrices using <a href='https://seaborn.pydata.org/generated/seaborn.heatmap.html'>seaborn heatmaps.\n",
    "    <img src='confusion_matrix.png' width=300px></li>\n",
    "        </ul>\n",
    "    </li>\n",
    "    <br>\n",
    "    <li><strong>Conclusion</strong>\n",
    "        <ul>\n",
    "    <li>You need to summarize the results at the end of the notebook, summarize it in the table format. To print out a table please refer to this prettytable library<a href='http://zetcode.com/python/prettytable/'>  link</a> \n",
    "        <img src='summary.JPG' width=400px>\n",
    "    </li>\n",
    "        </ul>\n",
    "</ol>"
   ]
  },
  {
   "cell_type": "markdown",
   "metadata": {
    "colab_type": "text",
    "id": "uqhvv_IiiWOs"
   },
   "source": [
    "<h4><font color='red'>Note: Data Leakage</font></h4>\n",
    "\n",
    "1. There will be an issue of data-leakage if you vectorize the entire data and then split it into train/cv/test.\n",
    "2. To avoid the issue of data-leakag, make sure to split your data first and then vectorize it. \n",
    "3. While vectorizing your data, apply the method fit_transform() on you train data, and apply the method transform() on cv/test data.\n",
    "4. For more details please go through this <a href='https://soundcloud.com/applied-ai-course/leakage-bow-and-tfidf'>link.</a>"
   ]
  },
  {
   "cell_type": "markdown",
   "metadata": {
    "colab_type": "text",
    "id": "ayLYlocviWOs"
   },
   "source": [
    "# Applying Decision Trees"
   ]
  },
  {
   "cell_type": "markdown",
   "metadata": {
    "colab_type": "text",
    "id": "fvKQwJMWiWOt"
   },
   "source": [
    "## [5.1] Applying Decision Trees on BOW,<font color='red'> SET 1</font>"
   ]
  },
  {
   "cell_type": "code",
   "execution_count": 47,
   "metadata": {},
   "outputs": [],
   "source": [
    "from sklearn.model_selection import GridSearchCV\n",
    "from prettytable import PrettyTable\n",
    "from sklearn.model_selection import train_test_split\n",
    "from sklearn.tree import DecisionTreeClassifier\n",
    "from sklearn import tree\n",
    "from sklearn.calibration import CalibratedClassifierCV, calibration_curve\n",
    "from sklearn.metrics import roc_curve, auc,roc_auc_score\n",
    "from graphviz import Source"
   ]
  },
  {
   "cell_type": "code",
   "execution_count": 52,
   "metadata": {
    "colab": {},
    "colab_type": "code",
    "id": "vnSi4W-iiWOt"
   },
   "outputs": [
    {
     "name": "stdout",
     "output_type": "stream",
     "text": [
      "{'max_depth': 14, 'min_samples_split': 50}\n"
     ]
    },
    {
     "data": {
      "image/png": "[encoded data removed]",
      "text/plain": [
       "<Figure size 432x288 with 1 Axes>"
      ]
     },
     "metadata": {},
     "output_type": "display_data"
    },
    {
     "name": "stdout",
     "output_type": "stream",
     "text": [
      "Wall time: 3min 57s\n"
     ]
    }
   ],
   "source": [
    "%%time\n",
    "hyperParams  = {'max_depth':[4,6,8,9,10,12,14,17],'min_samples_split':[2,10,20,30,40,50]}\n",
    "paramFinder = DecisionTreeClassifier(class_weight='balanced')\n",
    "\n",
    "DecTree = GridSearchCV(paramFinder, hyperParams, cv=5, scoring='roc_auc', return_train_score=True)\n",
    "DecTree.fit(final_bigram_counts_train, Y_tr)\n",
    "print(DecTree.best_params_)\n",
    "p1=DecTree.best_params_\n",
    "y_pred = DecTree.best_estimator_.predict_proba(final_bigram_counts_test)[:,1]\n",
    "y_pred_cv = DecTree.best_estimator_.predict_proba(final_bigram_counts_cv)[:,1]\n",
    "\n",
    "trainTest = pd.DataFrame(DecTree.cv_results_)\n",
    "plt.plot(trainTest['param_max_depth'],trainTest['mean_test_score'],label='Test Score');\n",
    "plt.plot(trainTest['param_max_depth'],trainTest['mean_train_score'],label='Train Score');\n",
    "plt.xlabel(\"Tree Depth\")\n",
    "plt.ylabel(\"AUC Score\")\n",
    "plt.legend()\n",
    "plt.show()\n",
    "\n",
    "# Initilaising SGD with Best parameters\n",
    "#sgd = SGDClassifier(loss='hinge', penalty = optimal_Penalty, alpha = optimal_Alpha, class_weight='balanced')\n",
    "#sgd.fit(Xtr, Ytr)"
   ]
  },
  {
   "cell_type": "code",
   "execution_count": 78,
   "metadata": {
    "colab": {},
    "colab_type": "code",
    "id": "vnSi4W-iiWOt"
   },
   "outputs": [
    {
     "data": {
      "image/png": "[encoded data removed]",
      "text/plain": [
       "<Figure size 432x288 with 1 Axes>"
      ]
     },
     "metadata": {},
     "output_type": "display_data"
    },
    {
     "data": {
      "image/png": "[encoded data removed]",
      "text/plain": [
       "<Figure size 432x288 with 1 Axes>"
      ]
     },
     "metadata": {},
     "output_type": "display_data"
    }
   ],
   "source": [
    "# Using CalibratedClassifierCV to get Probabilities\n",
    "sgd_BOW = CalibratedClassifierCV(base_estimator=DecTree.best_estimator_, cv='prefit', method='sigmoid')\n",
    "sgd_BOW.fit(final_bigram_counts_cv, Y_cv)\n",
    "\n",
    "y_pred1 = sgd_BOW.predict_proba(final_bigram_counts_test)[:,1]\n",
    "y_pred_cv1 = sgd_BOW.predict_proba(final_bigram_counts_cv)[:,1]\n",
    "y_pred_ConMatrixTest = sgd_BOW.predict(final_bigram_counts_test)\n",
    "y_pred_ConMatrixCv = sgd_BOW.predict(final_bigram_counts_cv)\n",
    "\n",
    "# Calibration curve\n",
    "fop_uncalibrated, mpv_uncalibrated = calibration_curve(Y_test, y_pred, n_bins=10, normalize=True)\n",
    "fop_calibrated, mpv_calibrated = calibration_curve(Y_test, y_pred1, n_bins=10, normalize=True)\n",
    "arr1,=plt.plot([0, 1], [0, 1], linestyle='--', color='black',label='Base')\n",
    "arr2,=plt.plot(mpv_uncalibrated, fop_uncalibrated, marker='.',color='cyan',label='Uncalibrated')\n",
    "arr3,=plt.plot(mpv_calibrated, fop_calibrated,marker='.',label='Calibrated')\n",
    "plt.legend([arr1, arr2, arr3], ['Base','Uncalibrated','Calibrated'])\n",
    "plt.show()\n",
    "\n",
    "#Plot of a ROC curve for test set\n",
    "fpr, tpr, lol = roc_curve(Y_test,  y_pred)\n",
    "auc1 = roc_auc_score(Y_test, y_pred)\n",
    "plt.plot(fpr,tpr,label=\"Test Data, Auc=\"+str(round(auc1,2)))\n",
    "fpr, tpr, lol = roc_curve(Y_cv,  y_pred_cv)\n",
    "aucCV = roc_auc_score(Y_cv, y_pred_cv)\n",
    "plt.plot(fpr,tpr,label=\"Cv Data, Auc=\"+str(round(aucCV,2)))\n",
    "plt.legend()\n",
    "plt.show()"
   ]
  },
  {
   "cell_type": "code",
   "execution_count": 79,
   "metadata": {},
   "outputs": [
    {
     "data": {
      "image/png": "[encoded data removed]",
      "text/plain": [
       "<Figure size 432x288 with 2 Axes>"
      ]
     },
     "metadata": {},
     "output_type": "display_data"
    },
    {
     "data": {
      "image/png": "[encoded data removed]",
      "text/plain": [
       "<Figure size 432x288 with 2 Axes>"
      ]
     },
     "metadata": {},
     "output_type": "display_data"
    }
   ],
   "source": [
    "#Confusion Matrix\n",
    "conf_mat = confusion_matrix(Y_test, y_pred_ConMatrixTest)\n",
    "\n",
    "#Confusion Matrix Heatmap\n",
    "class_label = [\"0\", \"1\"]\n",
    "df = pd.DataFrame(conf_mat, index = class_label, columns = class_label)\n",
    "sns.heatmap(df, annot = True,fmt=\"d\",cmap=\"Spectral\")\n",
    "plt.title(\"Confusion Matrix(Test Data)\")\n",
    "plt.xlabel(\"Predicted Label\")\n",
    "plt.ylabel(\"True Label\")\n",
    "plt.show()\n",
    "\n",
    "#Confusion Matrix\n",
    "conf_mat = confusion_matrix(Y_cv, y_pred_ConMatrixCv)\n",
    "\n",
    "#Confusion Matrix Heatmap\n",
    "class_label = [\"0\", \"1\"]\n",
    "df = pd.DataFrame(conf_mat, index = class_label, columns = class_label)\n",
    "sns.heatmap(df, annot = True,fmt=\"d\",cmap=\"Spectral\")\n",
    "plt.title(\"Confusion Matrix(CV Data)\")\n",
    "plt.xlabel(\"Predicted Label\")\n",
    "plt.ylabel(\"True Label\")\n",
    "plt.show()\n",
    "\n"
   ]
  },
  {
   "cell_type": "markdown",
   "metadata": {
    "colab_type": "text",
    "id": "jm4vkPwMiWOu"
   },
   "source": [
    "### [5.1.1] Top 20 important features from<font color='red'> SET 1</font>"
   ]
  },
  {
   "cell_type": "code",
   "execution_count": 73,
   "metadata": {
    "colab": {},
    "colab_type": "code",
    "id": "puCcjOAkiWOv"
   },
   "outputs": [
    {
     "name": "stdout",
     "output_type": "stream",
     "text": [
      "Top 20  features \n",
      "==================================================\n",
      "('not', 0.19534857684513313)\n",
      "('great', 0.1318571523367214)\n",
      "('delicious', 0.05334536732998639)\n",
      "('best', 0.052046068976657964)\n",
      "('love', 0.0443934447135667)\n",
      "('disappointed', 0.040523196478473994)\n",
      "('good', 0.03262577890983965)\n",
      "('favorite', 0.025785658534792505)\n",
      "('loves', 0.024884364101907773)\n",
      "('perfect', 0.021043966945835095)\n",
      "('excellent', 0.019164064002049928)\n",
      "('nice', 0.015748994826615494)\n",
      "('not good', 0.01325517279011154)\n",
      "('thought', 0.012841745409378779)\n",
      "('tasty', 0.012393097296799039)\n",
      "('easy', 0.010252618642415248)\n",
      "('wonderful', 0.009669988522052125)\n",
      "('horrible', 0.00849363676727534)\n",
      "('awful', 0.008028800358791359)\n",
      "('worst', 0.007418690069527927)\n"
     ]
    }
   ],
   "source": [
    "# Please write all the code with proper documentation\n",
    "\n",
    "Weight_vect = DecTree.best_estimator_.feature_importances_\n",
    "Feature_Names=count_vect.get_feature_names()\n",
    "d={}\n",
    "\n",
    "# Looping through both Feature_names and Weights and creating dictionary.\n",
    "for i in range(len(Feature_Names)):\n",
    "    d.update({Feature_Names[i]:Weight_vect[i]})\n",
    "\n",
    "# Sorting wrt to Weights. [kv[1]] contains weights\n",
    "Weight_Sorted_Words=sorted(d.items(), key = lambda kv:(kv[1], kv[0]))\n",
    "print(\"Top 20  features \") \n",
    "print('='*50)\n",
    "for i in range(20):\n",
    "    print((Weight_Sorted_Words[-1*(i+1)]))\n"
   ]
  },
  {
   "cell_type": "markdown",
   "metadata": {
    "colab_type": "text",
    "id": "7JyitDTTiWOx"
   },
   "source": [
    "### [5.1.2] Graphviz visualization of Decision Tree on BOW,<font color='red'> SET 1</font>"
   ]
  },
  {
   "cell_type": "code",
   "execution_count": 74,
   "metadata": {},
   "outputs": [
    {
     "data": {
      "image/svg+xml": [
       "<?xml version=\"1.0\" encoding=\"UTF-8\" standalone=\"no\"?>\r\n",
       "<!DOCTYPE svg PUBLIC \"-//W3C//DTD SVG 1.1//EN\"\r\n",
       " \"http://www.w3.org/Graphics/SVG/1.1/DTD/svg11.dtd\">\r\n",
       "<!-- Generated by graphviz version 2.38.0 (20140413.2041)\r\n",
       " -->\r\n",
       "<!-- Title: Tree Pages: 1 -->\r\n",
       "<svg width=\"1166pt\" height=\"460pt\"\r\n",
       " viewBox=\"0.00 0.00 1166.00 460.00\" xmlns=\"http://www.w3.org/2000/svg\" xmlns:xlink=\"http://www.w3.org/1999/xlink\">\r\n",
       "<g id=\"graph0\" class=\"graph\" transform=\"scale(1 1) rotate(0) translate(4 456)\">\r\n",
       "<title>Tree</title>\r\n",
       "<polygon fill=\"white\" stroke=\"none\" points=\"-4,4 -4,-456 1162,-456 1162,4 -4,4\"/>\r\n",
       "<!-- 0 -->\r\n",
       "<g id=\"node1\" class=\"node\"><title>0</title>\r\n",
       "<polygon fill=\"none\" stroke=\"black\" points=\"613.5,-452 468.5,-452 468.5,-384 613.5,-384 613.5,-452\"/>\r\n",
       "<text text-anchor=\"middle\" x=\"541\" y=\"-436.8\" font-family=\"Times New Roman,serif\" font-size=\"14.00\">not &lt;= 0.5</text>\r\n",
       "<text text-anchor=\"middle\" x=\"541\" y=\"-421.8\" font-family=\"Times New Roman,serif\" font-size=\"14.00\">gini = 0.5</text>\r\n",
       "<text text-anchor=\"middle\" x=\"541\" y=\"-406.8\" font-family=\"Times New Roman,serif\" font-size=\"14.00\">samples = 24500</text>\r\n",
       "<text text-anchor=\"middle\" x=\"541\" y=\"-391.8\" font-family=\"Times New Roman,serif\" font-size=\"14.00\">value = [12250, 12250]</text>\r\n",
       "</g>\r\n",
       "<!-- 1 -->\r\n",
       "<g id=\"node2\" class=\"node\"><title>1</title>\r\n",
       "<polygon fill=\"none\" stroke=\"black\" points=\"502.5,-348 371.5,-348 371.5,-280 502.5,-280 502.5,-348\"/>\r\n",
       "<text text-anchor=\"middle\" x=\"437\" y=\"-332.8\" font-family=\"Times New Roman,serif\" font-size=\"14.00\">great &lt;= 0.5</text>\r\n",
       "<text text-anchor=\"middle\" x=\"437\" y=\"-317.8\" font-family=\"Times New Roman,serif\" font-size=\"14.00\">gini = 0.449</text>\r\n",
       "<text text-anchor=\"middle\" x=\"437\" y=\"-302.8\" font-family=\"Times New Roman,serif\" font-size=\"14.00\">samples = 9340</text>\r\n",
       "<text text-anchor=\"middle\" x=\"437\" y=\"-287.8\" font-family=\"Times New Roman,serif\" font-size=\"14.00\">value = [3181, 6159]</text>\r\n",
       "</g>\r\n",
       "<!-- 0&#45;&gt;1 -->\r\n",
       "<g id=\"edge1\" class=\"edge\"><title>0&#45;&gt;1</title>\r\n",
       "<path fill=\"none\" stroke=\"black\" d=\"M507.234,-383.884C497.971,-374.798 487.823,-364.845 478.193,-355.4\"/>\r\n",
       "<polygon fill=\"black\" stroke=\"black\" points=\"480.542,-352.803 470.952,-348.299 475.641,-357.8 480.542,-352.803\"/>\r\n",
       "<text text-anchor=\"middle\" x=\"471.195\" y=\"-369.598\" font-family=\"Times New Roman,serif\" font-size=\"14.00\">True</text>\r\n",
       "</g>\r\n",
       "<!-- 198 -->\r\n",
       "<g id=\"node15\" class=\"node\"><title>198</title>\r\n",
       "<polygon fill=\"none\" stroke=\"black\" points=\"711.5,-348 580.5,-348 580.5,-280 711.5,-280 711.5,-348\"/>\r\n",
       "<text text-anchor=\"middle\" x=\"646\" y=\"-332.8\" font-family=\"Times New Roman,serif\" font-size=\"14.00\">great &lt;= 0.5</text>\r\n",
       "<text text-anchor=\"middle\" x=\"646\" y=\"-317.8\" font-family=\"Times New Roman,serif\" font-size=\"14.00\">gini = 0.481</text>\r\n",
       "<text text-anchor=\"middle\" x=\"646\" y=\"-302.8\" font-family=\"Times New Roman,serif\" font-size=\"14.00\">samples = 15160</text>\r\n",
       "<text text-anchor=\"middle\" x=\"646\" y=\"-287.8\" font-family=\"Times New Roman,serif\" font-size=\"14.00\">value = [9069, 6091]</text>\r\n",
       "</g>\r\n",
       "<!-- 0&#45;&gt;198 -->\r\n",
       "<g id=\"edge14\" class=\"edge\"><title>0&#45;&gt;198</title>\r\n",
       "<path fill=\"none\" stroke=\"black\" d=\"M575.09,-383.884C584.443,-374.798 594.688,-364.845 604.411,-355.4\"/>\r\n",
       "<polygon fill=\"black\" stroke=\"black\" points=\"606.987,-357.778 611.721,-348.299 602.11,-352.757 606.987,-357.778\"/>\r\n",
       "<text text-anchor=\"middle\" x=\"611.359\" y=\"-369.597\" font-family=\"Times New Roman,serif\" font-size=\"14.00\">False</text>\r\n",
       "</g>\r\n",
       "<!-- 2 -->\r\n",
       "<g id=\"node3\" class=\"node\"><title>2</title>\r\n",
       "<polygon fill=\"none\" stroke=\"black\" points=\"295.5,-244 164.5,-244 164.5,-176 295.5,-176 295.5,-244\"/>\r\n",
       "<text text-anchor=\"middle\" x=\"230\" y=\"-228.8\" font-family=\"Times New Roman,serif\" font-size=\"14.00\">disappointed &lt;= 0.5</text>\r\n",
       "<text text-anchor=\"middle\" x=\"230\" y=\"-213.8\" font-family=\"Times New Roman,serif\" font-size=\"14.00\">gini = 0.479</text>\r\n",
       "<text text-anchor=\"middle\" x=\"230\" y=\"-198.8\" font-family=\"Times New Roman,serif\" font-size=\"14.00\">samples = 7522</text>\r\n",
       "<text text-anchor=\"middle\" x=\"230\" y=\"-183.8\" font-family=\"Times New Roman,serif\" font-size=\"14.00\">value = [2993, 4529]</text>\r\n",
       "</g>\r\n",
       "<!-- 1&#45;&gt;2 -->\r\n",
       "<g id=\"edge2\" class=\"edge\"><title>1&#45;&gt;2</title>\r\n",
       "<path fill=\"none\" stroke=\"black\" d=\"M371.219,-280.586C350.088,-270.174 326.526,-258.564 304.797,-247.857\"/>\r\n",
       "<polygon fill=\"black\" stroke=\"black\" points=\"306.127,-244.61 295.609,-243.329 303.032,-250.889 306.127,-244.61\"/>\r\n",
       "</g>\r\n",
       "<!-- 171 -->\r\n",
       "<g id=\"node10\" class=\"node\"><title>171</title>\r\n",
       "<polygon fill=\"none\" stroke=\"black\" points=\"499.5,-244 374.5,-244 374.5,-176 499.5,-176 499.5,-244\"/>\r\n",
       "<text text-anchor=\"middle\" x=\"437\" y=\"-228.8\" font-family=\"Times New Roman,serif\" font-size=\"14.00\">bad &lt;= 0.5</text>\r\n",
       "<text text-anchor=\"middle\" x=\"437\" y=\"-213.8\" font-family=\"Times New Roman,serif\" font-size=\"14.00\">gini = 0.185</text>\r\n",
       "<text text-anchor=\"middle\" x=\"437\" y=\"-198.8\" font-family=\"Times New Roman,serif\" font-size=\"14.00\">samples = 1818</text>\r\n",
       "<text text-anchor=\"middle\" x=\"437\" y=\"-183.8\" font-family=\"Times New Roman,serif\" font-size=\"14.00\">value = [188, 1630]</text>\r\n",
       "</g>\r\n",
       "<!-- 1&#45;&gt;171 -->\r\n",
       "<g id=\"edge9\" class=\"edge\"><title>1&#45;&gt;171</title>\r\n",
       "<path fill=\"none\" stroke=\"black\" d=\"M437,-279.884C437,-271.778 437,-262.982 437,-254.472\"/>\r\n",
       "<polygon fill=\"black\" stroke=\"black\" points=\"440.5,-254.299 437,-244.299 433.5,-254.299 440.5,-254.299\"/>\r\n",
       "</g>\r\n",
       "<!-- 3 -->\r\n",
       "<g id=\"node4\" class=\"node\"><title>3</title>\r\n",
       "<polygon fill=\"none\" stroke=\"black\" points=\"156.5,-140 25.5,-140 25.5,-72 156.5,-72 156.5,-140\"/>\r\n",
       "<text text-anchor=\"middle\" x=\"91\" y=\"-124.8\" font-family=\"Times New Roman,serif\" font-size=\"14.00\">best &lt;= 0.5</text>\r\n",
       "<text text-anchor=\"middle\" x=\"91\" y=\"-109.8\" font-family=\"Times New Roman,serif\" font-size=\"14.00\">gini = 0.472</text>\r\n",
       "<text text-anchor=\"middle\" x=\"91\" y=\"-94.8\" font-family=\"Times New Roman,serif\" font-size=\"14.00\">samples = 7286</text>\r\n",
       "<text text-anchor=\"middle\" x=\"91\" y=\"-79.8\" font-family=\"Times New Roman,serif\" font-size=\"14.00\">value = [2779, 4507]</text>\r\n",
       "</g>\r\n",
       "<!-- 2&#45;&gt;3 -->\r\n",
       "<g id=\"edge3\" class=\"edge\"><title>2&#45;&gt;3</title>\r\n",
       "<path fill=\"none\" stroke=\"black\" d=\"M184.871,-175.884C172.004,-166.442 157.861,-156.064 144.544,-146.292\"/>\r\n",
       "<polygon fill=\"black\" stroke=\"black\" points=\"146.511,-143.394 136.379,-140.299 142.37,-149.037 146.511,-143.394\"/>\r\n",
       "</g>\r\n",
       "<!-- 148 -->\r\n",
       "<g id=\"node7\" class=\"node\"><title>148</title>\r\n",
       "<polygon fill=\"none\" stroke=\"black\" points=\"285.5,-140 174.5,-140 174.5,-72 285.5,-72 285.5,-140\"/>\r\n",
       "<text text-anchor=\"middle\" x=\"230\" y=\"-124.8\" font-family=\"Times New Roman,serif\" font-size=\"14.00\">happy &lt;= 0.5</text>\r\n",
       "<text text-anchor=\"middle\" x=\"230\" y=\"-109.8\" font-family=\"Times New Roman,serif\" font-size=\"14.00\">gini = 0.169</text>\r\n",
       "<text text-anchor=\"middle\" x=\"230\" y=\"-94.8\" font-family=\"Times New Roman,serif\" font-size=\"14.00\">samples = 236</text>\r\n",
       "<text text-anchor=\"middle\" x=\"230\" y=\"-79.8\" font-family=\"Times New Roman,serif\" font-size=\"14.00\">value = [214, 22]</text>\r\n",
       "</g>\r\n",
       "<!-- 2&#45;&gt;148 -->\r\n",
       "<g id=\"edge6\" class=\"edge\"><title>2&#45;&gt;148</title>\r\n",
       "<path fill=\"none\" stroke=\"black\" d=\"M230,-175.884C230,-167.778 230,-158.982 230,-150.472\"/>\r\n",
       "<polygon fill=\"black\" stroke=\"black\" points=\"233.5,-150.299 230,-140.299 226.5,-150.299 233.5,-150.299\"/>\r\n",
       "</g>\r\n",
       "<!-- 4 -->\r\n",
       "<g id=\"node5\" class=\"node\"><title>4</title>\r\n",
       "<polygon fill=\"none\" stroke=\"black\" points=\"54,-36 0,-36 0,-0 54,-0 54,-36\"/>\r\n",
       "<text text-anchor=\"middle\" x=\"27\" y=\"-14.3\" font-family=\"Times New Roman,serif\" font-size=\"14.00\">(...)</text>\r\n",
       "</g>\r\n",
       "<!-- 3&#45;&gt;4 -->\r\n",
       "<g id=\"edge4\" class=\"edge\"><title>3&#45;&gt;4</title>\r\n",
       "<path fill=\"none\" stroke=\"black\" d=\"M66.439,-71.9961C59.6708,-62.9014 52.4327,-53.1752 46.0288,-44.57\"/>\r\n",
       "<polygon fill=\"black\" stroke=\"black\" points=\"48.7293,-42.3362 39.9514,-36.4034 43.1137,-46.5153 48.7293,-42.3362\"/>\r\n",
       "</g>\r\n",
       "<!-- 127 -->\r\n",
       "<g id=\"node6\" class=\"node\"><title>127</title>\r\n",
       "<polygon fill=\"none\" stroke=\"black\" points=\"126,-36 72,-36 72,-0 126,-0 126,-36\"/>\r\n",
       "<text text-anchor=\"middle\" x=\"99\" y=\"-14.3\" font-family=\"Times New Roman,serif\" font-size=\"14.00\">(...)</text>\r\n",
       "</g>\r\n",
       "<!-- 3&#45;&gt;127 -->\r\n",
       "<g id=\"edge5\" class=\"edge\"><title>3&#45;&gt;127</title>\r\n",
       "<path fill=\"none\" stroke=\"black\" d=\"M94.0701,-71.9961C94.8545,-63.5646 95.6893,-54.5902 96.4447,-46.4696\"/>\r\n",
       "<polygon fill=\"black\" stroke=\"black\" points=\"99.9397,-46.6846 97.3811,-36.4034 92.9698,-46.0362 99.9397,-46.6846\"/>\r\n",
       "</g>\r\n",
       "<!-- 149 -->\r\n",
       "<g id=\"node8\" class=\"node\"><title>149</title>\r\n",
       "<polygon fill=\"none\" stroke=\"black\" points=\"213,-36 159,-36 159,-0 213,-0 213,-36\"/>\r\n",
       "<text text-anchor=\"middle\" x=\"186\" y=\"-14.3\" font-family=\"Times New Roman,serif\" font-size=\"14.00\">(...)</text>\r\n",
       "</g>\r\n",
       "<!-- 148&#45;&gt;149 -->\r\n",
       "<g id=\"edge7\" class=\"edge\"><title>148&#45;&gt;149</title>\r\n",
       "<path fill=\"none\" stroke=\"black\" d=\"M213.114,-71.9961C208.607,-63.1856 203.796,-53.7825 199.497,-45.38\"/>\r\n",
       "<polygon fill=\"black\" stroke=\"black\" points=\"202.575,-43.7117 194.904,-36.4034 196.343,-46.9001 202.575,-43.7117\"/>\r\n",
       "</g>\r\n",
       "<!-- 170 -->\r\n",
       "<g id=\"node9\" class=\"node\"><title>170</title>\r\n",
       "<polygon fill=\"none\" stroke=\"black\" points=\"285,-36 231,-36 231,-0 285,-0 285,-36\"/>\r\n",
       "<text text-anchor=\"middle\" x=\"258\" y=\"-14.3\" font-family=\"Times New Roman,serif\" font-size=\"14.00\">(...)</text>\r\n",
       "</g>\r\n",
       "<!-- 148&#45;&gt;170 -->\r\n",
       "<g id=\"edge8\" class=\"edge\"><title>148&#45;&gt;170</title>\r\n",
       "<path fill=\"none\" stroke=\"black\" d=\"M240.745,-71.9961C243.552,-63.3751 246.544,-54.1866 249.234,-45.9234\"/>\r\n",
       "<polygon fill=\"black\" stroke=\"black\" points=\"252.566,-46.9957 252.334,-36.4034 245.91,-44.8285 252.566,-46.9957\"/>\r\n",
       "</g>\r\n",
       "<!-- 172 -->\r\n",
       "<g id=\"node11\" class=\"node\"><title>172</title>\r\n",
       "<polygon fill=\"none\" stroke=\"black\" points=\"434,-140 304,-140 304,-72 434,-72 434,-140\"/>\r\n",
       "<text text-anchor=\"middle\" x=\"369\" y=\"-124.8\" font-family=\"Times New Roman,serif\" font-size=\"14.00\">disappointed &lt;= 0.5</text>\r\n",
       "<text text-anchor=\"middle\" x=\"369\" y=\"-109.8\" font-family=\"Times New Roman,serif\" font-size=\"14.00\">gini = 0.173</text>\r\n",
       "<text text-anchor=\"middle\" x=\"369\" y=\"-94.8\" font-family=\"Times New Roman,serif\" font-size=\"14.00\">samples = 1785</text>\r\n",
       "<text text-anchor=\"middle\" x=\"369\" y=\"-79.8\" font-family=\"Times New Roman,serif\" font-size=\"14.00\">value = [171, 1614]</text>\r\n",
       "</g>\r\n",
       "<!-- 171&#45;&gt;172 -->\r\n",
       "<g id=\"edge10\" class=\"edge\"><title>171&#45;&gt;172</title>\r\n",
       "<path fill=\"none\" stroke=\"black\" d=\"M414.922,-175.884C409.162,-167.243 402.879,-157.819 396.862,-148.793\"/>\r\n",
       "<polygon fill=\"black\" stroke=\"black\" points=\"399.659,-146.678 391.2,-140.299 393.834,-150.561 399.659,-146.678\"/>\r\n",
       "</g>\r\n",
       "<!-- 197 -->\r\n",
       "<g id=\"node14\" class=\"node\"><title>197</title>\r\n",
       "<polygon fill=\"none\" stroke=\"black\" points=\"556,-132.5 452,-132.5 452,-79.5 556,-79.5 556,-132.5\"/>\r\n",
       "<text text-anchor=\"middle\" x=\"504\" y=\"-117.3\" font-family=\"Times New Roman,serif\" font-size=\"14.00\">gini = 0.5</text>\r\n",
       "<text text-anchor=\"middle\" x=\"504\" y=\"-102.3\" font-family=\"Times New Roman,serif\" font-size=\"14.00\">samples = 33</text>\r\n",
       "<text text-anchor=\"middle\" x=\"504\" y=\"-87.3\" font-family=\"Times New Roman,serif\" font-size=\"14.00\">value = [17, 16]</text>\r\n",
       "</g>\r\n",
       "<!-- 171&#45;&gt;197 -->\r\n",
       "<g id=\"edge13\" class=\"edge\"><title>171&#45;&gt;197</title>\r\n",
       "<path fill=\"none\" stroke=\"black\" d=\"M458.753,-175.884C466.049,-164.776 474.197,-152.372 481.546,-141.184\"/>\r\n",
       "<polygon fill=\"black\" stroke=\"black\" points=\"484.672,-142.8 487.237,-132.52 478.821,-138.957 484.672,-142.8\"/>\r\n",
       "</g>\r\n",
       "<!-- 173 -->\r\n",
       "<g id=\"node12\" class=\"node\"><title>173</title>\r\n",
       "<polygon fill=\"none\" stroke=\"black\" points=\"388,-36 334,-36 334,-0 388,-0 388,-36\"/>\r\n",
       "<text text-anchor=\"middle\" x=\"361\" y=\"-14.3\" font-family=\"Times New Roman,serif\" font-size=\"14.00\">(...)</text>\r\n",
       "</g>\r\n",
       "<!-- 172&#45;&gt;173 -->\r\n",
       "<g id=\"edge11\" class=\"edge\"><title>172&#45;&gt;173</title>\r\n",
       "<path fill=\"none\" stroke=\"black\" d=\"M365.93,-71.9961C365.146,-63.5646 364.311,-54.5902 363.555,-46.4696\"/>\r\n",
       "<polygon fill=\"black\" stroke=\"black\" points=\"367.03,-46.0362 362.619,-36.4034 360.06,-46.6846 367.03,-46.0362\"/>\r\n",
       "</g>\r\n",
       "<!-- 196 -->\r\n",
       "<g id=\"node13\" class=\"node\"><title>196</title>\r\n",
       "<polygon fill=\"none\" stroke=\"black\" points=\"460,-36 406,-36 406,-0 460,-0 460,-36\"/>\r\n",
       "<text text-anchor=\"middle\" x=\"433\" y=\"-14.3\" font-family=\"Times New Roman,serif\" font-size=\"14.00\">(...)</text>\r\n",
       "</g>\r\n",
       "<!-- 172&#45;&gt;196 -->\r\n",
       "<g id=\"edge12\" class=\"edge\"><title>172&#45;&gt;196</title>\r\n",
       "<path fill=\"none\" stroke=\"black\" d=\"M393.561,-71.9961C400.329,-62.9014 407.567,-53.1752 413.971,-44.57\"/>\r\n",
       "<polygon fill=\"black\" stroke=\"black\" points=\"416.886,-46.5153 420.049,-36.4034 411.271,-42.3362 416.886,-46.5153\"/>\r\n",
       "</g>\r\n",
       "<!-- 199 -->\r\n",
       "<g id=\"node16\" class=\"node\"><title>199</title>\r\n",
       "<polygon fill=\"none\" stroke=\"black\" points=\"711.5,-244 580.5,-244 580.5,-176 711.5,-176 711.5,-244\"/>\r\n",
       "<text text-anchor=\"middle\" x=\"646\" y=\"-228.8\" font-family=\"Times New Roman,serif\" font-size=\"14.00\">delicious &lt;= 0.5</text>\r\n",
       "<text text-anchor=\"middle\" x=\"646\" y=\"-213.8\" font-family=\"Times New Roman,serif\" font-size=\"14.00\">gini = 0.457</text>\r\n",
       "<text text-anchor=\"middle\" x=\"646\" y=\"-198.8\" font-family=\"Times New Roman,serif\" font-size=\"14.00\">samples = 12637</text>\r\n",
       "<text text-anchor=\"middle\" x=\"646\" y=\"-183.8\" font-family=\"Times New Roman,serif\" font-size=\"14.00\">value = [8181, 4456]</text>\r\n",
       "</g>\r\n",
       "<!-- 198&#45;&gt;199 -->\r\n",
       "<g id=\"edge15\" class=\"edge\"><title>198&#45;&gt;199</title>\r\n",
       "<path fill=\"none\" stroke=\"black\" d=\"M646,-279.884C646,-271.778 646,-262.982 646,-254.472\"/>\r\n",
       "<polygon fill=\"black\" stroke=\"black\" points=\"649.5,-254.299 646,-244.299 642.5,-254.299 649.5,-254.299\"/>\r\n",
       "</g>\r\n",
       "<!-- 458 -->\r\n",
       "<g id=\"node23\" class=\"node\"><title>458</title>\r\n",
       "<polygon fill=\"none\" stroke=\"black\" points=\"985.5,-244 860.5,-244 860.5,-176 985.5,-176 985.5,-244\"/>\r\n",
       "<text text-anchor=\"middle\" x=\"923\" y=\"-228.8\" font-family=\"Times New Roman,serif\" font-size=\"14.00\">not &lt;= 2.5</text>\r\n",
       "<text text-anchor=\"middle\" x=\"923\" y=\"-213.8\" font-family=\"Times New Roman,serif\" font-size=\"14.00\">gini = 0.456</text>\r\n",
       "<text text-anchor=\"middle\" x=\"923\" y=\"-198.8\" font-family=\"Times New Roman,serif\" font-size=\"14.00\">samples = 2523</text>\r\n",
       "<text text-anchor=\"middle\" x=\"923\" y=\"-183.8\" font-family=\"Times New Roman,serif\" font-size=\"14.00\">value = [888, 1635]</text>\r\n",
       "</g>\r\n",
       "<!-- 198&#45;&gt;458 -->\r\n",
       "<g id=\"edge22\" class=\"edge\"><title>198&#45;&gt;458</title>\r\n",
       "<path fill=\"none\" stroke=\"black\" d=\"M711.645,-288.827C753.44,-273.437 807.609,-253.49 850.644,-237.644\"/>\r\n",
       "<polygon fill=\"black\" stroke=\"black\" points=\"852.032,-240.862 860.207,-234.122 849.613,-234.294 852.032,-240.862\"/>\r\n",
       "</g>\r\n",
       "<!-- 200 -->\r\n",
       "<g id=\"node17\" class=\"node\"><title>200</title>\r\n",
       "<polygon fill=\"none\" stroke=\"black\" points=\"705.5,-140 574.5,-140 574.5,-72 705.5,-72 705.5,-140\"/>\r\n",
       "<text text-anchor=\"middle\" x=\"640\" y=\"-124.8\" font-family=\"Times New Roman,serif\" font-size=\"14.00\">best &lt;= 0.5</text>\r\n",
       "<text text-anchor=\"middle\" x=\"640\" y=\"-109.8\" font-family=\"Times New Roman,serif\" font-size=\"14.00\">gini = 0.446</text>\r\n",
       "<text text-anchor=\"middle\" x=\"640\" y=\"-94.8\" font-family=\"Times New Roman,serif\" font-size=\"14.00\">samples = 12088</text>\r\n",
       "<text text-anchor=\"middle\" x=\"640\" y=\"-79.8\" font-family=\"Times New Roman,serif\" font-size=\"14.00\">value = [8025, 4063]</text>\r\n",
       "</g>\r\n",
       "<!-- 199&#45;&gt;200 -->\r\n",
       "<g id=\"edge16\" class=\"edge\"><title>199&#45;&gt;200</title>\r\n",
       "<path fill=\"none\" stroke=\"black\" d=\"M644.052,-175.884C643.575,-167.778 643.058,-158.982 642.557,-150.472\"/>\r\n",
       "<polygon fill=\"black\" stroke=\"black\" points=\"646.04,-150.077 641.959,-140.299 639.052,-150.488 646.04,-150.077\"/>\r\n",
       "</g>\r\n",
       "<!-- 435 -->\r\n",
       "<g id=\"node20\" class=\"node\"><title>435</title>\r\n",
       "<polygon fill=\"none\" stroke=\"black\" points=\"842,-140 724,-140 724,-72 842,-72 842,-140\"/>\r\n",
       "<text text-anchor=\"middle\" x=\"783\" y=\"-124.8\" font-family=\"Times New Roman,serif\" font-size=\"14.00\">awful &lt;= 0.5</text>\r\n",
       "<text text-anchor=\"middle\" x=\"783\" y=\"-109.8\" font-family=\"Times New Roman,serif\" font-size=\"14.00\">gini = 0.407</text>\r\n",
       "<text text-anchor=\"middle\" x=\"783\" y=\"-94.8\" font-family=\"Times New Roman,serif\" font-size=\"14.00\">samples = 549</text>\r\n",
       "<text text-anchor=\"middle\" x=\"783\" y=\"-79.8\" font-family=\"Times New Roman,serif\" font-size=\"14.00\">value = [156, 393]</text>\r\n",
       "</g>\r\n",
       "<!-- 199&#45;&gt;435 -->\r\n",
       "<g id=\"edge19\" class=\"edge\"><title>199&#45;&gt;435</title>\r\n",
       "<path fill=\"none\" stroke=\"black\" d=\"M690.48,-175.884C703.162,-166.442 717.101,-156.064 730.226,-146.292\"/>\r\n",
       "<polygon fill=\"black\" stroke=\"black\" points=\"732.344,-149.079 738.274,-140.299 728.163,-143.464 732.344,-149.079\"/>\r\n",
       "</g>\r\n",
       "<!-- 201 -->\r\n",
       "<g id=\"node18\" class=\"node\"><title>201</title>\r\n",
       "<polygon fill=\"none\" stroke=\"black\" points=\"599,-36 545,-36 545,-0 599,-0 599,-36\"/>\r\n",
       "<text text-anchor=\"middle\" x=\"572\" y=\"-14.3\" font-family=\"Times New Roman,serif\" font-size=\"14.00\">(...)</text>\r\n",
       "</g>\r\n",
       "<!-- 200&#45;&gt;201 -->\r\n",
       "<g id=\"edge17\" class=\"edge\"><title>200&#45;&gt;201</title>\r\n",
       "<path fill=\"none\" stroke=\"black\" d=\"M613.904,-71.9961C606.638,-62.8067 598.862,-52.9725 592.006,-44.3014\"/>\r\n",
       "<polygon fill=\"black\" stroke=\"black\" points=\"594.709,-42.0767 585.761,-36.4034 589.218,-46.4184 594.709,-42.0767\"/>\r\n",
       "</g>\r\n",
       "<!-- 380 -->\r\n",
       "<g id=\"node19\" class=\"node\"><title>380</title>\r\n",
       "<polygon fill=\"none\" stroke=\"black\" points=\"671,-36 617,-36 617,-0 671,-0 671,-36\"/>\r\n",
       "<text text-anchor=\"middle\" x=\"644\" y=\"-14.3\" font-family=\"Times New Roman,serif\" font-size=\"14.00\">(...)</text>\r\n",
       "</g>\r\n",
       "<!-- 200&#45;&gt;380 -->\r\n",
       "<g id=\"edge18\" class=\"edge\"><title>200&#45;&gt;380</title>\r\n",
       "<path fill=\"none\" stroke=\"black\" d=\"M641.535,-71.9961C641.927,-63.5646 642.345,-54.5902 642.722,-46.4696\"/>\r\n",
       "<polygon fill=\"black\" stroke=\"black\" points=\"646.222,-46.5552 643.191,-36.4034 639.23,-46.2299 646.222,-46.5552\"/>\r\n",
       "</g>\r\n",
       "<!-- 436 -->\r\n",
       "<g id=\"node21\" class=\"node\"><title>436</title>\r\n",
       "<polygon fill=\"none\" stroke=\"black\" points=\"751,-36 697,-36 697,-0 751,-0 751,-36\"/>\r\n",
       "<text text-anchor=\"middle\" x=\"724\" y=\"-14.3\" font-family=\"Times New Roman,serif\" font-size=\"14.00\">(...)</text>\r\n",
       "</g>\r\n",
       "<!-- 435&#45;&gt;436 -->\r\n",
       "<g id=\"edge20\" class=\"edge\"><title>435&#45;&gt;436</title>\r\n",
       "<path fill=\"none\" stroke=\"black\" d=\"M760.358,-71.9961C754.183,-62.9962 747.585,-53.3778 741.727,-44.8393\"/>\r\n",
       "<polygon fill=\"black\" stroke=\"black\" points=\"744.483,-42.6694 735.94,-36.4034 738.711,-46.6294 744.483,-42.6694\"/>\r\n",
       "</g>\r\n",
       "<!-- 457 -->\r\n",
       "<g id=\"node22\" class=\"node\"><title>457</title>\r\n",
       "<polygon fill=\"none\" stroke=\"black\" points=\"823,-36 769,-36 769,-0 823,-0 823,-36\"/>\r\n",
       "<text text-anchor=\"middle\" x=\"796\" y=\"-14.3\" font-family=\"Times New Roman,serif\" font-size=\"14.00\">(...)</text>\r\n",
       "</g>\r\n",
       "<!-- 435&#45;&gt;457 -->\r\n",
       "<g id=\"edge21\" class=\"edge\"><title>435&#45;&gt;457</title>\r\n",
       "<path fill=\"none\" stroke=\"black\" d=\"M787.989,-71.9961C789.263,-63.5646 790.62,-54.5902 791.848,-46.4696\"/>\r\n",
       "<polygon fill=\"black\" stroke=\"black\" points=\"795.335,-46.8142 793.369,-36.4034 788.414,-45.7679 795.335,-46.8142\"/>\r\n",
       "</g>\r\n",
       "<!-- 459 -->\r\n",
       "<g id=\"node24\" class=\"node\"><title>459</title>\r\n",
       "<polygon fill=\"none\" stroke=\"black\" points=\"985.5,-140 860.5,-140 860.5,-72 985.5,-72 985.5,-140\"/>\r\n",
       "<text text-anchor=\"middle\" x=\"923\" y=\"-124.8\" font-family=\"Times New Roman,serif\" font-size=\"14.00\">thought &lt;= 0.5</text>\r\n",
       "<text text-anchor=\"middle\" x=\"923\" y=\"-109.8\" font-family=\"Times New Roman,serif\" font-size=\"14.00\">gini = 0.415</text>\r\n",
       "<text text-anchor=\"middle\" x=\"923\" y=\"-94.8\" font-family=\"Times New Roman,serif\" font-size=\"14.00\">samples = 1843</text>\r\n",
       "<text text-anchor=\"middle\" x=\"923\" y=\"-79.8\" font-family=\"Times New Roman,serif\" font-size=\"14.00\">value = [541, 1302]</text>\r\n",
       "</g>\r\n",
       "<!-- 458&#45;&gt;459 -->\r\n",
       "<g id=\"edge23\" class=\"edge\"><title>458&#45;&gt;459</title>\r\n",
       "<path fill=\"none\" stroke=\"black\" d=\"M923,-175.884C923,-167.778 923,-158.982 923,-150.472\"/>\r\n",
       "<polygon fill=\"black\" stroke=\"black\" points=\"926.5,-150.299 923,-140.299 919.5,-150.299 926.5,-150.299\"/>\r\n",
       "</g>\r\n",
       "<!-- 530 -->\r\n",
       "<g id=\"node27\" class=\"node\"><title>530</title>\r\n",
       "<polygon fill=\"none\" stroke=\"black\" points=\"1122,-140 1004,-140 1004,-72 1122,-72 1122,-140\"/>\r\n",
       "<text text-anchor=\"middle\" x=\"1063\" y=\"-124.8\" font-family=\"Times New Roman,serif\" font-size=\"14.00\">not even &lt;= 0.5</text>\r\n",
       "<text text-anchor=\"middle\" x=\"1063\" y=\"-109.8\" font-family=\"Times New Roman,serif\" font-size=\"14.00\">gini = 0.5</text>\r\n",
       "<text text-anchor=\"middle\" x=\"1063\" y=\"-94.8\" font-family=\"Times New Roman,serif\" font-size=\"14.00\">samples = 680</text>\r\n",
       "<text text-anchor=\"middle\" x=\"1063\" y=\"-79.8\" font-family=\"Times New Roman,serif\" font-size=\"14.00\">value = [347, 333]</text>\r\n",
       "</g>\r\n",
       "<!-- 458&#45;&gt;530 -->\r\n",
       "<g id=\"edge26\" class=\"edge\"><title>458&#45;&gt;530</title>\r\n",
       "<path fill=\"none\" stroke=\"black\" d=\"M968.454,-175.884C981.413,-166.442 995.658,-156.064 1009.07,-146.292\"/>\r\n",
       "<polygon fill=\"black\" stroke=\"black\" points=\"1011.27,-149.017 1017.29,-140.299 1007.15,-143.359 1011.27,-149.017\"/>\r\n",
       "</g>\r\n",
       "<!-- 460 -->\r\n",
       "<g id=\"node25\" class=\"node\"><title>460</title>\r\n",
       "<polygon fill=\"none\" stroke=\"black\" points=\"911,-36 857,-36 857,-0 911,-0 911,-36\"/>\r\n",
       "<text text-anchor=\"middle\" x=\"884\" y=\"-14.3\" font-family=\"Times New Roman,serif\" font-size=\"14.00\">(...)</text>\r\n",
       "</g>\r\n",
       "<!-- 459&#45;&gt;460 -->\r\n",
       "<g id=\"edge24\" class=\"edge\"><title>459&#45;&gt;460</title>\r\n",
       "<path fill=\"none\" stroke=\"black\" d=\"M908.033,-71.9961C904.081,-63.2804 899.865,-53.9846 896.086,-45.6514\"/>\r\n",
       "<polygon fill=\"black\" stroke=\"black\" points=\"899.21,-44.0651 891.892,-36.4034 892.835,-46.9562 899.21,-44.0651\"/>\r\n",
       "</g>\r\n",
       "<!-- 509 -->\r\n",
       "<g id=\"node26\" class=\"node\"><title>509</title>\r\n",
       "<polygon fill=\"none\" stroke=\"black\" points=\"983,-36 929,-36 929,-0 983,-0 983,-36\"/>\r\n",
       "<text text-anchor=\"middle\" x=\"956\" y=\"-14.3\" font-family=\"Times New Roman,serif\" font-size=\"14.00\">(...)</text>\r\n",
       "</g>\r\n",
       "<!-- 459&#45;&gt;509 -->\r\n",
       "<g id=\"edge25\" class=\"edge\"><title>459&#45;&gt;509</title>\r\n",
       "<path fill=\"none\" stroke=\"black\" d=\"M935.664,-71.9961C938.972,-63.3751 942.498,-54.1866 945.669,-45.9234\"/>\r\n",
       "<polygon fill=\"black\" stroke=\"black\" points=\"949.007,-46.9935 949.322,-36.4034 942.472,-44.4857 949.007,-46.9935\"/>\r\n",
       "</g>\r\n",
       "<!-- 531 -->\r\n",
       "<g id=\"node28\" class=\"node\"><title>531</title>\r\n",
       "<polygon fill=\"none\" stroke=\"black\" points=\"1086,-36 1032,-36 1032,-0 1086,-0 1086,-36\"/>\r\n",
       "<text text-anchor=\"middle\" x=\"1059\" y=\"-14.3\" font-family=\"Times New Roman,serif\" font-size=\"14.00\">(...)</text>\r\n",
       "</g>\r\n",
       "<!-- 530&#45;&gt;531 -->\r\n",
       "<g id=\"edge27\" class=\"edge\"><title>530&#45;&gt;531</title>\r\n",
       "<path fill=\"none\" stroke=\"black\" d=\"M1061.46,-71.9961C1061.07,-63.5646 1060.66,-54.5902 1060.28,-46.4696\"/>\r\n",
       "<polygon fill=\"black\" stroke=\"black\" points=\"1063.77,-46.2299 1059.81,-36.4034 1056.78,-46.5552 1063.77,-46.2299\"/>\r\n",
       "</g>\r\n",
       "<!-- 580 -->\r\n",
       "<g id=\"node29\" class=\"node\"><title>580</title>\r\n",
       "<polygon fill=\"none\" stroke=\"black\" points=\"1158,-36 1104,-36 1104,-0 1158,-0 1158,-36\"/>\r\n",
       "<text text-anchor=\"middle\" x=\"1131\" y=\"-14.3\" font-family=\"Times New Roman,serif\" font-size=\"14.00\">(...)</text>\r\n",
       "</g>\r\n",
       "<!-- 530&#45;&gt;580 -->\r\n",
       "<g id=\"edge28\" class=\"edge\"><title>530&#45;&gt;580</title>\r\n",
       "<path fill=\"none\" stroke=\"black\" d=\"M1089.1,-71.9961C1096.36,-62.8067 1104.14,-52.9725 1110.99,-44.3014\"/>\r\n",
       "<polygon fill=\"black\" stroke=\"black\" points=\"1113.78,-46.4184 1117.24,-36.4034 1108.29,-42.0767 1113.78,-46.4184\"/>\r\n",
       "</g>\r\n",
       "</g>\r\n",
       "</svg>\r\n"
      ],
      "text/plain": [
       "<graphviz.files.Source at 0x19c9d5686a0>"
      ]
     },
     "execution_count": 74,
     "metadata": {},
     "output_type": "execute_result"
    }
   ],
   "source": [
    "Source(tree.export_graphviz(DecTree.best_estimator_, out_file = None,max_depth=3, feature_names = Feature_Names))"
   ]
  },
  {
   "cell_type": "code",
   "execution_count": 75,
   "metadata": {
    "colab": {},
    "colab_type": "code",
    "id": "-jxU7zrAiWOy"
   },
   "outputs": [
    {
     "data": {
      "image/png": "[encoded data removed]",
      "text/plain": [
       "<Figure size 1152x360 with 2 Axes>"
      ]
     },
     "metadata": {},
     "output_type": "display_data"
    }
   ],
   "source": [
    "# Please write all the code with proper documentation\n",
    "heat_map = pd.DataFrame(DecTree.cv_results_)\n",
    "max_scores = heat_map.groupby(['param_max_depth', \n",
    "                                    'param_min_samples_split']).max()\n",
    "max_scores = max_scores.unstack()[['mean_test_score', 'mean_train_score']]\n",
    "plt.figure(figsize=(16,5))\n",
    "sns.heatmap(max_scores.mean_test_score, annot=True, fmt='.4g');"
   ]
  },
  {
   "cell_type": "markdown",
   "metadata": {
    "colab_type": "text",
    "id": "5przjMTbiWOz"
   },
   "source": [
    "## [5.2] Applying Decision Trees on TFIDF,<font color='red'> SET 2</font>"
   ]
  },
  {
   "cell_type": "code",
   "execution_count": 83,
   "metadata": {
    "colab": {},
    "colab_type": "code",
    "id": "Bm3mfI7miWOz"
   },
   "outputs": [
    {
     "name": "stdout",
     "output_type": "stream",
     "text": [
      "{'max_depth': 12, 'min_samples_split': 50}\n",
      "Wall time: 7min 40s\n"
     ]
    }
   ],
   "source": [
    "%%time\n",
    "hyperParams  = {'max_depth':[4,6,8,9,10,12,14,17],'min_samples_split':[2,10,20,30,40,50]}\n",
    "paramFinder = DecisionTreeClassifier(class_weight='balanced')\n",
    "\n",
    "DecTree = GridSearchCV(paramFinder, hyperParams, cv=5, scoring='roc_auc', return_train_score=True)\n",
    "DecTree.fit(final_tf_idf_train, Y_tr)\n",
    "print(DecTree.best_params_)\n",
    "p2=DecTree.best_params_\n",
    "y_pred_ConMatrix = DecTree.best_estimator_.predict(final_tf_idf_test)\n",
    "y_pred = DecTree.best_estimator_.predict_proba(final_tf_idf_test)[:,1]\n",
    "y_pred_cv = DecTree.best_estimator_.predict_proba(final_tf_idf_cv)[:,1]\n",
    "y_pred_ConMatrixcv = DecTree.best_estimator_.predict(final_tf_idf_cv)"
   ]
  },
  {
   "cell_type": "code",
   "execution_count": 85,
   "metadata": {
    "colab": {},
    "colab_type": "code",
    "id": "Bm3mfI7miWOz"
   },
   "outputs": [
    {
     "data": {
      "image/png": "[encoded data removed]",
      "text/plain": [
       "<Figure size 432x288 with 1 Axes>"
      ]
     },
     "metadata": {},
     "output_type": "display_data"
    },
    {
     "data": {
      "image/png": "[encoded data removed]",
      "text/plain": [
       "<Figure size 432x288 with 1 Axes>"
      ]
     },
     "metadata": {},
     "output_type": "display_data"
    },
    {
     "data": {
      "image/png": "[encoded data removed]",
      "text/plain": [
       "<Figure size 432x288 with 2 Axes>"
      ]
     },
     "metadata": {},
     "output_type": "display_data"
    },
    {
     "data": {
      "image/png": "[encoded data removed]",
      "text/plain": [
       "<Figure size 432x288 with 2 Axes>"
      ]
     },
     "metadata": {},
     "output_type": "display_data"
    },
    {
     "data": {
      "image/png": "[encoded data removed]",
      "text/plain": [
       "<Figure size 432x288 with 1 Axes>"
      ]
     },
     "metadata": {},
     "output_type": "display_data"
    }
   ],
   "source": [
    "# Using CalibratedClassifierCV to get Probabilities\n",
    "sgd_BOW = CalibratedClassifierCV(base_estimator=DecTree.best_estimator_, cv='prefit', method='sigmoid')\n",
    "sgd_BOW.fit(final_tf_idf_cv, Y_cv)\n",
    "\n",
    "y_pred1 = sgd_BOW.predict_proba(final_tf_idf_test)[:,1]\n",
    "y_pred_cv1 = sgd_BOW.predict_proba(final_tf_idf_cv)[:,1]\n",
    "y_pred_ConMatrixTest1 = sgd_BOW.predict(final_tf_idf_test)\n",
    "y_pred_ConMatrixCv1 = sgd_BOW.predict(final_tf_idf_cv)\n",
    "\n",
    "# Calibration curve\n",
    "fop_uncalibrated, mpv_uncalibrated = calibration_curve(Y_cv, y_pred_cv, n_bins=10, normalize=True)\n",
    "fop_calibrated, mpv_calibrated = calibration_curve(Y_cv, y_pred_cv1, n_bins=10, normalize=True)\n",
    "arr1,=plt.plot([0, 1], [0, 1], linestyle='--', color='black',label='Base')\n",
    "arr2,=plt.plot(mpv_uncalibrated, fop_uncalibrated, marker='.',color='cyan',label='Uncalibrated')\n",
    "arr3,=plt.plot(mpv_calibrated, fop_calibrated,marker='.',label='Calibrated')\n",
    "plt.legend([arr1, arr2, arr3], ['Base','Uncalibrated','Calibrated'])\n",
    "plt.show()\n",
    "\n",
    "trainTest = pd.DataFrame(DecTree.cv_results_)\n",
    "plt.plot(trainTest['param_max_depth'],trainTest['mean_test_score'],label='Test Score');\n",
    "plt.plot(trainTest['param_max_depth'],trainTest['mean_train_score'],label='Train Score');\n",
    "plt.xlabel(\"Tree Depth\")\n",
    "plt.ylabel(\"AUC Score\")\n",
    "plt.legend()\n",
    "plt.show()\n",
    "\n",
    "\n",
    "#Confusion Matrix\n",
    "conf_mat = confusion_matrix(Y_test, y_pred_ConMatrix)\n",
    "\n",
    "#Confusion Matrix Heatmap\n",
    "class_label = [\"0\", \"1\"]\n",
    "df = pd.DataFrame(conf_mat, index = class_label, columns = class_label)\n",
    "sns.heatmap(df, annot = True,fmt=\"d\",cmap=\"Spectral\")\n",
    "plt.title(\"Confusion Matrix(Test Data)\")\n",
    "plt.xlabel(\"Predicted Label\")\n",
    "plt.ylabel(\"True Label\")\n",
    "plt.show()\n",
    "\n",
    "#Confusion Matrix\n",
    "conf_mat = confusion_matrix(Y_cv, y_pred_ConMatrixcv)\n",
    "\n",
    "#Confusion Matrix Heatmap\n",
    "class_label = [\"0\", \"1\"]\n",
    "df = pd.DataFrame(conf_mat, index = class_label, columns = class_label)\n",
    "sns.heatmap(df, annot = True,fmt=\"d\",cmap=\"Spectral\")\n",
    "plt.title(\"Confusion Matrix(CV Data)\")\n",
    "plt.xlabel(\"Predicted Label\")\n",
    "plt.ylabel(\"True Label\")\n",
    "plt.show()\n",
    "\n",
    "#Plot of a ROC curve for test set\n",
    "fpr, tpr, lol = roc_curve(Y_test,  y_pred)\n",
    "auc2 = roc_auc_score(Y_test, y_pred)\n",
    "plt.plot(fpr,tpr,label=\"Test Data, auc=\"+str(round(auc2,2)))    \n",
    "#Plot of a ROC curve for cv set\n",
    "fpr, tpr, lol = roc_curve(Y_cv,  y_pred_cv)\n",
    "aucCV = roc_auc_score(Y_cv, y_pred_cv)\n",
    "plt.plot(fpr,tpr,label=\"Cv Data, auc=\"+str(round(aucCV,2)))\n",
    "plt.legend(loc=4)\n",
    "plt.show()"
   ]
  },
  {
   "cell_type": "markdown",
   "metadata": {
    "colab_type": "text",
    "id": "PIKUCldjiWO0"
   },
   "source": [
    "### [5.2.1] Top 20 important features from<font color='red'> SET 2</font>"
   ]
  },
  {
   "cell_type": "code",
   "execution_count": 86,
   "metadata": {},
   "outputs": [
    {
     "name": "stdout",
     "output_type": "stream",
     "text": [
      "Top 20  features \n",
      "('crunchy', 0.059068549215854735)\n",
      "('notch', 0.05645708938477359)\n",
      "('passion', 0.04316669270597352)\n",
      "('starting', 0.02499285889611313)\n",
      "('severe', 0.017449866217198868)\n",
      "('sunflower seeds', 0.012530848219999889)\n",
      "('choice', 0.012307215569923256)\n",
      "('clumps', 0.004260424058188709)\n",
      "('not expected', 0.002630897476554769)\n",
      "('purchased amazon', 0.00199028210002214)\n",
      "('sick', 0.0017691072353293363)\n",
      "('peanut butter', 0.0016235151862631283)\n",
      "('per serving', 0.0015625496924679245)\n",
      "('damaged', 0.0014790447467001439)\n",
      "('medium roast', 0.0014255070221131118)\n",
      "('liked', 0.0014192898986900005)\n",
      "('even better', 0.0013841956728954266)\n",
      "('hand', 0.001371950420333644)\n",
      "('salt', 0.0013380891410934423)\n",
      "('would given', 0.00133709860150656)\n",
      "==================================================\n"
     ]
    }
   ],
   "source": [
    "# Please write all the code with proper documentation\n",
    "\n",
    "Weight_vect = DecTree.best_estimator_.feature_importances_\n",
    "#Feature_Names=tfidf_feat\n",
    "Feature_Names=count_vect.get_feature_names()\n",
    "d={}\n",
    "\n",
    "# Looping through both Feature_names and Weights and creating dictionary.\n",
    "for i in range(len(Feature_Names)):\n",
    "    d.update({Feature_Names[i]:Weight_vect[i]})\n",
    "\n",
    "# Sorting wrt to Weights. [kv[1]] contains weights\n",
    "Weight_Sorted_Words=sorted(d.items(), key = lambda kv:(kv[1], kv[0]))\n",
    "print(\"Top 20  features \")    \n",
    "for i in range(20):\n",
    "    print((Weight_Sorted_Words[-1*(i+1)]))\n",
    "print('='*50)"
   ]
  },
  {
   "cell_type": "code",
   "execution_count": 87,
   "metadata": {},
   "outputs": [
    {
     "data": {
      "image/png": "[encoded data removed]",
      "text/plain": [
       "<Figure size 1152x360 with 2 Axes>"
      ]
     },
     "metadata": {},
     "output_type": "display_data"
    }
   ],
   "source": [
    "# Please write all the code with proper documentation\n",
    "heat_map = pd.DataFrame(DecTree.cv_results_)\n",
    "max_scores = heat_map.groupby(['param_max_depth', \n",
    "                                    'param_min_samples_split']).max()\n",
    "max_scores = max_scores.unstack()[['mean_test_score', 'mean_train_score']]\n",
    "plt.figure(figsize=(16,5))\n",
    "sns.heatmap(max_scores.mean_test_score, annot=True, fmt='.4g');"
   ]
  },
  {
   "cell_type": "markdown",
   "metadata": {
    "colab_type": "text",
    "id": "RTZB9ipUiWO3"
   },
   "source": [
    "### [5.2.2] Graphviz visualization of Decision Tree on TFIDF,<font color='red'> SET 2</font>"
   ]
  },
  {
   "cell_type": "code",
   "execution_count": 88,
   "metadata": {
    "colab": {},
    "colab_type": "code",
    "id": "DMbZoPoTiWO4"
   },
   "outputs": [
    {
     "data": {
      "image/svg+xml": [
       "<?xml version=\"1.0\" encoding=\"UTF-8\" standalone=\"no\"?>\r\n",
       "<!DOCTYPE svg PUBLIC \"-//W3C//DTD SVG 1.1//EN\"\r\n",
       " \"http://www.w3.org/Graphics/SVG/1.1/DTD/svg11.dtd\">\r\n",
       "<!-- Generated by graphviz version 2.38.0 (20140413.2041)\r\n",
       " -->\r\n",
       "<!-- Title: Tree Pages: 1 -->\r\n",
       "<svg width=\"1217pt\" height=\"460pt\"\r\n",
       " viewBox=\"0.00 0.00 1216.50 460.00\" xmlns=\"http://www.w3.org/2000/svg\" xmlns:xlink=\"http://www.w3.org/1999/xlink\">\r\n",
       "<g id=\"graph0\" class=\"graph\" transform=\"scale(1 1) rotate(0) translate(4 456)\">\r\n",
       "<title>Tree</title>\r\n",
       "<polygon fill=\"white\" stroke=\"none\" points=\"-4,4 -4,-456 1212.5,-456 1212.5,4 -4,4\"/>\r\n",
       "<!-- 0 -->\r\n",
       "<g id=\"node1\" class=\"node\"><title>0</title>\r\n",
       "<polygon fill=\"none\" stroke=\"black\" points=\"646,-452 501,-452 501,-384 646,-384 646,-452\"/>\r\n",
       "<text text-anchor=\"middle\" x=\"573.5\" y=\"-436.8\" font-family=\"Times New Roman,serif\" font-size=\"14.00\">not &lt;= 0.025</text>\r\n",
       "<text text-anchor=\"middle\" x=\"573.5\" y=\"-421.8\" font-family=\"Times New Roman,serif\" font-size=\"14.00\">gini = 0.5</text>\r\n",
       "<text text-anchor=\"middle\" x=\"573.5\" y=\"-406.8\" font-family=\"Times New Roman,serif\" font-size=\"14.00\">samples = 24500</text>\r\n",
       "<text text-anchor=\"middle\" x=\"573.5\" y=\"-391.8\" font-family=\"Times New Roman,serif\" font-size=\"14.00\">value = [12250, 12250]</text>\r\n",
       "</g>\r\n",
       "<!-- 1 -->\r\n",
       "<g id=\"node2\" class=\"node\"><title>1</title>\r\n",
       "<polygon fill=\"none\" stroke=\"black\" points=\"532,-348 401,-348 401,-280 532,-280 532,-348\"/>\r\n",
       "<text text-anchor=\"middle\" x=\"466.5\" y=\"-332.8\" font-family=\"Times New Roman,serif\" font-size=\"14.00\">great &lt;= 0.047</text>\r\n",
       "<text text-anchor=\"middle\" x=\"466.5\" y=\"-317.8\" font-family=\"Times New Roman,serif\" font-size=\"14.00\">gini = 0.453</text>\r\n",
       "<text text-anchor=\"middle\" x=\"466.5\" y=\"-302.8\" font-family=\"Times New Roman,serif\" font-size=\"14.00\">samples = 9962</text>\r\n",
       "<text text-anchor=\"middle\" x=\"466.5\" y=\"-287.8\" font-family=\"Times New Roman,serif\" font-size=\"14.00\">value = [3459, 6503]</text>\r\n",
       "</g>\r\n",
       "<!-- 0&#45;&gt;1 -->\r\n",
       "<g id=\"edge1\" class=\"edge\"><title>0&#45;&gt;1</title>\r\n",
       "<path fill=\"none\" stroke=\"black\" d=\"M538.76,-383.884C529.229,-374.798 518.789,-364.845 508.881,-355.4\"/>\r\n",
       "<polygon fill=\"black\" stroke=\"black\" points=\"511.085,-352.666 501.432,-348.299 506.255,-357.733 511.085,-352.666\"/>\r\n",
       "<text text-anchor=\"middle\" x=\"502.03\" y=\"-369.592\" font-family=\"Times New Roman,serif\" font-size=\"14.00\">True</text>\r\n",
       "</g>\r\n",
       "<!-- 144 -->\r\n",
       "<g id=\"node17\" class=\"node\"><title>144</title>\r\n",
       "<polygon fill=\"none\" stroke=\"black\" points=\"747,-348 616,-348 616,-280 747,-280 747,-348\"/>\r\n",
       "<text text-anchor=\"middle\" x=\"681.5\" y=\"-332.8\" font-family=\"Times New Roman,serif\" font-size=\"14.00\">great &lt;= 0.041</text>\r\n",
       "<text text-anchor=\"middle\" x=\"681.5\" y=\"-317.8\" font-family=\"Times New Roman,serif\" font-size=\"14.00\">gini = 0.478</text>\r\n",
       "<text text-anchor=\"middle\" x=\"681.5\" y=\"-302.8\" font-family=\"Times New Roman,serif\" font-size=\"14.00\">samples = 14538</text>\r\n",
       "<text text-anchor=\"middle\" x=\"681.5\" y=\"-287.8\" font-family=\"Times New Roman,serif\" font-size=\"14.00\">value = [8791, 5747]</text>\r\n",
       "</g>\r\n",
       "<!-- 0&#45;&gt;144 -->\r\n",
       "<g id=\"edge16\" class=\"edge\"><title>0&#45;&gt;144</title>\r\n",
       "<path fill=\"none\" stroke=\"black\" d=\"M608.565,-383.884C618.184,-374.798 628.722,-364.845 638.723,-355.4\"/>\r\n",
       "<polygon fill=\"black\" stroke=\"black\" points=\"641.375,-357.71 646.242,-348.299 636.569,-352.621 641.375,-357.71\"/>\r\n",
       "<text text-anchor=\"middle\" x=\"645.528\" y=\"-369.589\" font-family=\"Times New Roman,serif\" font-size=\"14.00\">False</text>\r\n",
       "</g>\r\n",
       "<!-- 2 -->\r\n",
       "<g id=\"node3\" class=\"node\"><title>2</title>\r\n",
       "<polygon fill=\"none\" stroke=\"black\" points=\"306,-244 163,-244 163,-176 306,-176 306,-244\"/>\r\n",
       "<text text-anchor=\"middle\" x=\"234.5\" y=\"-228.8\" font-family=\"Times New Roman,serif\" font-size=\"14.00\">disappointed &lt;= 0.008</text>\r\n",
       "<text text-anchor=\"middle\" x=\"234.5\" y=\"-213.8\" font-family=\"Times New Roman,serif\" font-size=\"14.00\">gini = 0.48</text>\r\n",
       "<text text-anchor=\"middle\" x=\"234.5\" y=\"-198.8\" font-family=\"Times New Roman,serif\" font-size=\"14.00\">samples = 8163</text>\r\n",
       "<text text-anchor=\"middle\" x=\"234.5\" y=\"-183.8\" font-family=\"Times New Roman,serif\" font-size=\"14.00\">value = [3275, 4888]</text>\r\n",
       "</g>\r\n",
       "<!-- 1&#45;&gt;2 -->\r\n",
       "<g id=\"edge2\" class=\"edge\"><title>1&#45;&gt;2</title>\r\n",
       "<path fill=\"none\" stroke=\"black\" d=\"M400.948,-284.18C374.464,-272.536 343.621,-258.976 315.733,-246.715\"/>\r\n",
       "<polygon fill=\"black\" stroke=\"black\" points=\"316.962,-243.432 306.399,-242.611 314.145,-249.84 316.962,-243.432\"/>\r\n",
       "</g>\r\n",
       "<!-- 121 -->\r\n",
       "<g id=\"node10\" class=\"node\"><title>121</title>\r\n",
       "<polygon fill=\"none\" stroke=\"black\" points=\"529,-244 404,-244 404,-176 529,-176 529,-244\"/>\r\n",
       "<text text-anchor=\"middle\" x=\"466.5\" y=\"-228.8\" font-family=\"Times New Roman,serif\" font-size=\"14.00\">thought &lt;= 0.023</text>\r\n",
       "<text text-anchor=\"middle\" x=\"466.5\" y=\"-213.8\" font-family=\"Times New Roman,serif\" font-size=\"14.00\">gini = 0.184</text>\r\n",
       "<text text-anchor=\"middle\" x=\"466.5\" y=\"-198.8\" font-family=\"Times New Roman,serif\" font-size=\"14.00\">samples = 1799</text>\r\n",
       "<text text-anchor=\"middle\" x=\"466.5\" y=\"-183.8\" font-family=\"Times New Roman,serif\" font-size=\"14.00\">value = [184, 1615]</text>\r\n",
       "</g>\r\n",
       "<!-- 1&#45;&gt;121 -->\r\n",
       "<g id=\"edge9\" class=\"edge\"><title>1&#45;&gt;121</title>\r\n",
       "<path fill=\"none\" stroke=\"black\" d=\"M466.5,-279.884C466.5,-271.778 466.5,-262.982 466.5,-254.472\"/>\r\n",
       "<polygon fill=\"black\" stroke=\"black\" points=\"470,-254.299 466.5,-244.299 463,-254.299 470,-254.299\"/>\r\n",
       "</g>\r\n",
       "<!-- 3 -->\r\n",
       "<g id=\"node4\" class=\"node\"><title>3</title>\r\n",
       "<polygon fill=\"none\" stroke=\"black\" points=\"131,-140 0,-140 0,-72 131,-72 131,-140\"/>\r\n",
       "<text text-anchor=\"middle\" x=\"65.5\" y=\"-124.8\" font-family=\"Times New Roman,serif\" font-size=\"14.00\">best &lt;= 0.057</text>\r\n",
       "<text text-anchor=\"middle\" x=\"65.5\" y=\"-109.8\" font-family=\"Times New Roman,serif\" font-size=\"14.00\">gini = 0.473</text>\r\n",
       "<text text-anchor=\"middle\" x=\"65.5\" y=\"-94.8\" font-family=\"Times New Roman,serif\" font-size=\"14.00\">samples = 7889</text>\r\n",
       "<text text-anchor=\"middle\" x=\"65.5\" y=\"-79.8\" font-family=\"Times New Roman,serif\" font-size=\"14.00\">value = [3027, 4862]</text>\r\n",
       "</g>\r\n",
       "<!-- 2&#45;&gt;3 -->\r\n",
       "<g id=\"edge3\" class=\"edge\"><title>2&#45;&gt;3</title>\r\n",
       "<path fill=\"none\" stroke=\"black\" d=\"M179.631,-175.884C163.462,-166.125 145.636,-155.366 128.975,-145.31\"/>\r\n",
       "<polygon fill=\"black\" stroke=\"black\" points=\"130.753,-142.296 120.383,-140.125 127.136,-148.289 130.753,-142.296\"/>\r\n",
       "</g>\r\n",
       "<!-- 102 -->\r\n",
       "<g id=\"node7\" class=\"node\"><title>102</title>\r\n",
       "<polygon fill=\"none\" stroke=\"black\" points=\"319.5,-140 149.5,-140 149.5,-72 319.5,-72 319.5,-140\"/>\r\n",
       "<text text-anchor=\"middle\" x=\"234.5\" y=\"-124.8\" font-family=\"Times New Roman,serif\" font-size=\"14.00\">little disappointed &lt;= 0.049</text>\r\n",
       "<text text-anchor=\"middle\" x=\"234.5\" y=\"-109.8\" font-family=\"Times New Roman,serif\" font-size=\"14.00\">gini = 0.172</text>\r\n",
       "<text text-anchor=\"middle\" x=\"234.5\" y=\"-94.8\" font-family=\"Times New Roman,serif\" font-size=\"14.00\">samples = 274</text>\r\n",
       "<text text-anchor=\"middle\" x=\"234.5\" y=\"-79.8\" font-family=\"Times New Roman,serif\" font-size=\"14.00\">value = [248, 26]</text>\r\n",
       "</g>\r\n",
       "<!-- 2&#45;&gt;102 -->\r\n",
       "<g id=\"edge6\" class=\"edge\"><title>2&#45;&gt;102</title>\r\n",
       "<path fill=\"none\" stroke=\"black\" d=\"M234.5,-175.884C234.5,-167.778 234.5,-158.982 234.5,-150.472\"/>\r\n",
       "<polygon fill=\"black\" stroke=\"black\" points=\"238,-150.299 234.5,-140.299 231,-150.299 238,-150.299\"/>\r\n",
       "</g>\r\n",
       "<!-- 4 -->\r\n",
       "<g id=\"node5\" class=\"node\"><title>4</title>\r\n",
       "<polygon fill=\"none\" stroke=\"black\" points=\"80.5,-36 26.5,-36 26.5,-0 80.5,-0 80.5,-36\"/>\r\n",
       "<text text-anchor=\"middle\" x=\"53.5\" y=\"-14.3\" font-family=\"Times New Roman,serif\" font-size=\"14.00\">(...)</text>\r\n",
       "</g>\r\n",
       "<!-- 3&#45;&gt;4 -->\r\n",
       "<g id=\"edge4\" class=\"edge\"><title>3&#45;&gt;4</title>\r\n",
       "<path fill=\"none\" stroke=\"black\" d=\"M60.8948,-71.9961C59.7183,-63.5646 58.4661,-54.5902 57.333,-46.4696\"/>\r\n",
       "<polygon fill=\"black\" stroke=\"black\" points=\"60.7768,-45.8237 55.9284,-36.4034 53.844,-46.7911 60.7768,-45.8237\"/>\r\n",
       "</g>\r\n",
       "<!-- 85 -->\r\n",
       "<g id=\"node6\" class=\"node\"><title>85</title>\r\n",
       "<polygon fill=\"none\" stroke=\"black\" points=\"152.5,-36 98.5,-36 98.5,-0 152.5,-0 152.5,-36\"/>\r\n",
       "<text text-anchor=\"middle\" x=\"125.5\" y=\"-14.3\" font-family=\"Times New Roman,serif\" font-size=\"14.00\">(...)</text>\r\n",
       "</g>\r\n",
       "<!-- 3&#45;&gt;85 -->\r\n",
       "<g id=\"edge5\" class=\"edge\"><title>3&#45;&gt;85</title>\r\n",
       "<path fill=\"none\" stroke=\"black\" d=\"M88.526,-71.9961C94.805,-62.9962 101.516,-53.3778 107.473,-44.8393\"/>\r\n",
       "<polygon fill=\"black\" stroke=\"black\" points=\"110.507,-46.6073 113.358,-36.4034 104.766,-42.602 110.507,-46.6073\"/>\r\n",
       "</g>\r\n",
       "<!-- 103 -->\r\n",
       "<g id=\"node8\" class=\"node\"><title>103</title>\r\n",
       "<polygon fill=\"none\" stroke=\"black\" points=\"242.5,-36 188.5,-36 188.5,-0 242.5,-0 242.5,-36\"/>\r\n",
       "<text text-anchor=\"middle\" x=\"215.5\" y=\"-14.3\" font-family=\"Times New Roman,serif\" font-size=\"14.00\">(...)</text>\r\n",
       "</g>\r\n",
       "<!-- 102&#45;&gt;103 -->\r\n",
       "<g id=\"edge7\" class=\"edge\"><title>102&#45;&gt;103</title>\r\n",
       "<path fill=\"none\" stroke=\"black\" d=\"M227.208,-71.9961C225.325,-63.4699 223.318,-54.3885 221.508,-46.1962\"/>\r\n",
       "<polygon fill=\"black\" stroke=\"black\" points=\"224.92,-45.4128 219.345,-36.4034 218.085,-46.923 224.92,-45.4128\"/>\r\n",
       "</g>\r\n",
       "<!-- 120 -->\r\n",
       "<g id=\"node9\" class=\"node\"><title>120</title>\r\n",
       "<polygon fill=\"none\" stroke=\"black\" points=\"314.5,-36 260.5,-36 260.5,-0 314.5,-0 314.5,-36\"/>\r\n",
       "<text text-anchor=\"middle\" x=\"287.5\" y=\"-14.3\" font-family=\"Times New Roman,serif\" font-size=\"14.00\">(...)</text>\r\n",
       "</g>\r\n",
       "<!-- 102&#45;&gt;120 -->\r\n",
       "<g id=\"edge8\" class=\"edge\"><title>102&#45;&gt;120</title>\r\n",
       "<path fill=\"none\" stroke=\"black\" d=\"M254.84,-71.9961C260.328,-63.0909 266.189,-53.5802 271.409,-45.1093\"/>\r\n",
       "<polygon fill=\"black\" stroke=\"black\" points=\"274.508,-46.7529 276.775,-36.4034 268.548,-43.0803 274.508,-46.7529\"/>\r\n",
       "</g>\r\n",
       "<!-- 122 -->\r\n",
       "<g id=\"node11\" class=\"node\"><title>122</title>\r\n",
       "<polygon fill=\"none\" stroke=\"black\" points=\"463,-140 338,-140 338,-72 463,-72 463,-140\"/>\r\n",
       "<text text-anchor=\"middle\" x=\"400.5\" y=\"-124.8\" font-family=\"Times New Roman,serif\" font-size=\"14.00\">bad &lt;= 0.064</text>\r\n",
       "<text text-anchor=\"middle\" x=\"400.5\" y=\"-109.8\" font-family=\"Times New Roman,serif\" font-size=\"14.00\">gini = 0.166</text>\r\n",
       "<text text-anchor=\"middle\" x=\"400.5\" y=\"-94.8\" font-family=\"Times New Roman,serif\" font-size=\"14.00\">samples = 1742</text>\r\n",
       "<text text-anchor=\"middle\" x=\"400.5\" y=\"-79.8\" font-family=\"Times New Roman,serif\" font-size=\"14.00\">value = [159, 1583]</text>\r\n",
       "</g>\r\n",
       "<!-- 121&#45;&gt;122 -->\r\n",
       "<g id=\"edge10\" class=\"edge\"><title>121&#45;&gt;122</title>\r\n",
       "<path fill=\"none\" stroke=\"black\" d=\"M445.072,-175.884C439.481,-167.243 433.383,-157.819 427.542,-148.793\"/>\r\n",
       "<polygon fill=\"black\" stroke=\"black\" points=\"430.418,-146.794 422.047,-140.299 424.541,-150.596 430.418,-146.794\"/>\r\n",
       "</g>\r\n",
       "<!-- 141 -->\r\n",
       "<g id=\"node14\" class=\"node\"><title>141</title>\r\n",
       "<polygon fill=\"none\" stroke=\"black\" points=\"594,-140 481,-140 481,-72 594,-72 594,-140\"/>\r\n",
       "<text text-anchor=\"middle\" x=\"537.5\" y=\"-124.8\" font-family=\"Times New Roman,serif\" font-size=\"14.00\">thought &lt;= 0.089</text>\r\n",
       "<text text-anchor=\"middle\" x=\"537.5\" y=\"-109.8\" font-family=\"Times New Roman,serif\" font-size=\"14.00\">gini = 0.492</text>\r\n",
       "<text text-anchor=\"middle\" x=\"537.5\" y=\"-94.8\" font-family=\"Times New Roman,serif\" font-size=\"14.00\">samples = 57</text>\r\n",
       "<text text-anchor=\"middle\" x=\"537.5\" y=\"-79.8\" font-family=\"Times New Roman,serif\" font-size=\"14.00\">value = [25, 32]</text>\r\n",
       "</g>\r\n",
       "<!-- 121&#45;&gt;141 -->\r\n",
       "<g id=\"edge13\" class=\"edge\"><title>121&#45;&gt;141</title>\r\n",
       "<path fill=\"none\" stroke=\"black\" d=\"M489.552,-175.884C495.628,-167.154 502.261,-157.625 508.603,-148.514\"/>\r\n",
       "<polygon fill=\"black\" stroke=\"black\" points=\"511.481,-150.506 514.321,-140.299 505.735,-146.507 511.481,-150.506\"/>\r\n",
       "</g>\r\n",
       "<!-- 123 -->\r\n",
       "<g id=\"node12\" class=\"node\"><title>123</title>\r\n",
       "<polygon fill=\"none\" stroke=\"black\" points=\"400.5,-36 346.5,-36 346.5,-0 400.5,-0 400.5,-36\"/>\r\n",
       "<text text-anchor=\"middle\" x=\"373.5\" y=\"-14.3\" font-family=\"Times New Roman,serif\" font-size=\"14.00\">(...)</text>\r\n",
       "</g>\r\n",
       "<!-- 122&#45;&gt;123 -->\r\n",
       "<g id=\"edge11\" class=\"edge\"><title>122&#45;&gt;123</title>\r\n",
       "<path fill=\"none\" stroke=\"black\" d=\"M390.138,-71.9961C387.461,-63.4699 384.61,-54.3885 382.038,-46.1962\"/>\r\n",
       "<polygon fill=\"black\" stroke=\"black\" points=\"385.299,-44.8958 378.964,-36.4034 378.62,-46.9926 385.299,-44.8958\"/>\r\n",
       "</g>\r\n",
       "<!-- 140 -->\r\n",
       "<g id=\"node13\" class=\"node\"><title>140</title>\r\n",
       "<polygon fill=\"none\" stroke=\"black\" points=\"472.5,-36 418.5,-36 418.5,-0 472.5,-0 472.5,-36\"/>\r\n",
       "<text text-anchor=\"middle\" x=\"445.5\" y=\"-14.3\" font-family=\"Times New Roman,serif\" font-size=\"14.00\">(...)</text>\r\n",
       "</g>\r\n",
       "<!-- 122&#45;&gt;140 -->\r\n",
       "<g id=\"edge12\" class=\"edge\"><title>122&#45;&gt;140</title>\r\n",
       "<path fill=\"none\" stroke=\"black\" d=\"M417.769,-71.9961C422.38,-63.1856 427.3,-53.7825 431.697,-45.38\"/>\r\n",
       "<polygon fill=\"black\" stroke=\"black\" points=\"434.858,-46.8864 436.394,-36.4034 428.656,-43.641 434.858,-46.8864\"/>\r\n",
       "</g>\r\n",
       "<!-- 142 -->\r\n",
       "<g id=\"node15\" class=\"node\"><title>142</title>\r\n",
       "<polygon fill=\"none\" stroke=\"black\" points=\"551.5,-36 497.5,-36 497.5,-0 551.5,-0 551.5,-36\"/>\r\n",
       "<text text-anchor=\"middle\" x=\"524.5\" y=\"-14.3\" font-family=\"Times New Roman,serif\" font-size=\"14.00\">(...)</text>\r\n",
       "</g>\r\n",
       "<!-- 141&#45;&gt;142 -->\r\n",
       "<g id=\"edge14\" class=\"edge\"><title>141&#45;&gt;142</title>\r\n",
       "<path fill=\"none\" stroke=\"black\" d=\"M532.511,-71.9961C531.237,-63.5646 529.88,-54.5902 528.652,-46.4696\"/>\r\n",
       "<polygon fill=\"black\" stroke=\"black\" points=\"532.086,-45.7679 527.131,-36.4034 525.165,-46.8142 532.086,-45.7679\"/>\r\n",
       "</g>\r\n",
       "<!-- 143 -->\r\n",
       "<g id=\"node16\" class=\"node\"><title>143</title>\r\n",
       "<polygon fill=\"none\" stroke=\"black\" points=\"623.5,-36 569.5,-36 569.5,-0 623.5,-0 623.5,-36\"/>\r\n",
       "<text text-anchor=\"middle\" x=\"596.5\" y=\"-14.3\" font-family=\"Times New Roman,serif\" font-size=\"14.00\">(...)</text>\r\n",
       "</g>\r\n",
       "<!-- 141&#45;&gt;143 -->\r\n",
       "<g id=\"edge15\" class=\"edge\"><title>141&#45;&gt;143</title>\r\n",
       "<path fill=\"none\" stroke=\"black\" d=\"M560.142,-71.9961C566.317,-62.9962 572.915,-53.3778 578.773,-44.8393\"/>\r\n",
       "<polygon fill=\"black\" stroke=\"black\" points=\"581.789,-46.6294 584.56,-36.4034 576.017,-42.6694 581.789,-46.6294\"/>\r\n",
       "</g>\r\n",
       "<!-- 145 -->\r\n",
       "<g id=\"node18\" class=\"node\"><title>145</title>\r\n",
       "<polygon fill=\"none\" stroke=\"black\" points=\"747,-244 616,-244 616,-176 747,-176 747,-244\"/>\r\n",
       "<text text-anchor=\"middle\" x=\"681.5\" y=\"-228.8\" font-family=\"Times New Roman,serif\" font-size=\"14.00\">best &lt;= 0.027</text>\r\n",
       "<text text-anchor=\"middle\" x=\"681.5\" y=\"-213.8\" font-family=\"Times New Roman,serif\" font-size=\"14.00\">gini = 0.455</text>\r\n",
       "<text text-anchor=\"middle\" x=\"681.5\" y=\"-198.8\" font-family=\"Times New Roman,serif\" font-size=\"14.00\">samples = 12491</text>\r\n",
       "<text text-anchor=\"middle\" x=\"681.5\" y=\"-183.8\" font-family=\"Times New Roman,serif\" font-size=\"14.00\">value = [8115, 4376]</text>\r\n",
       "</g>\r\n",
       "<!-- 144&#45;&gt;145 -->\r\n",
       "<g id=\"edge17\" class=\"edge\"><title>144&#45;&gt;145</title>\r\n",
       "<path fill=\"none\" stroke=\"black\" d=\"M681.5,-279.884C681.5,-271.778 681.5,-262.982 681.5,-254.472\"/>\r\n",
       "<polygon fill=\"black\" stroke=\"black\" points=\"685,-254.299 681.5,-244.299 678,-254.299 685,-254.299\"/>\r\n",
       "</g>\r\n",
       "<!-- 338 -->\r\n",
       "<g id=\"node25\" class=\"node\"><title>338</title>\r\n",
       "<polygon fill=\"none\" stroke=\"black\" points=\"1032,-244 907,-244 907,-176 1032,-176 1032,-244\"/>\r\n",
       "<text text-anchor=\"middle\" x=\"969.5\" y=\"-228.8\" font-family=\"Times New Roman,serif\" font-size=\"14.00\">thought &lt;= 0.013</text>\r\n",
       "<text text-anchor=\"middle\" x=\"969.5\" y=\"-213.8\" font-family=\"Times New Roman,serif\" font-size=\"14.00\">gini = 0.442</text>\r\n",
       "<text text-anchor=\"middle\" x=\"969.5\" y=\"-198.8\" font-family=\"Times New Roman,serif\" font-size=\"14.00\">samples = 2047</text>\r\n",
       "<text text-anchor=\"middle\" x=\"969.5\" y=\"-183.8\" font-family=\"Times New Roman,serif\" font-size=\"14.00\">value = [676, 1371]</text>\r\n",
       "</g>\r\n",
       "<!-- 144&#45;&gt;338 -->\r\n",
       "<g id=\"edge24\" class=\"edge\"><title>144&#45;&gt;338</title>\r\n",
       "<path fill=\"none\" stroke=\"black\" d=\"M747.212,-289.727C791.85,-273.918 850.907,-253.002 896.929,-236.702\"/>\r\n",
       "<polygon fill=\"black\" stroke=\"black\" points=\"898.284,-239.935 906.542,-233.298 895.947,-233.337 898.284,-239.935\"/>\r\n",
       "</g>\r\n",
       "<!-- 146 -->\r\n",
       "<g id=\"node19\" class=\"node\"><title>146</title>\r\n",
       "<polygon fill=\"none\" stroke=\"black\" points=\"743,-140 612,-140 612,-72 743,-72 743,-140\"/>\r\n",
       "<text text-anchor=\"middle\" x=\"677.5\" y=\"-124.8\" font-family=\"Times New Roman,serif\" font-size=\"14.00\">delicious &lt;= 0.054</text>\r\n",
       "<text text-anchor=\"middle\" x=\"677.5\" y=\"-109.8\" font-family=\"Times New Roman,serif\" font-size=\"14.00\">gini = 0.441</text>\r\n",
       "<text text-anchor=\"middle\" x=\"677.5\" y=\"-94.8\" font-family=\"Times New Roman,serif\" font-size=\"14.00\">samples = 11489</text>\r\n",
       "<text text-anchor=\"middle\" x=\"677.5\" y=\"-79.8\" font-family=\"Times New Roman,serif\" font-size=\"14.00\">value = [7726, 3763]</text>\r\n",
       "</g>\r\n",
       "<!-- 145&#45;&gt;146 -->\r\n",
       "<g id=\"edge18\" class=\"edge\"><title>145&#45;&gt;146</title>\r\n",
       "<path fill=\"none\" stroke=\"black\" d=\"M680.201,-175.884C679.883,-167.778 679.539,-158.982 679.205,-150.472\"/>\r\n",
       "<polygon fill=\"black\" stroke=\"black\" points=\"682.695,-150.155 678.806,-140.299 675.7,-150.429 682.695,-150.155\"/>\r\n",
       "</g>\r\n",
       "<!-- 291 -->\r\n",
       "<g id=\"node22\" class=\"node\"><title>291</title>\r\n",
       "<polygon fill=\"none\" stroke=\"black\" points=\"879.5,-140 761.5,-140 761.5,-72 879.5,-72 879.5,-140\"/>\r\n",
       "<text text-anchor=\"middle\" x=\"820.5\" y=\"-124.8\" font-family=\"Times New Roman,serif\" font-size=\"14.00\">not &lt;= 0.086</text>\r\n",
       "<text text-anchor=\"middle\" x=\"820.5\" y=\"-109.8\" font-family=\"Times New Roman,serif\" font-size=\"14.00\">gini = 0.475</text>\r\n",
       "<text text-anchor=\"middle\" x=\"820.5\" y=\"-94.8\" font-family=\"Times New Roman,serif\" font-size=\"14.00\">samples = 1002</text>\r\n",
       "<text text-anchor=\"middle\" x=\"820.5\" y=\"-79.8\" font-family=\"Times New Roman,serif\" font-size=\"14.00\">value = [389, 613]</text>\r\n",
       "</g>\r\n",
       "<!-- 145&#45;&gt;291 -->\r\n",
       "<g id=\"edge21\" class=\"edge\"><title>145&#45;&gt;291</title>\r\n",
       "<path fill=\"none\" stroke=\"black\" d=\"M726.629,-175.884C739.496,-166.442 753.639,-156.064 766.956,-146.292\"/>\r\n",
       "<polygon fill=\"black\" stroke=\"black\" points=\"769.13,-149.037 775.121,-140.299 764.989,-143.394 769.13,-149.037\"/>\r\n",
       "</g>\r\n",
       "<!-- 147 -->\r\n",
       "<g id=\"node20\" class=\"node\"><title>147</title>\r\n",
       "<polygon fill=\"none\" stroke=\"black\" points=\"699.5,-36 645.5,-36 645.5,-0 699.5,-0 699.5,-36\"/>\r\n",
       "<text text-anchor=\"middle\" x=\"672.5\" y=\"-14.3\" font-family=\"Times New Roman,serif\" font-size=\"14.00\">(...)</text>\r\n",
       "</g>\r\n",
       "<!-- 146&#45;&gt;147 -->\r\n",
       "<g id=\"edge19\" class=\"edge\"><title>146&#45;&gt;147</title>\r\n",
       "<path fill=\"none\" stroke=\"black\" d=\"M675.581,-71.9961C675.091,-63.5646 674.569,-54.5902 674.097,-46.4696\"/>\r\n",
       "<polygon fill=\"black\" stroke=\"black\" points=\"677.586,-46.1833 673.512,-36.4034 670.598,-46.5897 677.586,-46.1833\"/>\r\n",
       "</g>\r\n",
       "<!-- 274 -->\r\n",
       "<g id=\"node21\" class=\"node\"><title>274</title>\r\n",
       "<polygon fill=\"none\" stroke=\"black\" points=\"771.5,-36 717.5,-36 717.5,-0 771.5,-0 771.5,-36\"/>\r\n",
       "<text text-anchor=\"middle\" x=\"744.5\" y=\"-14.3\" font-family=\"Times New Roman,serif\" font-size=\"14.00\">(...)</text>\r\n",
       "</g>\r\n",
       "<!-- 146&#45;&gt;274 -->\r\n",
       "<g id=\"edge20\" class=\"edge\"><title>146&#45;&gt;274</title>\r\n",
       "<path fill=\"none\" stroke=\"black\" d=\"M703.212,-71.9961C710.372,-62.8067 718.033,-52.9725 724.788,-44.3014\"/>\r\n",
       "<polygon fill=\"black\" stroke=\"black\" points=\"727.557,-46.443 730.942,-36.4034 722.035,-42.141 727.557,-46.443\"/>\r\n",
       "</g>\r\n",
       "<!-- 292 -->\r\n",
       "<g id=\"node23\" class=\"node\"><title>292</title>\r\n",
       "<polygon fill=\"none\" stroke=\"black\" points=\"845.5,-36 791.5,-36 791.5,-0 845.5,-0 845.5,-36\"/>\r\n",
       "<text text-anchor=\"middle\" x=\"818.5\" y=\"-14.3\" font-family=\"Times New Roman,serif\" font-size=\"14.00\">(...)</text>\r\n",
       "</g>\r\n",
       "<!-- 291&#45;&gt;292 -->\r\n",
       "<g id=\"edge22\" class=\"edge\"><title>291&#45;&gt;292</title>\r\n",
       "<path fill=\"none\" stroke=\"black\" d=\"M819.732,-71.9961C819.536,-63.5646 819.328,-54.5902 819.139,-46.4696\"/>\r\n",
       "<polygon fill=\"black\" stroke=\"black\" points=\"822.636,-46.3193 818.905,-36.4034 815.638,-46.4821 822.636,-46.3193\"/>\r\n",
       "</g>\r\n",
       "<!-- 321 -->\r\n",
       "<g id=\"node24\" class=\"node\"><title>321</title>\r\n",
       "<polygon fill=\"none\" stroke=\"black\" points=\"917.5,-36 863.5,-36 863.5,-0 917.5,-0 917.5,-36\"/>\r\n",
       "<text text-anchor=\"middle\" x=\"890.5\" y=\"-14.3\" font-family=\"Times New Roman,serif\" font-size=\"14.00\">(...)</text>\r\n",
       "</g>\r\n",
       "<!-- 291&#45;&gt;321 -->\r\n",
       "<g id=\"edge23\" class=\"edge\"><title>291&#45;&gt;321</title>\r\n",
       "<path fill=\"none\" stroke=\"black\" d=\"M847.364,-71.9961C854.843,-62.8067 862.848,-52.9725 869.906,-44.3014\"/>\r\n",
       "<polygon fill=\"black\" stroke=\"black\" points=\"872.736,-46.3685 876.334,-36.4034 867.307,-41.9496 872.736,-46.3685\"/>\r\n",
       "</g>\r\n",
       "<!-- 339 -->\r\n",
       "<g id=\"node26\" class=\"node\"><title>339</title>\r\n",
       "<polygon fill=\"none\" stroke=\"black\" points=\"1041,-140 898,-140 898,-72 1041,-72 1041,-140\"/>\r\n",
       "<text text-anchor=\"middle\" x=\"969.5\" y=\"-124.8\" font-family=\"Times New Roman,serif\" font-size=\"14.00\">disappointed &lt;= 0.064</text>\r\n",
       "<text text-anchor=\"middle\" x=\"969.5\" y=\"-109.8\" font-family=\"Times New Roman,serif\" font-size=\"14.00\">gini = 0.425</text>\r\n",
       "<text text-anchor=\"middle\" x=\"969.5\" y=\"-94.8\" font-family=\"Times New Roman,serif\" font-size=\"14.00\">samples = 1910</text>\r\n",
       "<text text-anchor=\"middle\" x=\"969.5\" y=\"-79.8\" font-family=\"Times New Roman,serif\" font-size=\"14.00\">value = [586, 1324]</text>\r\n",
       "</g>\r\n",
       "<!-- 338&#45;&gt;339 -->\r\n",
       "<g id=\"edge25\" class=\"edge\"><title>338&#45;&gt;339</title>\r\n",
       "<path fill=\"none\" stroke=\"black\" d=\"M969.5,-175.884C969.5,-167.778 969.5,-158.982 969.5,-150.472\"/>\r\n",
       "<polygon fill=\"black\" stroke=\"black\" points=\"973,-150.299 969.5,-140.299 966,-150.299 973,-150.299\"/>\r\n",
       "</g>\r\n",
       "<!-- 394 -->\r\n",
       "<g id=\"node29\" class=\"node\"><title>394</title>\r\n",
       "<polygon fill=\"none\" stroke=\"black\" points=\"1163.5,-140 1059.5,-140 1059.5,-72 1163.5,-72 1163.5,-140\"/>\r\n",
       "<text text-anchor=\"middle\" x=\"1111.5\" y=\"-124.8\" font-family=\"Times New Roman,serif\" font-size=\"14.00\">could &lt;= 0.062</text>\r\n",
       "<text text-anchor=\"middle\" x=\"1111.5\" y=\"-109.8\" font-family=\"Times New Roman,serif\" font-size=\"14.00\">gini = 0.451</text>\r\n",
       "<text text-anchor=\"middle\" x=\"1111.5\" y=\"-94.8\" font-family=\"Times New Roman,serif\" font-size=\"14.00\">samples = 137</text>\r\n",
       "<text text-anchor=\"middle\" x=\"1111.5\" y=\"-79.8\" font-family=\"Times New Roman,serif\" font-size=\"14.00\">value = [90, 47]</text>\r\n",
       "</g>\r\n",
       "<!-- 338&#45;&gt;394 -->\r\n",
       "<g id=\"edge28\" class=\"edge\"><title>338&#45;&gt;394</title>\r\n",
       "<path fill=\"none\" stroke=\"black\" d=\"M1015.6,-175.884C1028.75,-166.442 1043.2,-156.064 1056.8,-146.292\"/>\r\n",
       "<polygon fill=\"black\" stroke=\"black\" points=\"1059.06,-148.976 1065.14,-140.299 1054.98,-143.291 1059.06,-148.976\"/>\r\n",
       "</g>\r\n",
       "<!-- 340 -->\r\n",
       "<g id=\"node27\" class=\"node\"><title>340</title>\r\n",
       "<polygon fill=\"none\" stroke=\"black\" points=\"991.5,-36 937.5,-36 937.5,-0 991.5,-0 991.5,-36\"/>\r\n",
       "<text text-anchor=\"middle\" x=\"964.5\" y=\"-14.3\" font-family=\"Times New Roman,serif\" font-size=\"14.00\">(...)</text>\r\n",
       "</g>\r\n",
       "<!-- 339&#45;&gt;340 -->\r\n",
       "<g id=\"edge26\" class=\"edge\"><title>339&#45;&gt;340</title>\r\n",
       "<path fill=\"none\" stroke=\"black\" d=\"M967.581,-71.9961C967.091,-63.5646 966.569,-54.5902 966.097,-46.4696\"/>\r\n",
       "<polygon fill=\"black\" stroke=\"black\" points=\"969.586,-46.1833 965.512,-36.4034 962.598,-46.5897 969.586,-46.1833\"/>\r\n",
       "</g>\r\n",
       "<!-- 383 -->\r\n",
       "<g id=\"node28\" class=\"node\"><title>383</title>\r\n",
       "<polygon fill=\"none\" stroke=\"black\" points=\"1063.5,-36 1009.5,-36 1009.5,-0 1063.5,-0 1063.5,-36\"/>\r\n",
       "<text text-anchor=\"middle\" x=\"1036.5\" y=\"-14.3\" font-family=\"Times New Roman,serif\" font-size=\"14.00\">(...)</text>\r\n",
       "</g>\r\n",
       "<!-- 339&#45;&gt;383 -->\r\n",
       "<g id=\"edge27\" class=\"edge\"><title>339&#45;&gt;383</title>\r\n",
       "<path fill=\"none\" stroke=\"black\" d=\"M995.212,-71.9961C1002.37,-62.8067 1010.03,-52.9725 1016.79,-44.3014\"/>\r\n",
       "<polygon fill=\"black\" stroke=\"black\" points=\"1019.56,-46.443 1022.94,-36.4034 1014.03,-42.141 1019.56,-46.443\"/>\r\n",
       "</g>\r\n",
       "<!-- 395 -->\r\n",
       "<g id=\"node30\" class=\"node\"><title>395</title>\r\n",
       "<polygon fill=\"none\" stroke=\"black\" points=\"1136.5,-36 1082.5,-36 1082.5,-0 1136.5,-0 1136.5,-36\"/>\r\n",
       "<text text-anchor=\"middle\" x=\"1109.5\" y=\"-14.3\" font-family=\"Times New Roman,serif\" font-size=\"14.00\">(...)</text>\r\n",
       "</g>\r\n",
       "<!-- 394&#45;&gt;395 -->\r\n",
       "<g id=\"edge29\" class=\"edge\"><title>394&#45;&gt;395</title>\r\n",
       "<path fill=\"none\" stroke=\"black\" d=\"M1110.73,-71.9961C1110.54,-63.5646 1110.33,-54.5902 1110.14,-46.4696\"/>\r\n",
       "<polygon fill=\"black\" stroke=\"black\" points=\"1113.64,-46.3193 1109.9,-36.4034 1106.64,-46.4821 1113.64,-46.3193\"/>\r\n",
       "</g>\r\n",
       "<!-- 412 -->\r\n",
       "<g id=\"node31\" class=\"node\"><title>412</title>\r\n",
       "<polygon fill=\"none\" stroke=\"black\" points=\"1208.5,-36 1154.5,-36 1154.5,-0 1208.5,-0 1208.5,-36\"/>\r\n",
       "<text text-anchor=\"middle\" x=\"1181.5\" y=\"-14.3\" font-family=\"Times New Roman,serif\" font-size=\"14.00\">(...)</text>\r\n",
       "</g>\r\n",
       "<!-- 394&#45;&gt;412 -->\r\n",
       "<g id=\"edge30\" class=\"edge\"><title>394&#45;&gt;412</title>\r\n",
       "<path fill=\"none\" stroke=\"black\" d=\"M1138.36,-71.9961C1145.84,-62.8067 1153.85,-52.9725 1160.91,-44.3014\"/>\r\n",
       "<polygon fill=\"black\" stroke=\"black\" points=\"1163.74,-46.3685 1167.33,-36.4034 1158.31,-41.9496 1163.74,-46.3685\"/>\r\n",
       "</g>\r\n",
       "</g>\r\n",
       "</svg>\r\n"
      ],
      "text/plain": [
       "<graphviz.files.Source at 0x19c9ce1bef0>"
      ]
     },
     "execution_count": 88,
     "metadata": {},
     "output_type": "execute_result"
    }
   ],
   "source": [
    "# Please write all the code with proper documentation\n",
    "Source(tree.export_graphviz(DecTree.best_estimator_, out_file = None,max_depth=3,feature_names = tf_idf_vect.get_feature_names()))"
   ]
  },
  {
   "cell_type": "markdown",
   "metadata": {
    "colab_type": "text",
    "id": "NVhl_V6MiWO5"
   },
   "source": [
    "## [5.3] Applying Decision Trees on AVG W2V,<font color='red'> SET 3</font>"
   ]
  },
  {
   "cell_type": "code",
   "execution_count": 89,
   "metadata": {
    "colab": {},
    "colab_type": "code",
    "id": "uYDXnzMmiWO5"
   },
   "outputs": [
    {
     "name": "stdout",
     "output_type": "stream",
     "text": [
      "{'max_depth': 8, 'min_samples_split': 50}\n",
      "Wall time: 4min 41s\n"
     ]
    }
   ],
   "source": [
    "%%time\n",
    "hyperParams  = {'max_depth':[4,6,8,9,10,12,14,17],'min_samples_split':[2,10,20,30,40,50]}\n",
    "paramFinder = DecisionTreeClassifier(class_weight='balanced')\n",
    "\n",
    "DecTree = GridSearchCV(paramFinder, hyperParams, cv=5, scoring='roc_auc', return_train_score=True)\n",
    "DecTree.fit(sent_vectors_train, Y_tr)\n",
    "print(DecTree.best_params_)\n",
    "p3=DecTree.best_params_\n",
    "\n",
    "y_pred_ConMatrix = DecTree.best_estimator_.predict(sent_vectors_test)\n",
    "y_pred = DecTree.best_estimator_.predict_proba(sent_vectors_test)[:,1]\n",
    "y_pred_cv = DecTree.best_estimator_.predict_proba(sent_vectors_cv)[:,1]\n",
    "y_pred_ConMatrixcv = DecTree.best_estimator_.predict(sent_vectors_cv)"
   ]
  },
  {
   "cell_type": "code",
   "execution_count": 90,
   "metadata": {
    "colab": {},
    "colab_type": "code",
    "id": "uYDXnzMmiWO5"
   },
   "outputs": [
    {
     "data": {
      "image/png": "[encoded data removed]",
      "text/plain": [
       "<Figure size 432x288 with 1 Axes>"
      ]
     },
     "metadata": {},
     "output_type": "display_data"
    },
    {
     "data": {
      "image/png": "[encoded data removed]",
      "text/plain": [
       "<Figure size 432x288 with 1 Axes>"
      ]
     },
     "metadata": {},
     "output_type": "display_data"
    },
    {
     "data": {
      "image/png": "[encoded data removed]",
      "text/plain": [
       "<Figure size 432x288 with 2 Axes>"
      ]
     },
     "metadata": {},
     "output_type": "display_data"
    },
    {
     "data": {
      "image/png": "[encoded data removed]",
      "text/plain": [
       "<Figure size 432x288 with 2 Axes>"
      ]
     },
     "metadata": {},
     "output_type": "display_data"
    },
    {
     "data": {
      "image/png": "[encoded data removed]",
      "text/plain": [
       "<Figure size 432x288 with 1 Axes>"
      ]
     },
     "metadata": {},
     "output_type": "display_data"
    },
    {
     "data": {
      "image/png": "[encoded data removed]",
      "text/plain": [
       "<Figure size 1152x360 with 2 Axes>"
      ]
     },
     "metadata": {},
     "output_type": "display_data"
    }
   ],
   "source": [
    "# Using CalibratedClassifierCV to get Probabilities\n",
    "sgd_BOW = CalibratedClassifierCV(base_estimator=DecTree.best_estimator_, cv='prefit', method='sigmoid')\n",
    "sgd_BOW.fit(sent_vectors_cv, Y_cv)\n",
    "\n",
    "y_pred1 = sgd_BOW.predict_proba(sent_vectors_test)[:,1]\n",
    "y_pred_cv1 = sgd_BOW.predict_proba(sent_vectors_cv)[:,1]\n",
    "y_pred_ConMatrixTest1 = sgd_BOW.predict(sent_vectors_test)\n",
    "y_pred_ConMatrixCv1 = sgd_BOW.predict(sent_vectors_cv)\n",
    "\n",
    "# Calibration curve\n",
    "fop_uncalibrated, mpv_uncalibrated = calibration_curve(Y_cv, y_pred_cv, n_bins=10, normalize=True)\n",
    "fop_calibrated, mpv_calibrated = calibration_curve(Y_cv, y_pred_cv1, n_bins=10, normalize=True)\n",
    "arr1,=plt.plot([0, 1], [0, 1], linestyle='--', color='black',label='Base')\n",
    "arr2,=plt.plot(mpv_uncalibrated, fop_uncalibrated, marker='.',color='cyan',label='Uncalibrated')\n",
    "arr3,=plt.plot(mpv_calibrated, fop_calibrated,marker='.',label='Calibrated')\n",
    "plt.legend([arr1, arr2, arr3], ['Base','Uncalibrated','Calibrated'])\n",
    "plt.show()\n",
    "\n",
    "trainTest = pd.DataFrame(DecTree.cv_results_)\n",
    "plt.plot(trainTest['param_max_depth'],trainTest['mean_test_score'],label='Test Score');\n",
    "plt.plot(trainTest['param_max_depth'],trainTest['mean_train_score'],label='Train Score');\n",
    "plt.xlabel(\"Tree Depth\")\n",
    "plt.ylabel(\"AUC Score\")\n",
    "plt.legend()\n",
    "plt.show()\n",
    "\n",
    "#Confusion Matrix\n",
    "conf_mat = confusion_matrix(Y_test, y_pred_ConMatrix)\n",
    "\n",
    "#Confusion Matrix Heatmap\n",
    "class_label = [\"0\", \"1\"]\n",
    "df = pd.DataFrame(conf_mat, index = class_label, columns = class_label)\n",
    "sns.heatmap(df, annot = True,fmt=\"d\",cmap=\"Spectral\")\n",
    "plt.title(\"Confusion Matrix(Test Data)\")\n",
    "plt.xlabel(\"Predicted Label\")\n",
    "plt.ylabel(\"True Label\")\n",
    "plt.show()\n",
    "\n",
    "#Confusion Matrix\n",
    "conf_mat = confusion_matrix(Y_cv, y_pred_ConMatrixcv)\n",
    "\n",
    "#Confusion Matrix Heatmap\n",
    "class_label = [\"0\", \"1\"]\n",
    "df = pd.DataFrame(conf_mat, index = class_label, columns = class_label)\n",
    "sns.heatmap(df, annot = True,fmt=\"d\",cmap=\"Spectral\")\n",
    "plt.title(\"Confusion Matrix(CV Data)\")\n",
    "plt.xlabel(\"Predicted Label\")\n",
    "plt.ylabel(\"True Label\")\n",
    "plt.show()\n",
    "\n",
    "#Plot of a ROC curve for test set\n",
    "fpr, tpr, lol = roc_curve(Y_test,  y_pred)\n",
    "auc3 = roc_auc_score(Y_test, y_pred)\n",
    "plt.plot(fpr,tpr,label=\"Test Data, Auc_T=\"+str(auc3))\n",
    "fpr, tpr, lol = roc_curve(Y_cv,  y_pred_cv)\n",
    "aucCV = roc_auc_score(Y_cv, y_pred_cv)\n",
    "plt.plot(fpr,tpr,label=\"Cv Data, Auc_CV=\"+str(aucCV))\n",
    "plt.legend()\n",
    "plt.show()\n",
    "\n",
    "# Please write all the code with proper documentation\n",
    "heat_map = pd.DataFrame(DecTree.cv_results_)\n",
    "max_scores = heat_map.groupby(['param_max_depth', \n",
    "                                    'param_min_samples_split']).max()\n",
    "max_scores = max_scores.unstack()[['mean_test_score', 'mean_train_score']]\n",
    "plt.figure(figsize=(16,5))\n",
    "sns.heatmap(max_scores.mean_test_score, annot=True, fmt='.4g');"
   ]
  },
  {
   "cell_type": "markdown",
   "metadata": {
    "colab_type": "text",
    "id": "PnwVzXytiWO7"
   },
   "source": [
    "## [5.4] Applying Decision Trees on TFIDF W2V,<font color='red'> SET 4</font>"
   ]
  },
  {
   "cell_type": "code",
   "execution_count": 91,
   "metadata": {
    "colab": {},
    "colab_type": "code",
    "id": "YqODkVCgiWO7"
   },
   "outputs": [
    {
     "name": "stdout",
     "output_type": "stream",
     "text": [
      "{'max_depth': 8, 'min_samples_split': 50}\n",
      "Wall time: 4min 33s\n"
     ]
    }
   ],
   "source": [
    "%%time\n",
    "hyperParams  = {'max_depth':[4,6,8,9,10,12,14,17],'min_samples_split':[2,10,20,30,40,50]}\n",
    "paramFinder = DecisionTreeClassifier(class_weight='balanced')\n",
    "\n",
    "DecTree = GridSearchCV(paramFinder, hyperParams, cv=5, scoring='roc_auc', return_train_score=True)\n",
    "DecTree.fit(tfidf_sent_vectors_train, Y_tr)\n",
    "print(DecTree.best_params_)\n",
    "p4=DecTree.best_params_\n",
    "y_pred_ConMatrix = DecTree.best_estimator_.predict(tfidf_sent_vectors_test)\n",
    "y_pred = DecTree.best_estimator_.predict_proba(tfidf_sent_vectors_test)[:,1]\n",
    "y_pred_cv = DecTree.best_estimator_.predict_proba(tfidf_sent_vectors_cv)[:,1]\n",
    "y_pred_ConMatrixcv = DecTree.best_estimator_.predict(tfidf_sent_vectors_cv)"
   ]
  },
  {
   "cell_type": "code",
   "execution_count": 92,
   "metadata": {
    "colab": {},
    "colab_type": "code",
    "id": "YqODkVCgiWO7"
   },
   "outputs": [
    {
     "data": {
      "image/png": "[encoded data removed]",
      "text/plain": [
       "<Figure size 432x288 with 1 Axes>"
      ]
     },
     "metadata": {},
     "output_type": "display_data"
    },
    {
     "data": {
      "image/png": "[encoded data removed]",
      "text/plain": [
       "<Figure size 432x288 with 1 Axes>"
      ]
     },
     "metadata": {},
     "output_type": "display_data"
    },
    {
     "data": {
      "image/png": "[encoded data removed]",
      "text/plain": [
       "<Figure size 432x288 with 2 Axes>"
      ]
     },
     "metadata": {},
     "output_type": "display_data"
    },
    {
     "data": {
      "image/png": "[encoded data removed]",
      "text/plain": [
       "<Figure size 432x288 with 2 Axes>"
      ]
     },
     "metadata": {},
     "output_type": "display_data"
    },
    {
     "data": {
      "image/png": "[encoded data removed]",
      "text/plain": [
       "<Figure size 432x288 with 1 Axes>"
      ]
     },
     "metadata": {},
     "output_type": "display_data"
    },
    {
     "data": {
      "image/png": "[encoded data removed]",
      "text/plain": [
       "<Figure size 1152x360 with 2 Axes>"
      ]
     },
     "metadata": {},
     "output_type": "display_data"
    }
   ],
   "source": [
    "# Using CalibratedClassifierCV to get Probabilities\n",
    "sgd_BOW = CalibratedClassifierCV(base_estimator=DecTree.best_estimator_, cv='prefit', method='sigmoid')\n",
    "sgd_BOW.fit(tfidf_sent_vectors_cv, Y_cv)\n",
    "\n",
    "y_pred1 = sgd_BOW.predict_proba(tfidf_sent_vectors_test)[:,1]\n",
    "y_pred_cv1 = sgd_BOW.predict_proba(tfidf_sent_vectors_cv)[:,1]\n",
    "y_pred_ConMatrixTest1 = sgd_BOW.predict(tfidf_sent_vectors_test)\n",
    "y_pred_ConMatrixCv1 = sgd_BOW.predict(tfidf_sent_vectors_cv)\n",
    "\n",
    "# Calibration curve\n",
    "fop_uncalibrated, mpv_uncalibrated = calibration_curve(Y_cv, y_pred_cv, n_bins=10, normalize=True)\n",
    "fop_calibrated, mpv_calibrated = calibration_curve(Y_cv, y_pred_cv1, n_bins=10, normalize=True)\n",
    "arr1,=plt.plot([0, 1], [0, 1], linestyle='--', color='black',label='Base')\n",
    "arr2,=plt.plot(mpv_uncalibrated, fop_uncalibrated, marker='.',color='cyan',label='Uncalibrated')\n",
    "arr3,=plt.plot(mpv_calibrated, fop_calibrated,marker='.',label='Calibrated')\n",
    "plt.legend([arr1, arr2, arr3], ['Base','Uncalibrated','Calibrated'])\n",
    "plt.show()\n",
    "\n",
    "trainTest = pd.DataFrame(DecTree.cv_results_)\n",
    "plt.plot(trainTest['param_max_depth'],trainTest['mean_test_score'],label='Test Score');\n",
    "plt.plot(trainTest['param_max_depth'],trainTest['mean_train_score'],label='Train Score');\n",
    "plt.xlabel(\"Tree Depth\")\n",
    "plt.ylabel(\"AUC Score\")\n",
    "plt.legend()\n",
    "plt.show()\n",
    "\n",
    "#Confusion Matrix\n",
    "conf_mat = confusion_matrix(Y_test, y_pred_ConMatrix)\n",
    "\n",
    "#Confusion Matrix Heatmap\n",
    "class_label = [\"0\", \"1\"]\n",
    "df = pd.DataFrame(conf_mat, index = class_label, columns = class_label)\n",
    "sns.heatmap(df, annot = True,fmt=\"d\",cmap=\"Spectral\")\n",
    "plt.title(\"Confusion Matrix(Test Data)\")\n",
    "plt.xlabel(\"Predicted Label\")\n",
    "plt.ylabel(\"True Label\")\n",
    "plt.show()\n",
    "\n",
    "#Confusion Matrix\n",
    "conf_mat = confusion_matrix(Y_cv, y_pred_ConMatrixcv)\n",
    "\n",
    "#Confusion Matrix Heatmap\n",
    "class_label = [\"0\", \"1\"]\n",
    "df = pd.DataFrame(conf_mat, index = class_label, columns = class_label)\n",
    "sns.heatmap(df, annot = True,fmt=\"d\",cmap=\"Spectral\")\n",
    "plt.title(\"Confusion Matrix(CV Data)\")\n",
    "plt.xlabel(\"Predicted Label\")\n",
    "plt.ylabel(\"True Label\")\n",
    "plt.show()\n",
    "\n",
    "#Plot of a ROC curve for test set\n",
    "fpr, tpr, lol = roc_curve(Y_test,  y_pred)\n",
    "auc4 = roc_auc_score(Y_test, y_pred)\n",
    "plt.plot(fpr,tpr,label=\"Test Data, auc=\"+str(auc4))    \n",
    "#Plot of a ROC curve for cv set\n",
    "fpr, tpr, lol = roc_curve(Y_cv,  y_pred_cv)\n",
    "aucCV = roc_auc_score(Y_cv, y_pred_cv)\n",
    "plt.plot(fpr,tpr,label=\"Cv Data, auc=\"+str(aucCV))\n",
    "plt.legend(loc=4)\n",
    "plt.show()\n",
    "\n",
    "heat_map = pd.DataFrame(DecTree.cv_results_)\n",
    "max_scores = heat_map.groupby(['param_max_depth', \n",
    "                                    'param_min_samples_split']).max()\n",
    "max_scores = max_scores.unstack()[['mean_test_score', 'mean_train_score']]\n",
    "plt.figure(figsize=(16,5))\n",
    "sns.heatmap(max_scores.mean_test_score, annot=True, fmt='.4g');"
   ]
  },
  {
   "cell_type": "markdown",
   "metadata": {
    "colab_type": "text",
    "id": "Em-rF6u2iWO8"
   },
   "source": [
    "# [6] Conclusions"
   ]
  },
  {
   "cell_type": "code",
   "execution_count": 93,
   "metadata": {
    "colab": {},
    "colab_type": "code",
    "id": "3Hnu2QziiWO9"
   },
   "outputs": [
    {
     "name": "stdout",
     "output_type": "stream",
     "text": [
      "+-------------+--------------------------------------------+--------------------+\n",
      "| Vector Type |             Optimal Parameters             |        AUC         |\n",
      "+-------------+--------------------------------------------+--------------------+\n",
      "|     BOW     | {'max_depth': 14, 'min_samples_split': 50} | 0.7923138503401361 |\n",
      "|    TF-IDF   | {'max_depth': 12, 'min_samples_split': 50} | 0.7825420770975057 |\n",
      "|   Avg-W2V   | {'max_depth': 8, 'min_samples_split': 50}  | 0.8191404807256236 |\n",
      "|  TF-IDF W2V | {'max_depth': 8, 'min_samples_split': 50}  | 0.8039090612244898 |\n",
      "+-------------+--------------------------------------------+--------------------+\n"
     ]
    }
   ],
   "source": [
    "# Please compare all your models using Prettytable library\n",
    "from prettytable import PrettyTable    \n",
    "Table = PrettyTable()\n",
    "Table.field_names = [\"Vector Type\", \"Optimal Parameters\",\"AUC\"]\n",
    "Table.add_row([\"BOW\",p1,auc1])\n",
    "Table.add_row([\"TF-IDF\",p2,auc2])\n",
    "Table.add_row([\"Avg-W2V\",p3,auc3])\n",
    "Table.add_row([\"TF-IDF W2V\",p4,auc4])\n",
    "print(Table)"
   ]
  },
  {
   "cell_type": "code",
   "execution_count": null,
   "metadata": {},
   "outputs": [],
   "source": [
    "didnt find any use of Calibration. Non calibrated results were better in the graph"
   ]
  }
 ],
 "metadata": {
  "colab": {
   "collapsed_sections": [
    "NTwQITJKiWN5",
    "T_LFck8iiWOX",
    "mjfrB76yiWOa",
    "0tcbbZxSiWOd",
    "u566lt93iWOf",
    "mUNnof40iWOl",
    "heHLB_FCiWOm",
    "ylTn3LgiiWOo",
    "NVhl_V6MiWO5",
    "PnwVzXytiWO7"
   ],
   "name": "08 Amazon Fine Food Reviews Analysis_Decision Trees.ipynb",
   "provenance": [],
   "version": "0.3.2"
  },
  "kernelspec": {
   "display_name": "Python 3",
   "language": "python",
   "name": "python3"
  },
  "language_info": {
   "codemirror_mode": {
    "name": "ipython",
    "version": 3
   },
   "file_extension": ".py",
   "mimetype": "text/x-python",
   "name": "python",
   "nbconvert_exporter": "python",
   "pygments_lexer": "ipython3",
   "version": "3.6.5"
  }
 },
 "nbformat": 4,
 "nbformat_minor": 1
}
